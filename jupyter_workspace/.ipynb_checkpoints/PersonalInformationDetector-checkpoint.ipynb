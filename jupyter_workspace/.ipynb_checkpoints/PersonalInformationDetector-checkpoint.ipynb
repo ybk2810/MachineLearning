{
 "cells": [
  {
   "cell_type": "code",
   "execution_count": 131,
   "metadata": {},
   "outputs": [],
   "source": [
    "import numpy as np\n",
    "import pandas as pd\n",
    "from pandas import Series, DataFrame"
   ]
  },
  {
   "cell_type": "code",
   "execution_count": 132,
   "metadata": {},
   "outputs": [
    {
     "name": "stdout",
     "output_type": "stream",
     "text": [
      "                     0\n",
      "0        8212228345661\n",
      "1       095245-1424c45\n",
      "2       990909-9123459\n",
      "3       111111 2333325\n",
      "4     1234567890123456\n",
      "5  1234 5678 9012 3456\n",
      "6  1234-5645-2546-2avc\n",
      "7  4321-4321 4321 4321\n",
      "8       111111 2111111\n"
     ]
    }
   ],
   "source": [
    "data = pd.read_csv(\"info.txt\", header = None)\n",
    "data.columns=['number']\n",
    "print(txtdata)"
   ]
  },
  {
   "cell_type": "code",
   "execution_count": 133,
   "metadata": {},
   "outputs": [],
   "source": [
    "data = data.astype('str')"
   ]
  },
  {
   "cell_type": "code",
   "execution_count": 134,
   "metadata": {},
   "outputs": [],
   "source": [
    "data=data.replace('-','')"
   ]
  },
  {
   "cell_type": "code",
   "execution_count": 135,
   "metadata": {},
   "outputs": [],
   "source": [
    "data2 = data['number'].str.replace('-','')"
   ]
  },
  {
   "cell_type": "code",
   "execution_count": 136,
   "metadata": {},
   "outputs": [
    {
     "data": {
      "text/plain": [
       "0       8212228345661\n",
       "1       0952451424c45\n",
       "2       9909099123459\n",
       "3       1111112333325\n",
       "4    1234567890123456\n",
       "5    1234567890123456\n",
       "6    1234564525462avc\n",
       "7    4321432143214321\n",
       "8       1111112111111\n",
       "Name: number, dtype: object"
      ]
     },
     "execution_count": 136,
     "metadata": {},
     "output_type": "execute_result"
    }
   ],
   "source": [
    "data2.str.replace(' ','')"
   ]
  },
  {
   "cell_type": "code",
   "execution_count": 137,
   "metadata": {},
   "outputs": [],
   "source": [
    "data3 = []"
   ]
  },
  {
   "cell_type": "code",
   "execution_count": 138,
   "metadata": {},
   "outputs": [
    {
     "data": {
      "text/plain": [
       "0       8212228345661\n",
       "1        095245142445\n",
       "2       9909099123459\n",
       "3       1111112333325\n",
       "4    1234567890123456\n",
       "5    1234567890123456\n",
       "6       1234564525462\n",
       "7    4321432143214321\n",
       "8       1111112111111\n",
       "Name: number, dtype: object"
      ]
     },
     "execution_count": 138,
     "metadata": {},
     "output_type": "execute_result"
    }
   ],
   "source": [
    "data2 = data['number'].str.replace('-','')\n",
    "data2 = data2.str.replace(' ','')\n",
    "\n",
    "b = \"abcdefghijklmnopqrstuvwxyz\"\n",
    "for char in b:\n",
    "    data2 = data2.str.replace(char,'')\n",
    "    \n",
    "data2"
   ]
  },
  {
   "cell_type": "code",
   "execution_count": 150,
   "metadata": {},
   "outputs": [
    {
     "name": "stdout",
     "output_type": "stream",
     "text": [
      "입력값: [ 8212228345661 ] 는 주민등록번호입니다.\n",
      "입력값: [ 095245-1424c45 ] 는 개인정보가 아닙니다.\n",
      "입력값: [ 990909-9123459 ] 는 주민등록번호입니다.\n",
      "입력값: [ 111111 2333325 ] 는 개인정보가 아닙니다.\n",
      "입력값: [ 1234567890123456 ] 는 카드번호입니다.\n",
      "입력값: [ 1234 5678 9012 3456 ] 는 카드번호입니다.\n",
      "입력값: [ 1234-5645-2546-2avc ] 는 개인정보가 아닙니다.\n",
      "입력값: [ 4321-4321 4321 4321 ] 는 카드번호입니다.\n",
      "입력값: [ 111111 2111111 ] 는 주민등록번호입니다.\n"
     ]
    }
   ],
   "source": [
    "for i in range(9):    \n",
    "    if len(data2[i])==13:\n",
    "        m = 0\n",
    "        n = [2,3,4,5,6,7,8,9,2,3,4,5]\n",
    "        for j in range(12):\n",
    "            m += int(data2[i][j])*n[j]\n",
    "        m = (11-m%11)%10\n",
    "        if m==int(data2[i][12]):\n",
    "            print(\"입력값: [\", data['number'][i],\"] 는 주민등록번호입니다.\")\n",
    "        else:\n",
    "            print(\"입력값: [\", data['number'][i],\"] 는 개인정보가 아닙니다.\")\n",
    "    else: \n",
    "        if len(data2[i])==16:\n",
    "            print(\"입력값: [\", data['number'][i],\"] 는 카드번호입니다.\")\n",
    "        else:\n",
    "            print(\"입력값: [\", data['number'][i],\"] 는 개인정보가 아닙니다.\")"
   ]
  },
  {
   "cell_type": "code",
   "execution_count": null,
   "metadata": {},
   "outputs": [],
   "source": []
  },
  {
   "cell_type": "code",
   "execution_count": null,
   "metadata": {},
   "outputs": [],
   "source": []
  },
  {
   "cell_type": "code",
   "execution_count": null,
   "metadata": {},
   "outputs": [],
   "source": []
  },
  {
   "cell_type": "code",
   "execution_count": null,
   "metadata": {},
   "outputs": [],
   "source": []
  },
  {
   "cell_type": "code",
   "execution_count": null,
   "metadata": {},
   "outputs": [],
   "source": []
  }
 ],
 "metadata": {
  "kernelspec": {
   "display_name": "Python 3",
   "language": "python",
   "name": "python3"
  },
  "language_info": {
   "codemirror_mode": {
    "name": "ipython",
    "version": 3
   },
   "file_extension": ".py",
   "mimetype": "text/x-python",
   "name": "python",
   "nbconvert_exporter": "python",
   "pygments_lexer": "ipython3",
   "version": "3.7.0"
  }
 },
 "nbformat": 4,
 "nbformat_minor": 2
}
