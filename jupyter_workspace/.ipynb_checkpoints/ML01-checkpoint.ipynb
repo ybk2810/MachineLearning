{
 "cells": [
  {
   "cell_type": "code",
   "execution_count": 97,
   "metadata": {},
   "outputs": [],
   "source": [
    "# R, Python\n",
    "# tensorflow\n",
    "# environments tensorflow 설치\n",
    "# 안되면 아나콘다3 -> anaconda prompt\n",
    "# conda update -n base conda\n",
    "# pip install tensorflow\n",
    "# 버전 낮으면 python -m pip install --upgrade pip\n",
    "# pip install tensorflow  안되면\n",
    "\n",
    "# 환경변경\n",
    "# conda create -n tensorflow python=3.5\n",
    "# 설치 y\n",
    "# activate tensorflow\n",
    "# pip install tensorflow\n",
    "# python\n",
    "#import tensorflow as tf\n",
    "#hello = tf.constant(\"hello, Tensorflow\")\n",
    "#sess = tf.Session()\n",
    "#print(sess.run(hello))\n",
    "\n",
    "# 아나콘다 오면 tensorflow 추가 댐 environments 에서 다시 tensorflow 설치"
   ]
  },
  {
   "cell_type": "code",
   "execution_count": 98,
   "metadata": {},
   "outputs": [
    {
     "data": {
      "text/plain": [
       "'1.11.0'"
      ]
     },
     "execution_count": 98,
     "metadata": {},
     "output_type": "execute_result"
    }
   ],
   "source": [
    "import tensorflow as tf\n",
    "tf.__version__ # 버젼 확인\n",
    "# 0.xx 베타판\n",
    "# 1.xx 정식"
   ]
  },
  {
   "cell_type": "code",
   "execution_count": 99,
   "metadata": {},
   "outputs": [
    {
     "name": "stdout",
     "output_type": "stream",
     "text": [
      "Tensor(\"Const_6:0\", shape=(), dtype=string)\n"
     ]
    }
   ],
   "source": [
    "hello=tf.constant(\"hello Tensorflow World!!\")\n",
    "print(hello)"
   ]
  },
  {
   "cell_type": "code",
   "execution_count": 100,
   "metadata": {},
   "outputs": [
    {
     "name": "stdout",
     "output_type": "stream",
     "text": [
      "<tensorflow.python.client.session.Session object at 0x000000000FCCFB00>\n"
     ]
    }
   ],
   "source": [
    "sess = tf.Session()\n",
    "print(sess)"
   ]
  },
  {
   "cell_type": "code",
   "execution_count": 101,
   "metadata": {},
   "outputs": [
    {
     "data": {
      "text/plain": [
       "b'hello Tensorflow World!!'"
      ]
     },
     "execution_count": 101,
     "metadata": {},
     "output_type": "execute_result"
    }
   ],
   "source": [
    "sess.run(hello)"
   ]
  },
  {
   "cell_type": "code",
   "execution_count": 102,
   "metadata": {},
   "outputs": [],
   "source": [
    "# b' : byte literal\n",
    "# 바이트형식으로 된 소스코드의 고정된 값"
   ]
  },
  {
   "cell_type": "code",
   "execution_count": 103,
   "metadata": {},
   "outputs": [
    {
     "name": "stdout",
     "output_type": "stream",
     "text": [
      "Tensor(\"Const_7:0\", shape=(), dtype=float32) Tensor(\"Const_8:0\", shape=(), dtype=float32)\n"
     ]
    }
   ],
   "source": [
    "node1 = tf.constant(3.0, dtype=tf.float32)\n",
    "# java식으로 표현하자면 float node1 = 3.0f\n",
    "node2 = tf.constant(4.0)\n",
    "print(node1, node2)"
   ]
  },
  {
   "cell_type": "code",
   "execution_count": 104,
   "metadata": {},
   "outputs": [
    {
     "name": "stdout",
     "output_type": "stream",
     "text": [
      "Tensor(\"Add_12:0\", shape=(), dtype=float32)\n"
     ]
    }
   ],
   "source": [
    "# 덧셈\n",
    "node3 = tf.add(node1,node2)\n",
    "print(node3)"
   ]
  },
  {
   "cell_type": "code",
   "execution_count": 105,
   "metadata": {},
   "outputs": [
    {
     "data": {
      "text/plain": [
       "[3.0, 4.0]"
      ]
     },
     "execution_count": 105,
     "metadata": {},
     "output_type": "execute_result"
    }
   ],
   "source": [
    "# session을 run\n",
    "sess = tf.Session()\n",
    "sess.run([node1,node2])"
   ]
  },
  {
   "cell_type": "code",
   "execution_count": 106,
   "metadata": {},
   "outputs": [
    {
     "data": {
      "text/plain": [
       "7.0"
      ]
     },
     "execution_count": 106,
     "metadata": {},
     "output_type": "execute_result"
    }
   ],
   "source": [
    "sess.run(node3)"
   ]
  },
  {
   "cell_type": "markdown",
   "metadata": {},
   "source": [
    "<h3>상수값을 정해 놓지 말고 런타임시에 지정해주고 싶다 : PlaceHolder"
   ]
  },
  {
   "cell_type": "code",
   "execution_count": 107,
   "metadata": {},
   "outputs": [
    {
     "data": {
      "text/plain": [
       "<tf.Tensor 'Placeholder_22:0' shape=<unknown> dtype=float32>"
      ]
     },
     "execution_count": 107,
     "metadata": {},
     "output_type": "execute_result"
    }
   ],
   "source": [
    "a = tf.placeholder(tf.float32)\n",
    "a"
   ]
  },
  {
   "cell_type": "code",
   "execution_count": 108,
   "metadata": {},
   "outputs": [
    {
     "data": {
      "text/plain": [
       "<tf.Tensor 'Placeholder_23:0' shape=<unknown> dtype=float32>"
      ]
     },
     "execution_count": 108,
     "metadata": {},
     "output_type": "execute_result"
    }
   ],
   "source": [
    "b = tf.placeholder(tf.float32)\n",
    "b"
   ]
  },
  {
   "cell_type": "code",
   "execution_count": 109,
   "metadata": {},
   "outputs": [
    {
     "data": {
      "text/plain": [
       "<tf.Tensor 'add_13:0' shape=<unknown> dtype=float32>"
      ]
     },
     "execution_count": 109,
     "metadata": {},
     "output_type": "execute_result"
    }
   ],
   "source": [
    "node3=a+b\n",
    "node3"
   ]
  },
  {
   "cell_type": "code",
   "execution_count": 110,
   "metadata": {},
   "outputs": [
    {
     "data": {
      "text/plain": [
       "13.0"
      ]
     },
     "execution_count": 110,
     "metadata": {},
     "output_type": "execute_result"
    }
   ],
   "source": [
    "# 실행시에는 항상 세션을 가져와서 run\n",
    "sess = tf.Session()\n",
    "sess.run(node3,feed_dict={a:3,b:10})\n",
    "# feed_dict : dict 타입 데이터를 입력값으로 쓴다"
   ]
  },
  {
   "cell_type": "code",
   "execution_count": 111,
   "metadata": {},
   "outputs": [
    {
     "data": {
      "text/plain": [
       "array([13., 25.], dtype=float32)"
      ]
     },
     "execution_count": 111,
     "metadata": {},
     "output_type": "execute_result"
    }
   ],
   "source": [
    "sess.run(node3,feed_dict={a:[3,5],b:[10,20]}) # 값이 한개일 필요는 없다"
   ]
  },
  {
   "cell_type": "code",
   "execution_count": 112,
   "metadata": {},
   "outputs": [
    {
     "data": {
      "text/plain": [
       "7.0"
      ]
     },
     "execution_count": 112,
     "metadata": {},
     "output_type": "execute_result"
    }
   ],
   "source": [
    "# i , j 를 상수를 선언하고 둘을 뺀값을 node4 라고 선언\n",
    "# 실행시 i = 10 , j = 3 을 입력해서 실행하고자 한다 tensorflow\n",
    "i = tf.placeholder(tf.float32)\n",
    "j = tf.placeholder(tf.float32)\n",
    "node4=i-j\n",
    "sess = tf.Session()\n",
    "sess.run(node4,feed_dict={i:10,j:3})"
   ]
  },
  {
   "cell_type": "code",
   "execution_count": 113,
   "metadata": {},
   "outputs": [
    {
     "data": {
      "text/plain": [
       "<tf.Variable 'Variable_14:0' shape=() dtype=string_ref>"
      ]
     },
     "execution_count": 113,
     "metadata": {},
     "output_type": "execute_result"
    }
   ],
   "source": [
    "# Tensorflow Rank / 0 , 1 , 2 , 3 , n\n",
    "m = tf.Variable(\"Elephant\",tf.string)\n",
    "m"
   ]
  },
  {
   "cell_type": "code",
   "execution_count": 114,
   "metadata": {},
   "outputs": [
    {
     "data": {
      "text/plain": [
       "<tf.Tensor 'Rank_12:0' shape=() dtype=int32>"
      ]
     },
     "execution_count": 114,
     "metadata": {},
     "output_type": "execute_result"
    }
   ],
   "source": [
    "r = tf.rank(m)\n",
    "r \n",
    "# Rank : 0 : Scalar     s = 123  상수\n",
    "# rank : 1 : Vector     v = [1.1,2.2,3.3]  배열\n",
    "# rank : 2 : Matrix     m = [[1,2,3],[4,5,6],[7,8,9]] 행 열\n",
    "# rank : 3 : 3-tensor  (cube of numbers) / t [[[2],[4],[6]],[[8],[10],[12]],[[14],[16],[18]]] / 3차원 \n",
    "# rank : n : n-tensor"
   ]
  },
  {
   "cell_type": "code",
   "execution_count": 115,
   "metadata": {},
   "outputs": [
    {
     "data": {
      "text/plain": [
       "<tf.Tensor 'ones_4:0' shape=(3, 4) dtype=float32>"
      ]
     },
     "execution_count": 115,
     "metadata": {},
     "output_type": "execute_result"
    }
   ],
   "source": [
    "# 3행 4열짜리 \n",
    "rank2_tensor = tf.ones([3,4])\n",
    "rank2_tensor"
   ]
  },
  {
   "cell_type": "code",
   "execution_count": 116,
   "metadata": {},
   "outputs": [],
   "source": [
    "tf.ones?"
   ]
  },
  {
   "cell_type": "code",
   "execution_count": 117,
   "metadata": {},
   "outputs": [
    {
     "data": {
      "text/plain": [
       "array([[1., 1., 1., 1.],\n",
       "       [1., 1., 1., 1.],\n",
       "       [1., 1., 1., 1.]], dtype=float32)"
      ]
     },
     "execution_count": 117,
     "metadata": {},
     "output_type": "execute_result"
    }
   ],
   "source": [
    "sess = tf.Session()\n",
    "sess.run(rank2_tensor)"
   ]
  },
  {
   "cell_type": "code",
   "execution_count": 118,
   "metadata": {},
   "outputs": [
    {
     "data": {
      "text/plain": [
       "<tf.Tensor 'ones_5:0' shape=(3, 4, 5) dtype=float32>"
      ]
     },
     "execution_count": 118,
     "metadata": {},
     "output_type": "execute_result"
    }
   ],
   "source": [
    "# 4행 5열 3면 1\n",
    "rank3_tensor = tf.ones([3,4,5]) # 면, 행, 열  순으로\n",
    "rank3_tensor"
   ]
  },
  {
   "cell_type": "code",
   "execution_count": 119,
   "metadata": {},
   "outputs": [
    {
     "data": {
      "text/plain": [
       "array([[[1., 1., 1., 1., 1.],\n",
       "        [1., 1., 1., 1., 1.],\n",
       "        [1., 1., 1., 1., 1.],\n",
       "        [1., 1., 1., 1., 1.]],\n",
       "\n",
       "       [[1., 1., 1., 1., 1.],\n",
       "        [1., 1., 1., 1., 1.],\n",
       "        [1., 1., 1., 1., 1.],\n",
       "        [1., 1., 1., 1., 1.]],\n",
       "\n",
       "       [[1., 1., 1., 1., 1.],\n",
       "        [1., 1., 1., 1., 1.],\n",
       "        [1., 1., 1., 1., 1.],\n",
       "        [1., 1., 1., 1., 1.]]], dtype=float32)"
      ]
     },
     "execution_count": 119,
     "metadata": {},
     "output_type": "execute_result"
    }
   ],
   "source": [
    "sess.run(rank3_tensor)"
   ]
  },
  {
   "cell_type": "code",
   "execution_count": 120,
   "metadata": {},
   "outputs": [
    {
     "data": {
      "text/plain": [
       "<tf.Tensor 'Reshape_2:0' shape=(6, 10) dtype=float32>"
      ]
     },
     "execution_count": 120,
     "metadata": {},
     "output_type": "execute_result"
    }
   ],
   "source": [
    "# 모양 바꾸기\n",
    "m = tf.reshape(rank3_tensor,[6,10])\n",
    "m"
   ]
  },
  {
   "cell_type": "code",
   "execution_count": 121,
   "metadata": {},
   "outputs": [
    {
     "data": {
      "text/plain": [
       "array([[1., 1., 1., 1., 1., 1., 1., 1., 1., 1.],\n",
       "       [1., 1., 1., 1., 1., 1., 1., 1., 1., 1.],\n",
       "       [1., 1., 1., 1., 1., 1., 1., 1., 1., 1.],\n",
       "       [1., 1., 1., 1., 1., 1., 1., 1., 1., 1.],\n",
       "       [1., 1., 1., 1., 1., 1., 1., 1., 1., 1.],\n",
       "       [1., 1., 1., 1., 1., 1., 1., 1., 1., 1.]], dtype=float32)"
      ]
     },
     "execution_count": 121,
     "metadata": {},
     "output_type": "execute_result"
    }
   ],
   "source": [
    "sess.run(m)"
   ]
  },
  {
   "cell_type": "code",
   "execution_count": 122,
   "metadata": {},
   "outputs": [
    {
     "data": {
      "image/png": "[encoded data removed]",
      "text/plain": [
       "<IPython.core.display.Image object>"
      ]
     },
     "execution_count": 122,
     "metadata": {
      "image/png": {
       "height": 400,
       "width": 600
      }
     },
     "output_type": "execute_result"
    }
   ],
   "source": [
    "from IPython.display import Image\n",
    "Image(\"img/data.png\", height=400, width=600)"
   ]
  },
  {
   "cell_type": "code",
   "execution_count": 123,
   "metadata": {},
   "outputs": [
    {
     "name": "stdout",
     "output_type": "stream",
     "text": [
      "[0.3]\n",
      "[-0.3]\n"
     ]
    }
   ],
   "source": [
    "# y = W(가중치)*x +b(절편) 선형식을 연산\n",
    "\n",
    "x = tf.placeholder(tf.float32)\n",
    "\n",
    "# 아직 정해지지는 않았지만 일단 값을 하나씩 부여\n",
    "W = tf.Variable([0.3],tf.float32)\n",
    "b = tf.Variable([-0.3],tf.float32)\n",
    "\n",
    "linear_model = W*x+b\n",
    "\n",
    "# 수는 초기화 해서 사용해야 한다. 초기화 함수를 init으로 지정\n",
    "init = tf.global_variables_initializer()\n",
    "\n",
    "sess = tf.Session()\n",
    "sess.run(init) # 초기화\n",
    "\n",
    "print(sess.run(W))\n",
    "print(sess.run(b))"
   ]
  },
  {
   "cell_type": "code",
   "execution_count": 124,
   "metadata": {},
   "outputs": [
    {
     "data": {
      "text/plain": [
       "array([0.3       , 0.90000004, 1.5       , 2.1000001 , 2.7       ],\n",
       "      dtype=float32)"
      ]
     },
     "execution_count": 124,
     "metadata": {},
     "output_type": "execute_result"
    }
   ],
   "source": [
    "sess.run(linear_model,feed_dict={x:[2,4,6,8,10]})"
   ]
  },
  {
   "cell_type": "code",
   "execution_count": 125,
   "metadata": {},
   "outputs": [
    {
     "name": "stdout",
     "output_type": "stream",
     "text": [
      "---------------------------------\n"
     ]
    }
   ],
   "source": [
    "print(\"---------------------------------\")"
   ]
  },
  {
   "cell_type": "code",
   "execution_count": 126,
   "metadata": {},
   "outputs": [
    {
     "data": {
      "text/plain": [
       "<tf.Tensor 'Square_10:0' shape=<unknown> dtype=float32>"
      ]
     },
     "execution_count": 126,
     "metadata": {},
     "output_type": "execute_result"
    }
   ],
   "source": [
    "y = tf.placeholder(tf.float32)\n",
    "\n",
    "# 모델의 예측값과 실제 결과값의 차이\n",
    "squared_deltas = tf.square(linear_model- y)\n",
    "squared_deltas"
   ]
  },
  {
   "cell_type": "code",
   "execution_count": 127,
   "metadata": {},
   "outputs": [
    {
     "data": {
      "text/plain": [
       "3598.97"
      ]
     },
     "execution_count": 127,
     "metadata": {},
     "output_type": "execute_result"
    }
   ],
   "source": [
    "# cost,loss\n",
    "loss = tf.reduce_mean(squared_deltas)\n",
    "\n",
    "# loss를 최소화 할 수 있는 W, b \n",
    "sess.run(loss, feed_dict={x:[2,4,6,8,10],y:[40,50,60,70,80]})"
   ]
  },
  {
   "cell_type": "code",
   "execution_count": 128,
   "metadata": {},
   "outputs": [],
   "source": [
    "import matplotlib.pyplot as plt"
   ]
  },
  {
   "cell_type": "code",
   "execution_count": 129,
   "metadata": {},
   "outputs": [
    {
     "data": {
      "image/png": "[encoded data removed]",
      "text/plain": [
       "<Figure size 432x288 with 1 Axes>"
      ]
     },
     "metadata": {
      "needs_background": "light"
     },
     "output_type": "display_data"
    }
   ],
   "source": [
    "x1 = [2,4,6,8,10]\n",
    "y1 = [40,50,60,70,80]\n",
    "\n",
    "w = tf.placeholder(tf.float32)\n",
    "loss = tf.reduce_mean(tf.square(w*x1+b-y1))\n",
    "session = tf.Session()\n",
    "session.run(tf.global_variables_initializer())\n",
    "\n",
    "# w의 변화에 따른 loss 에 변화를 그래프로 보고자 한다\n",
    "\n",
    "wList=[]\n",
    "lossList=[]\n",
    "\n",
    "for i in range(-30,200):\n",
    "    feed_w = i*0.1\n",
    "    curr_loss, curr_w = session.run([loss,w],feed_dict=({w:feed_w}))\n",
    "    wList.append(curr_w)\n",
    "    lossList.append(curr_loss)\n",
    "\n",
    "plt.plot(wList,lossList)\n",
    "plt.show()"
   ]
  },
  {
   "cell_type": "code",
   "execution_count": 130,
   "metadata": {},
   "outputs": [
    {
     "name": "stdout",
     "output_type": "stream",
     "text": [
      "name: \"GradientDescent_6\"\n",
      "op: \"NoOp\"\n",
      "input: \"^GradientDescent_6/update_Variable_15/ApplyGradientDescent\"\n",
      "input: \"^GradientDescent_6/update_Variable_16/ApplyGradientDescent\"\n",
      "\n"
     ]
    }
   ],
   "source": [
    "# loss 값을 최소화 될 수 있게 하는 W. b를 구하면 된다\n",
    "# 경사 하강(감소) 알고리즘 (Gradient Descent Algorism)\n",
    "\n",
    "squared_deltas = tf.square(linear_model - y )\n",
    "loss = tf.reduce_mean(squared_deltas)\n",
    "\n",
    "optimizer = tf.train.GradientDescentOptimizer(0.01)\n",
    "train = optimizer.minimize(loss)\n",
    "print(train)"
   ]
  },
  {
   "cell_type": "code",
   "execution_count": 131,
   "metadata": {},
   "outputs": [
    {
     "name": "stdout",
     "output_type": "stream",
     "text": [
      "[array([5.1115417], dtype=float32), array([29.185345], dtype=float32)]\n"
     ]
    }
   ],
   "source": [
    "session.run(tf.global_variables_initializer())\n",
    "for i in range(1000):\n",
    "    session.run(train, feed_dict={x:[2,4,6,8,10],y:[40,50,60,70,80]})\n",
    "    \n",
    "print(session.run([W,b]))"
   ]
  },
  {
   "cell_type": "code",
   "execution_count": 132,
   "metadata": {},
   "outputs": [
    {
     "name": "stdout",
     "output_type": "stream",
     "text": [
      "39.408428400000005 40\n",
      "49.6315118 50\n",
      "59.854595200000006 60\n",
      "70.0776786 70\n",
      "80.300762 80\n"
     ]
    }
   ],
   "source": [
    "# 가중치와 절편이 잘 찾았는지 알아내기 위해 확인\n",
    "print(5.1115417*2+29.185345,40)\n",
    "print(5.1115417*4+29.185345,50)\n",
    "print(5.1115417*6+29.185345,60)\n",
    "print(5.1115417*8+29.185345,70)\n",
    "print(5.1115417*10+29.185345,80)"
   ]
  },
  {
   "cell_type": "code",
   "execution_count": 133,
   "metadata": {},
   "outputs": [
    {
     "name": "stdout",
     "output_type": "stream",
     "text": [
      "11.897517142430825\n"
     ]
    }
   ],
   "source": [
    "print((90-29.185345)/5.1115417)"
   ]
  },
  {
   "cell_type": "code",
   "execution_count": 134,
   "metadata": {},
   "outputs": [
    {
     "data": {
      "image/png": "[encoded data removed]",
      "text/plain": [
       "<IPython.core.display.Image object>"
      ]
     },
     "execution_count": 134,
     "metadata": {},
     "output_type": "execute_result"
    }
   ],
   "source": [
    "from IPython.display import Image\n",
    "Image(\"img/hw1.png\")"
   ]
  },
  {
   "cell_type": "code",
   "execution_count": 135,
   "metadata": {
    "scrolled": true
   },
   "outputs": [
    {
     "data": {
      "image/png": "[encoded data removed]",
      "text/plain": [
       "<Figure size 432x288 with 1 Axes>"
      ]
     },
     "metadata": {
      "needs_background": "light"
     },
     "output_type": "display_data"
    }
   ],
   "source": [
    "# 점들을 시각화\n",
    "xx = [4.0391,1.3197,9.5613,0.5978,3.5316,0.154,1.6899,7.3172,4.5092,2.9632]\n",
    "yy = [11.4215,10.0112,30.2991,1.0625,13.1776,-3.1976,6.7367,23.855,14.8951,11.6137]\n",
    "plt.plot(xx,yy,'b*')\n",
    "plt.show()"
   ]
  },
  {
   "cell_type": "code",
   "execution_count": 136,
   "metadata": {},
   "outputs": [
    {
     "name": "stdout",
     "output_type": "stream",
     "text": [
      "name: \"GradientDescent_7\"\n",
      "op: \"NoOp\"\n",
      "input: \"^GradientDescent_7/update_Variable_17/ApplyGradientDescent\"\n",
      "input: \"^GradientDescent_7/update_Variable_18/ApplyGradientDescent\"\n",
      "\n"
     ]
    }
   ],
   "source": [
    "# 10개의 점들을 가장 잘 설명하는 선형모델의 매개변수 w, b 를 구하면?\n",
    "\n",
    "w = tf.Variable(tf.random_normal([1],-5.0,5.0))\n",
    "b = tf.Variable(tf.random_normal([1],-5.0,5.0))\n",
    "\n",
    "x = tf.placeholder(tf.float32)\n",
    "y = tf.placeholder(tf.float32)\n",
    "\n",
    "model = w*x+b\n",
    "loss = tf.reduce_mean(tf.square(model-y))\n",
    "optimizer = tf.train.GradientDescentOptimizer(0.01)\n",
    "train = optimizer.minimize(loss)\n",
    "print(train)"
   ]
  },
  {
   "cell_type": "code",
   "execution_count": 137,
   "metadata": {},
   "outputs": [
    {
     "name": "stdout",
     "output_type": "stream",
     "text": [
      "loss :  1248.2483 model :  [-18.710613  -7.89619  -40.67112   -5.025362 -16.692404  -3.260472\n",
      "  -9.36839  -31.746857 -20.580091 -14.432009]\n",
      "loss :  7.065399 model :  [12.818346   3.3828585 31.978693   0.8780863 11.057475  -0.6617642\n",
      "  4.6673393 24.192352  14.449449   9.085301 ]\n",
      "loss :  6.861094 model :  [12.975712    3.5283937  32.16008     1.0204811  11.212633   -0.52130014\n",
      "  4.8144855  24.363977   14.60886     9.237987  ]\n",
      "loss :  6.7003455 model :  [13.012901   3.6247818 32.077057   1.1325841 11.26087   -0.3995359\n",
      "  4.902815  24.329805  14.635816   9.298597 ]\n",
      "loss :  6.562125 model :  [13.04698     3.7140167  31.999134    1.2364604  11.305243   -0.28665823\n",
      "  4.984541   24.297398   14.660359    9.354498  ]\n",
      "loss :  6.4432764 model :  [13.078579    3.7967613  31.92687     1.3327825  11.346387   -0.18198925\n",
      "  5.0603228  24.267342   14.683117    9.406332  ]\n",
      "loss :  6.3410883 model :  [13.10788     3.8734884  31.859867    1.4221     11.384538   -0.08493185\n",
      "  5.130594   24.239473   14.704219    9.454396  ]\n",
      "loss :  6.253218 model :  [1.3135050e+01 3.9446366e+00 3.1797731e+01 1.5049224e+00 1.1419915e+01\n",
      " 5.0674677e-03 5.1957545e+00 2.4213631e+01 1.4723787e+01 9.4989662e+00]\n",
      "loss :  6.1776648 model :  [13.160244    4.01061    31.740116    1.5817215  11.452721    0.08852184\n",
      "  5.256177   24.189667   14.741932    9.540295  ]\n",
      "loss :  6.1127005 model :  [13.183606    4.0717864  31.68669     1.6529359  11.483139    0.16590741\n",
      "  5.3122053  24.167446   14.758757    9.578617  ]\n",
      "loss :  6.056842 model :  [13.205269    4.128514   31.637152    1.7189717  11.511346    0.23766541\n",
      "  5.3641596  24.146843   14.774359    9.614153  ]\n",
      "loss :  6.0088105 model :  [13.225356    4.1811156  31.59121     1.7802049  11.537501    0.30420512\n",
      "  5.412335   24.127733   14.788825    9.647104  ]\n",
      "loss :  5.967511 model :  [13.243983    4.2298927  31.548613    1.8369853  11.561755    0.36590603\n",
      "  5.4570074  24.110016   14.80224     9.67766   ]\n",
      "loss :  5.9320006 model :  [13.261256    4.2751226  31.509113    1.8896368  11.584245    0.42311993\n",
      "  5.4984317  24.093588   14.81468     9.705994  ]\n",
      "loss :  5.901468 model :  [13.277273   4.317063  31.472488   1.9384593 11.6051     0.4761732\n",
      "  5.536843  24.078356  14.826216   9.732267 ]\n",
      "loss :  5.875214 model :  [13.292124   4.355953  31.438522   1.9837313 11.624436   0.5253683\n",
      "  5.5724607 24.064226  14.83691    9.756628 ]\n",
      "loss :  5.852639 model :  [13.305896  4.392016 31.40703   2.025711 11.642368  0.570986  5.605489\n",
      " 24.05113  14.846828  9.77922 ]\n",
      "loss :  5.833228 model :  [13.3186655  4.4254556 31.377825   2.0646381 11.658996   0.6132864\n",
      "  5.6361146 24.038982  14.856026   9.800167 ]\n",
      "loss :  5.8165374 model :  [13.330506   4.4564643 31.350746   2.1007345 11.674414   0.6525106\n",
      "  5.664514  24.02772   14.864553   9.8195915]\n",
      "loss :  5.8021865 model :  [13.341487    4.4852176  31.325636    2.1342058  11.688711    0.68888235\n",
      "  5.690848   24.017275   14.872461    9.837604  ]\n",
      "loss :  5.7898474 model :  [13.351669    4.5118794  31.302351    2.165243   11.701969    0.72260916\n",
      "  5.715266   24.007591   14.879794    9.854305  ]\n",
      "loss :  5.7792363 model :  [13.36111     4.536603   31.280758    2.1940231  11.714262    0.75388324\n",
      "  5.7379093  23.99861    14.886594    9.869793  ]\n",
      "loss :  5.770113 model :  [13.369866   4.559529  31.26074    2.2207105 11.725662   0.7828833\n",
      "  5.7589064 23.990284  14.8928995  9.884155 ]\n",
      "loss :  5.762268 model :  [13.377982   4.5807867 31.242172   2.2454567 11.736231   0.8097741\n",
      "  5.778375  23.982561  14.898745   9.89747  ]\n",
      "loss :  5.755524 model :  [13.385511   4.6004987 31.224957   2.2684038 11.746034   0.8347095\n",
      "  5.7964287 23.9754    14.904167   9.90982  ]\n",
      "loss :  5.749723 model :  [13.392491   4.618778  31.208996   2.2896821 11.755123   0.8578317\n",
      "  5.81317   23.968761  14.909195   9.92127  ]\n",
      "loss :  5.744737 model :  [13.398964    4.6357274  31.194193    2.309413   11.763551    0.87927234\n",
      "  5.828693   23.962605   14.9138565   9.931889  ]\n",
      "loss :  5.740449 model :  [13.404966   4.6514444 31.180468   2.327709  11.771366   0.8991538\n",
      "  5.8430877 23.956896  14.918179   9.941734 ]\n",
      "loss :  5.736762 model :  [13.410531   4.6660185 31.167738   2.3446743 11.778612   0.9175894\n",
      "  5.8564353 23.951601  14.922186   9.950863 ]\n",
      "loss :  5.7335916 model :  [13.415693   4.6795335 31.15594    2.3604064 11.785333   0.9346845\n",
      "  5.8688126 23.946695  14.925904   9.95933  ]\n",
      "loss :  5.730866 model :  [13.420479    4.6920643  31.144995    2.3749938  11.791563    0.95053625\n",
      "  5.8802896  23.942142   14.92935     9.96718   ]\n",
      "loss :  5.728522 model :  [13.424915    4.7036843  31.134846    2.3885207  11.797341    0.96523523\n",
      "  5.8909316  23.937922   14.932546    9.974459  ]\n",
      "loss :  5.726506 model :  [13.42903    4.7144594 31.125433   2.401064  11.802699   0.9788654\n",
      "  5.9007998 23.934006  14.935509   9.981209 ]\n",
      "loss :  5.7247734 model :  [13.432847    4.724451   31.116709    2.412695   11.807668    0.99150443\n",
      "  5.9099507  23.930378   14.938258    9.987468  ]\n",
      "loss :  5.723283 model :  [13.436384   4.7337165 31.108618   2.4234803 11.812274   1.0032244\n",
      "  5.9184365 23.927013  14.940805   9.993272 ]\n",
      "loss :  5.722002 model :  [13.439666   4.7423077 31.101116   2.4334812 11.816546   1.0140918\n",
      "  5.926305  23.923893  14.94317    9.998654 ]\n",
      "loss :  5.7209005 model :  [13.442707   4.7502737 31.094156   2.442755  11.820507   1.0241692\n",
      "  5.933601  23.920998  14.945359  10.003644 ]\n",
      "loss :  5.7199535 model :  [13.445528   4.7576613 31.087708   2.451354  11.82418    1.0335137\n",
      "  5.9403663 23.918316  14.947391  10.008271 ]\n",
      "loss :  5.719139 model :  [13.448144   4.7645106 31.081722   2.4593282 11.827586   1.0421786\n",
      "  5.9466395 23.915825  14.949275  10.012563 ]\n",
      "loss :  5.7184386 model :  [13.450569   4.7708626 31.076176   2.466722  11.830744   1.0502135\n",
      "  5.952457  23.913517  14.951021  10.016541 ]\n",
      "loss :  5.7178364 model :  [13.452819   4.7767525 31.071033   2.4735785 11.8336735  1.0576639\n",
      "  5.9578514 23.91138   14.9526415 10.020231 ]\n",
      "loss :  5.717318 model :  [13.454904   4.782214  31.066261   2.4799361 11.836389   1.0645726\n",
      "  5.9628534 23.909395  14.954143  10.023652 ]\n",
      "loss :  5.716873 model :  [13.45684    4.7872787 31.061842   2.4858317 11.838908   1.0709789\n",
      "  5.9674916 23.907558  14.955538  10.026826 ]\n",
      "loss :  5.7164903 model :  [13.4586315  4.7919745 31.057737   2.4912982 11.841242   1.0769193\n",
      "  5.9717927 23.90585   14.956828  10.029766 ]\n",
      "loss :  5.7161613 model :  [13.460296   4.796329  31.053936   2.4963675 11.843408   1.0824276\n",
      "  5.9757805 23.904268  14.958026  10.032495 ]\n",
      "loss :  5.715878 model :  [13.461837   4.8003674 31.05041    2.5010679 11.845415   1.0875354\n",
      "  5.979479  23.902802  14.959136  10.035024 ]\n",
      "loss :  5.715635 model :  [13.463267   4.8041115 31.04714    2.5054264 11.847278   1.0922718\n",
      "  5.9829082 23.901443  14.960167  10.03737  ]\n",
      "loss :  5.7154264 model :  [13.464593   4.807584  31.04411    2.5094683 11.849004   1.0966637\n",
      "  5.9860883 23.900183  14.961122  10.039544 ]\n",
      "loss :  5.7152457 model :  [13.465822   4.810803  31.041296   2.513216  11.850604   1.1007363\n",
      "  5.9890366 23.899012  14.962007  10.041561 ]\n",
      "loss :  5.715091 model :  [13.466963   4.813789  31.038692   2.5166914 11.852089   1.1045128\n",
      "  5.991771  23.89793   14.962829  10.043431 ]\n",
      "loss :  5.7149577 model :  [13.4680195  4.816557  31.036272   2.519914  11.853465   1.1080146\n",
      "  5.994306  23.896921  14.96359   10.045166 ]\n",
      "loss :  5.7148438 model :  [13.469      4.8191237 31.03403    2.522902  11.854742   1.1112616\n",
      "  5.9966574 23.89599   14.964295  10.046774 ]\n",
      "loss :  5.7147455 model :  [13.469909   4.8215036 31.03195    2.525673  11.855926   1.1142726\n",
      "  5.998837  23.895124  14.96495   10.0482645]\n",
      "loss :  5.7146616 model :  [13.470752   4.8237114 31.030025   2.5282423 11.857022   1.1170647\n",
      "  6.000859  23.894325  14.965556  10.049647 ]\n",
      "loss :  5.714589 model :  [13.471534   4.825758  31.028238   2.5306249 11.858041   1.1196537\n",
      "  6.0027328 23.893581  14.96612   10.050929 ]\n",
      "loss :  5.7145257 model :  [13.472259   4.827656  31.02658    2.532834  11.858985   1.1220543\n",
      "  6.0044713 23.89289   14.966642  10.052118 ]\n",
      "loss :  5.714472 model :  [13.47293    4.829416  31.025043   2.5348828 11.859859   1.1242805\n",
      "  6.006083  23.892254  14.967126  10.053221 ]\n",
      "loss :  5.714425 model :  [13.473553   4.8310475 31.023619   2.5367823 11.86067    1.1263448\n",
      "  6.0075774 23.891659  14.967574  10.054243 ]\n",
      "loss :  5.7143865 model :  [13.474132   4.8325605 31.022297   2.538544  11.8614235  1.128259\n",
      "  6.0089636 23.891111  14.967991  10.055191 ]\n",
      "loss :  5.7143517 model :  [13.474668   4.833964  31.02107    2.540177  11.862122   1.1300337\n",
      "  6.010248  23.8906    14.968377  10.05607  ]\n",
      "loss :  5.7143226 model :  [13.475163   4.8352647 31.019934   2.5416915 11.862767   1.1316794\n",
      "  6.01144   23.890127  14.968734  10.056885 ]\n",
      "loss :  5.714297 model :  [13.475625   4.8364716 31.018879   2.543096  11.863368   1.1332057\n",
      "  6.0125446 23.889688  14.969067  10.057641 ]\n",
      "loss :  5.7142754 model :  [13.476051   4.83759   31.017902   2.5443985 11.863924   1.1346209\n",
      "  6.0135694 23.889282  14.969374  10.058341 ]\n",
      "loss :  5.714257 model :  [13.476448   4.8386273 31.016996   2.5456061 11.86444    1.1359333\n",
      "  6.0145197 23.888905  14.969659  10.058991 ]\n",
      "loss :  5.7142406 model :  [13.476815   4.839589  31.016157   2.546726  11.864918   1.1371502\n",
      "  6.015401  23.888557  14.969923  10.059594 ]\n",
      "loss :  5.7142267 model :  [13.477156   4.8404813 31.015379   2.5477643 11.865361   1.1382785\n",
      "  6.0162177 23.888233  14.970169  10.060153 ]\n"
     ]
    },
    {
     "name": "stdout",
     "output_type": "stream",
     "text": [
      "loss :  5.714215 model :  [13.477472   4.8413086 31.014654   2.5487273 11.865773   1.1393249\n",
      "  6.016975  23.88793   14.970397  10.060671 ]\n",
      "loss :  5.7142053 model :  [13.477764   4.8420753 31.013987   2.5496202 11.866154   1.140295\n",
      "  6.0176773 23.887653  14.970608  10.0611515]\n",
      "loss :  5.714196 model :  [13.478037   4.842787  31.013365   2.550448  11.8665085  1.1411947\n",
      "  6.018329  23.887396  14.970803  10.061598 ]\n",
      "loss :  5.7141886 model :  [13.478289   4.8434463 31.012789   2.5512156 11.866836   1.1420289\n",
      "  6.018933  23.887154  14.970984  10.062011 ]\n",
      "loss :  5.714182 model :  [13.478521   4.8440576 31.012255   2.5519276 11.86714    1.1428025\n",
      "  6.019493  23.886932  14.971152  10.062393 ]\n",
      "loss :  5.714177 model :  [13.478738   4.8446245 31.011759   2.5525877 11.867421   1.1435199\n",
      "  6.020012  23.886726  14.971308  10.062748 ]\n",
      "loss :  5.7141714 model :  [13.478939   4.845151  31.0113     2.5532    11.867683   1.1441851\n",
      "  6.020494  23.886536  14.971453  10.063078 ]\n",
      "loss :  5.714167 model :  [13.479126   4.8456383 31.010876   2.5537677 11.867927   1.1448019\n",
      "  6.020941  23.88636   14.971588  10.063384 ]\n",
      "loss :  5.714164 model :  [13.479298   4.8460903 31.010479   2.5542939 11.868151   1.1453737\n",
      "  6.0213547 23.886194  14.971711  10.063666 ]\n",
      "loss :  5.71416 model :  [13.479458   4.8465095 31.01011    2.554782  11.86836    1.1459042\n",
      "  6.0217385 23.886042  14.971827  10.06393  ]\n",
      "loss :  5.714158 model :  [13.479606   4.8468986 31.009773   2.5552344 11.868552   1.1463959\n",
      "  6.0220947 23.8859    14.971933  10.064173 ]\n",
      "loss :  5.714155 model :  [13.479745   4.8472595 31.00946    2.5556543 11.868732   1.146852\n",
      "  6.0224257 23.885773  14.972034  10.0644   ]\n",
      "loss :  5.7141542 model :  [13.479872   4.8475933 31.009169   2.5560434 11.868897   1.1472747\n",
      "  6.0227313 23.88565   14.972125  10.064608 ]\n",
      "loss :  5.714152 model :  [13.47999    4.8479033 31.008896   2.5564039 11.869052   1.1476667\n",
      "  6.023015  23.885536  14.97221   10.064802 ]\n",
      "loss :  5.7141504 model :  [13.4801     4.8481903 31.008646   2.5567384 11.869195   1.1480303\n",
      "  6.0232778 23.885431  14.972289  10.064982 ]\n",
      "loss :  5.714149 model :  [13.480202   4.8484573 31.008411   2.5570488 11.869328   1.1483674\n",
      "  6.0235224 23.885334  14.9723625 10.065149 ]\n",
      "loss :  5.714148 model :  [13.480297   4.848705  31.008198   2.5573366 11.869451   1.1486801\n",
      "  6.023749  23.885246  14.972431  10.065305 ]\n",
      "loss :  5.7141485 model :  [13.480384   4.848933  31.007998   2.5576031 11.869564   1.1489699\n",
      "  6.023958  23.885162  14.972493  10.065447 ]\n",
      "loss :  5.7141466 model :  [13.480465   4.849146  31.00781    2.5578504 11.86967    1.1492387\n",
      "  6.0241528 23.885084  14.972551  10.06558  ]\n",
      "loss :  5.714146 model :  [13.48054    4.8493433 31.00764    2.5580802 11.869768   1.149488\n",
      "  6.024334  23.885014  14.972607  10.065704 ]\n",
      "loss :  5.714145 model :  [13.48061    4.849526  31.007483   2.5582929 11.86986    1.1497192\n",
      "  6.0245013 23.884949  14.972656  10.065819 ]\n",
      "loss :  5.7141447 model :  [13.480674   4.849695  31.007332   2.55849   11.869943   1.1499335\n",
      "  6.0246563 23.884886  14.972703  10.065925 ]\n",
      "loss :  5.714144 model :  [13.480735   4.849852  31.007195   2.558673  11.870022   1.1501322\n",
      "  6.0248    23.884829  14.972747  10.066024 ]\n",
      "loss :  5.7141447 model :  [13.48079    4.8499975 31.007069   2.5588422 11.870093   1.1503165\n",
      "  6.0249333 23.884775  14.972786  10.066114 ]\n",
      "loss :  5.7141433 model :  [13.480841   4.850133  31.006948   2.5589995 11.87016    1.1504873\n",
      "  6.0250573 23.884726  14.972823  10.066198 ]\n",
      "loss :  5.7141433 model :  [13.480889   4.8502584 31.00684    2.5591455 11.870223   1.1506457\n",
      "  6.0251718 23.884682  14.972857  10.0662775]\n",
      "loss :  5.714143 model :  [13.480933   4.8503747 31.006737   2.5592806 11.87028    1.1507926\n",
      "  6.025278  23.884638  14.972889  10.06635  ]\n",
      "loss :  5.7141438 model :  [13.480975  4.850482 31.006647  2.559406 11.870335  1.150929  6.025377\n",
      " 23.884602 14.972919 10.066418]\n",
      "loss :  5.7141433 model :  [13.481013   4.850582  31.00656    2.5595224 11.870384   1.1510552\n",
      "  6.025469  23.884565  14.972947  10.066481 ]\n",
      "loss :  5.714143 model :  [13.481049   4.8506746 31.006477   2.55963   11.87043    1.1511724\n",
      "  6.025553  23.884531  14.972973  10.066538 ]\n",
      "loss :  5.714143 model :  [13.481081   4.8507605 31.006401   2.55973   11.870472   1.1512809\n",
      "  6.0256314 23.884499  14.972996  10.066591 ]\n",
      "loss :  5.7141433 model :  [13.4811125  4.85084   31.006334   2.5598228 11.870513   1.1513817\n",
      "  6.025705  23.884472  14.973019  10.066642 ]\n",
      "loss :  5.714143 model :  [13.48114    4.8509135 31.006268   2.5599086 11.870549   1.1514751\n",
      "  6.025772  23.884443  14.973039  10.066689 ]\n",
      "loss :  5.7141414 model :  [13.481166   4.8509827 31.006207   2.5599885 11.870584   1.1515617\n",
      "  6.025835  23.884418  14.973058  10.066731 ]\n",
      "loss :  5.714143 model :  [13.481191   4.8510456 31.006153   2.5600622 11.870615   1.151642\n",
      "  6.0258927 23.884396  14.973075  10.0667715]\n",
      "loss :  5.714143 model :  [13.481213   4.8511047 31.006102   2.5601308 11.870644   1.1517165\n",
      "  6.025947  23.884375  14.973091  10.066808 ]\n",
      "loss :  5.714143 model :  [13.481234   4.851159  31.006052   2.5601943 11.870671   1.1517855\n",
      "  6.0259967 23.884354  14.973105  10.066841 ]\n",
      "loss :  5.714142 model :  [13.481253   4.85121   31.00601    2.5602534 11.870696   1.1518496\n",
      "  6.026044  23.884336  14.97312   10.066874 ]\n",
      "loss :  5.7141423 model :  [13.481271   4.8512573 31.005968   2.560308  11.870719   1.1519091\n",
      "  6.026087  23.88432   14.973132  10.066903 ]\n",
      "loss :  5.7141414 model :  [13.481288   4.8513007 31.00593    2.5603588 11.870742   1.1519641\n",
      "  6.0261264 23.884302  14.9731455 10.066931 ]\n",
      "loss :  5.7141423 model :  [13.481303   4.851341  31.005896   2.5604055 11.870762   1.1520151\n",
      "  6.026163  23.884289  14.973156  10.066956 ]\n",
      "loss :  5.714142 model :  [13.4813175  4.851378  31.005861   2.5604491 11.87078    1.1520624\n",
      "  6.0261974 23.884274  14.9731655 10.066979 ]\n",
      "loss :  5.714142 model :  [13.481331   4.8514132 31.005833   2.5604897 11.870798   1.1521064\n",
      "  6.02623   23.884264  14.973176  10.067001 ]\n",
      "loss :  5.714142 model :  [13.481343   4.851445  31.005804   2.560527  11.870813   1.1521469\n",
      "  6.0262585 23.88425   14.973185  10.067021 ]\n",
      "loss :  5.714143 model :  [13.481354   4.851475  31.005777   2.5605617 11.870828   1.1521847\n",
      "  6.026286  23.88424   14.973192  10.0670395]\n",
      "loss :  5.714143 model :  [13.481365   4.8515024 31.005754   2.560594  11.870842   1.1522198\n",
      "  6.0263114 23.88423   14.9732    10.067057 ]\n",
      "loss :  5.714142 model :  [13.481374   4.851528  31.005732   2.560624  11.870854   1.1522523\n",
      "  6.026335  23.88422   14.9732065 10.067073 ]\n",
      "loss :  5.7141423 model :  [13.481384   4.851552  31.00571    2.5606518 11.870867   1.1522825\n",
      "  6.0263567 23.884212  14.973214  10.067088 ]\n",
      "loss :  5.7141423 model :  [13.481393   4.851574  31.005692   2.5606775 11.870878   1.1523104\n",
      "  6.0263767 23.884205  14.973221  10.067102 ]\n",
      "loss :  5.7141423 model :  [13.4814005  4.8515944 31.005672   2.5607011 11.870888   1.1523361\n",
      "  6.026396  23.884195  14.973226  10.067115 ]\n",
      "loss :  5.714143 model :  [13.481407   4.8516135 31.005655   2.560723  11.870895   1.1523602\n",
      "  6.026413  23.884188  14.97323   10.067125 ]\n",
      "loss :  5.7141423 model :  [13.481413   4.851631  31.005642   2.5607438 11.870905   1.1523825\n",
      "  6.026429  23.884182  14.973236  10.067137 ]\n",
      "loss :  5.7141414 model :  [13.48142    4.851648  31.005627   2.5607626 11.8709135  1.1524031\n",
      "  6.026444  23.884176  14.97324   10.067147 ]\n",
      "loss :  5.714142 model :  [13.481426   4.851663  31.005615   2.5607805 11.870922   1.1524223\n",
      "  6.0264583 23.884172  14.973245  10.067158 ]\n",
      "loss :  5.7141423 model :  [13.481431   4.851677  31.005602   2.5607965 11.870928   1.15244\n",
      "  6.026471  23.884167  14.973248  10.067165 ]\n",
      "loss :  5.7141423 model :  [13.481437   4.85169   31.005592   2.5608118 11.870935   1.1524564\n",
      "  6.026483  23.884163  14.973252  10.067174 ]\n",
      "loss :  5.714142 model :  [13.4814415  4.8517017 31.00558    2.5608258 11.870941   1.1524717\n",
      "  6.0264935 23.884157  14.973255  10.067183 ]\n",
      "loss :  5.714142 model :  [13.481446   4.851713  31.005571   2.5608387 11.870947   1.1524857\n",
      "  6.0265045 23.884153  14.973259  10.067189 ]\n",
      "loss :  5.714142 model :  [13.48145    4.8517237 31.005562   2.5608509 11.870952   1.1524988\n",
      "  6.0265136 23.88415   14.973262  10.067196 ]\n"
     ]
    },
    {
     "name": "stdout",
     "output_type": "stream",
     "text": [
      "loss :  5.714142 model :  [13.481452   4.8517327 31.005552   2.5608618 11.870956   1.1525109\n",
      "  6.026522  23.884146  14.973263  10.067201 ]\n",
      "loss :  5.714142 model :  [13.481456   4.851742  31.005545   2.5608723 11.87096    1.1525223\n",
      "  6.0265303 23.884142  14.973266  10.067206 ]\n",
      "loss :  5.714143 model :  [13.481459   4.85175   31.005539   2.560882  11.870964   1.1525328\n",
      "  6.0265384 23.88414   14.9732685 10.067211 ]\n",
      "loss :  5.7141423 model :  [13.481462   4.8517575 31.00553    2.560891  11.870968   1.1525426\n",
      "  6.026545  23.884136  14.973269  10.067217 ]\n",
      "loss :  5.7141423 model :  [13.481465   4.8517647 31.005526   2.5608993 11.870973   1.1525515\n",
      "  6.0265517 23.884134  14.973273  10.067222 ]\n",
      "loss :  5.714142 model :  [13.481467   4.8517714 31.005518   2.560907  11.8709755  1.15256\n",
      "  6.026558  23.88413   14.973274  10.067225 ]\n",
      "loss :  5.714143 model :  [13.48147    4.8517776 31.005516   2.5609143 11.870978   1.1525677\n",
      "  6.0265636 23.88413   14.973276  10.067229 ]\n",
      "loss :  5.714142 model :  [13.481472   4.8517833 31.005507   2.5609207 11.870981   1.1525749\n",
      "  6.0265684 23.884127  14.973277  10.067233 ]\n",
      "loss :  5.7141423 model :  [13.481474   4.8517885 31.005503   2.560927  11.870984   1.1525816\n",
      "  6.026573  23.884125  14.973279  10.067236 ]\n",
      "loss :  5.7141423 model :  [13.481476   4.8517933 31.005497   2.5609326 11.870986   1.1525878\n",
      "  6.0265775 23.884123  14.97328   10.067239 ]\n",
      "loss :  5.7141414 model :  [13.481478   4.851798  31.005495   2.560938  11.870989   1.1525935\n",
      "  6.0265822 23.88412   14.973282  10.067242 ]\n",
      "loss :  5.7141423 model :  [13.48148    4.8518023 31.005491   2.5609426 11.870991   1.1525987\n",
      "  6.0265856 23.884119  14.973282  10.067244 ]\n",
      "loss :  5.7141423 model :  [13.481481   4.8518057 31.005487   2.560947  11.870993   1.1526036\n",
      "  6.0265894 23.884119  14.973284  10.067246 ]\n",
      "loss :  5.714143 model :  [13.4814825  4.8518095 31.005484   2.5609515 11.870995   1.1526082\n",
      "  6.0265923 23.884117  14.973285  10.067249 ]\n",
      "loss :  5.714143 model :  [13.481483   4.851813  31.005484   2.560955  11.8709955  1.1526123\n",
      "  6.0265956 23.884117  14.973286  10.067251 ]\n",
      "loss :  5.714142 model :  [13.481484   4.851816  31.00548    2.5609589 11.870997   1.1526163\n",
      "  6.0265985 23.884115  14.973286  10.067253 ]\n",
      "loss :  5.714143 model :  [13.481486   4.851819  31.00548    2.5609622 11.870999   1.1526198\n",
      "  6.026602  23.884117  14.973288  10.067255 ]\n",
      "loss :  5.714142 model :  [13.481487   4.851822  31.005474   2.5609653 11.871      1.1526233\n",
      "  6.0266037 23.884113  14.973289  10.067257 ]\n",
      "loss :  5.714143 model :  [13.481488   4.851824  31.005474   2.5609682 11.871002   1.1526263\n",
      "  6.0266056 23.884113  14.9732895 10.067259 ]\n",
      "loss :  5.714143 model :  [13.481488   4.851826  31.00547    2.5609705 11.871002   1.1526291\n",
      "  6.026608  23.884111  14.973289  10.067259 ]\n",
      "loss :  5.714142 model :  [13.48149    4.8518286 31.00547    2.5609732 11.871004   1.1526319\n",
      "  6.02661   23.884111  14.97329   10.067262 ]\n",
      "loss :  5.714143 model :  [13.481491   4.85183   31.005468   2.5609753 11.871005   1.1526341\n",
      "  6.0266113 23.88411   14.973291  10.067263 ]\n",
      "loss :  5.714142 model :  [13.481491   4.851832  31.005466   2.5609775 11.871006   1.1526365\n",
      "  6.026613  23.884111  14.97329   10.067264 ]\n",
      "loss :  5.7141423 model :  [13.481492   4.851834  31.005465   2.5609794 11.871007   1.1526387\n",
      "  6.0266147 23.88411   14.973291  10.067265 ]\n",
      "loss :  5.714143 model :  [13.481492   4.8518353 31.005465   2.5609813 11.871008   1.1526406\n",
      "  6.026616  23.88411   14.973292  10.0672655]\n",
      "loss :  5.7141423 model :  [13.481492   4.8518367 31.005465   2.560983  11.871008   1.1526423\n",
      "  6.0266175 23.88411   14.973292  10.067266 ]\n",
      "loss :  5.714142 model :  [13.481493   4.8518386 31.005463   2.5609846 11.871009   1.152644\n",
      "  6.026619  23.88411   14.973293  10.067267 ]\n",
      "loss :  5.7141423 model :  [13.481493   4.851839  31.00546    2.560986  11.871009   1.1526457\n",
      "  6.02662   23.884108  14.973293  10.067267 ]\n",
      "loss :  5.714143 model :  [13.481495   4.8518405 31.00546    2.5609872 11.871011   1.152647\n",
      "  6.0266213 23.884108  14.973295  10.067269 ]\n",
      "loss :  5.714142 model :  [13.481494   4.8518414 31.005459   2.5609882 11.871011   1.1526482\n",
      "  6.026622  23.884106  14.973293  10.067269 ]\n",
      "loss :  5.7141423 model :  [13.481495   4.8518424 31.00546    2.5609894 11.871012   1.1526494\n",
      "  6.026623  23.884108  14.973294  10.06727  ]\n",
      "loss :  5.714142 model :  [13.481495   4.8518434 31.005457   2.5609906 11.871012   1.1526506\n",
      "  6.0266237 23.884108  14.973294  10.06727  ]\n",
      "loss :  5.714142 model :  [13.481496   4.8518443 31.005457   2.5609915 11.871013   1.1526517\n",
      "  6.026624  23.884108  14.973295  10.067271 ]\n",
      "loss :  5.7141414 model :  [13.481496   4.8518453 31.005455   2.5609925 11.871013   1.1526529\n",
      "  6.026625  23.884106  14.973295  10.067272 ]\n",
      "loss :  5.714143 model :  [13.481496   4.8518457 31.005455   2.5609934 11.871013   1.1526539\n",
      "  6.026626  23.884106  14.973295  10.067272 ]\n",
      "loss :  5.714143 model :  [13.481497   4.851846  31.005455   2.5609941 11.871014   1.1526545\n",
      "  6.0266266 23.884106  14.973296  10.067273 ]\n",
      "loss :  5.7141423 model :  [13.481496   4.8518467 31.005455   2.5609946 11.871013   1.152655\n",
      "  6.0266266 23.884106  14.973295  10.067272 ]\n",
      "loss :  5.714142 model :  [13.481497   4.8518476 31.005455   2.560995  11.871014   1.1526556\n",
      "  6.0266275 23.884106  14.973296  10.067273 ]\n",
      "loss :  5.714142 model :  [13.481497   4.851848  31.005455   2.5609958 11.871014   1.1526562\n",
      "  6.026628  23.884106  14.973296  10.067273 ]\n",
      "loss :  5.7141423 model :  [13.481497   4.851848  31.005453   2.5609963 11.871014   1.1526568\n",
      "  6.026628  23.884106  14.973296  10.067274 ]\n",
      "loss :  5.7141423 model :  [13.481498   4.8518486 31.005453   2.5609968 11.871015   1.1526574\n",
      "  6.0266285 23.884106  14.973297  10.067275 ]\n",
      "loss :  5.7141423 model :  [13.481497   4.851849  31.005451   2.5609972 11.871014   1.152658\n",
      "  6.026629  23.884104  14.973295  10.067274 ]\n",
      "loss :  5.714142 model :  [13.481498   4.8518496 31.005451   2.5609977 11.871015   1.1526586\n",
      "  6.0266294 23.884104  14.973296  10.067275 ]\n",
      "loss :  5.7141414 model :  [13.481498   4.85185   31.005451   2.5609982 11.871016   1.1526592\n",
      "  6.0266294 23.884104  14.973296  10.067275 ]\n",
      "loss :  5.7141423 model :  [13.481498   4.8518505 31.005451   2.560999  11.871016   1.1526597\n",
      "  6.02663   23.884104  14.973296  10.067275 ]\n",
      "loss :  5.714141 model :  [13.481499   4.8518515 31.005451   2.5609994 11.8710165  1.1526604\n",
      "  6.026631  23.884104  14.973297  10.067276 ]\n",
      "loss :  5.7141423 model :  [13.481498   4.8518515 31.005451   2.5609999 11.871016   1.1526608\n",
      "  6.026631  23.884104  14.973296  10.067275 ]\n",
      "loss :  5.7141423 model :  [13.481499   4.8518515 31.005451   2.561     11.8710165  1.152661\n",
      "  6.026631  23.884104  14.973297  10.067276 ]\n",
      "loss :  5.7141423 model :  [13.481499   4.8518515 31.005451   2.561     11.8710165  1.152661\n",
      "  6.026631  23.884104  14.973297  10.067276 ]\n",
      "loss :  5.7141423 model :  [13.481499   4.8518515 31.005451   2.561     11.8710165  1.152661\n",
      "  6.026631  23.884104  14.973297  10.067276 ]\n",
      "loss :  5.7141423 model :  [13.481499   4.8518515 31.005451   2.561     11.8710165  1.152661\n",
      "  6.026631  23.884104  14.973297  10.067276 ]\n",
      "loss :  5.7141423 model :  [13.481499   4.8518515 31.005451   2.561     11.8710165  1.152661\n",
      "  6.026631  23.884104  14.973297  10.067276 ]\n",
      "loss :  5.7141423 model :  [13.481499   4.8518515 31.005451   2.561     11.8710165  1.152661\n",
      "  6.026631  23.884104  14.973297  10.067276 ]\n",
      "loss :  5.7141423 model :  [13.481499   4.8518515 31.005451   2.561     11.8710165  1.152661\n",
      "  6.026631  23.884104  14.973297  10.067276 ]\n",
      "loss :  5.7141423 model :  [13.481499   4.8518515 31.005451   2.561     11.8710165  1.152661\n",
      "  6.026631  23.884104  14.973297  10.067276 ]\n",
      "loss :  5.7141423 model :  [13.481499   4.8518515 31.005451   2.561     11.8710165  1.152661\n",
      "  6.026631  23.884104  14.973297  10.067276 ]\n",
      "loss :  5.7141423 model :  [13.481499   4.8518515 31.005451   2.561     11.8710165  1.152661\n",
      "  6.026631  23.884104  14.973297  10.067276 ]\n",
      "loss :  5.7141423 model :  [13.481499   4.8518515 31.005451   2.561     11.8710165  1.152661\n",
      "  6.026631  23.884104  14.973297  10.067276 ]\n",
      "loss :  5.7141423 model :  [13.481499   4.8518515 31.005451   2.561     11.8710165  1.152661\n",
      "  6.026631  23.884104  14.973297  10.067276 ]\n",
      "loss :  5.7141423 model :  [13.481499   4.8518515 31.005451   2.561     11.8710165  1.152661\n",
      "  6.026631  23.884104  14.973297  10.067276 ]\n",
      "loss :  5.7141423 model :  [13.481499   4.8518515 31.005451   2.561     11.8710165  1.152661\n",
      "  6.026631  23.884104  14.973297  10.067276 ]\n",
      "loss :  5.7141423 model :  [13.481499   4.8518515 31.005451   2.561     11.8710165  1.152661\n",
      "  6.026631  23.884104  14.973297  10.067276 ]\n",
      "loss :  5.7141423 model :  [13.481499   4.8518515 31.005451   2.561     11.8710165  1.152661\n",
      "  6.026631  23.884104  14.973297  10.067276 ]\n",
      "loss :  5.7141423 model :  [13.481499   4.8518515 31.005451   2.561     11.8710165  1.152661\n",
      "  6.026631  23.884104  14.973297  10.067276 ]\n",
      "loss :  5.7141423 model :  [13.481499   4.8518515 31.005451   2.561     11.8710165  1.152661\n",
      "  6.026631  23.884104  14.973297  10.067276 ]\n",
      "loss :  5.7141423 model :  [13.481499   4.8518515 31.005451   2.561     11.8710165  1.152661\n",
      "  6.026631  23.884104  14.973297  10.067276 ]\n",
      "loss :  5.7141423 model :  [13.481499   4.8518515 31.005451   2.561     11.8710165  1.152661\n",
      "  6.026631  23.884104  14.973297  10.067276 ]\n"
     ]
    },
    {
     "name": "stdout",
     "output_type": "stream",
     "text": [
      "loss :  5.7141423 model :  [13.481499   4.8518515 31.005451   2.561     11.8710165  1.152661\n",
      "  6.026631  23.884104  14.973297  10.067276 ]\n",
      "loss :  5.7141423 model :  [13.481499   4.8518515 31.005451   2.561     11.8710165  1.152661\n",
      "  6.026631  23.884104  14.973297  10.067276 ]\n",
      "loss :  5.7141423 model :  [13.481499   4.8518515 31.005451   2.561     11.8710165  1.152661\n",
      "  6.026631  23.884104  14.973297  10.067276 ]\n",
      "loss :  5.7141423 model :  [13.481499   4.8518515 31.005451   2.561     11.8710165  1.152661\n",
      "  6.026631  23.884104  14.973297  10.067276 ]\n",
      "loss :  5.7141423 model :  [13.481499   4.8518515 31.005451   2.561     11.8710165  1.152661\n",
      "  6.026631  23.884104  14.973297  10.067276 ]\n",
      "loss :  5.7141423 model :  [13.481499   4.8518515 31.005451   2.561     11.8710165  1.152661\n",
      "  6.026631  23.884104  14.973297  10.067276 ]\n",
      "loss :  5.7141423 model :  [13.481499   4.8518515 31.005451   2.561     11.8710165  1.152661\n",
      "  6.026631  23.884104  14.973297  10.067276 ]\n",
      "loss :  5.7141423 model :  [13.481499   4.8518515 31.005451   2.561     11.8710165  1.152661\n",
      "  6.026631  23.884104  14.973297  10.067276 ]\n",
      "loss :  5.7141423 model :  [13.481499   4.8518515 31.005451   2.561     11.8710165  1.152661\n",
      "  6.026631  23.884104  14.973297  10.067276 ]\n"
     ]
    },
    {
     "data": {
      "text/plain": [
       "[array([3.1733642], dtype=float32), array([0.6639629], dtype=float32)]"
      ]
     },
     "execution_count": 137,
     "metadata": {},
     "output_type": "execute_result"
    }
   ],
   "source": [
    "sess=tf.Session()\n",
    "sess.run(tf.global_variables_initializer())\n",
    "\n",
    "for step in range(2001):\n",
    "    loss_val, model_val, _= sess.run(\n",
    "        [loss, model, train], feed_dict={x:xx,y:yy})\n",
    "    if step %10 ==0:\n",
    "        print(\"loss : \", loss_val, \"model : \", model_val)\n",
    "sess.run([w,b])"
   ]
  },
  {
   "cell_type": "code",
   "execution_count": 138,
   "metadata": {},
   "outputs": [
    {
     "name": "stdout",
     "output_type": "stream",
     "text": [
      "13.48149824022 11.42215\n",
      "4.851851634740001 10.0112\n",
      "31.00545002546 30.2991\n"
     ]
    }
   ],
   "source": [
    "# [array([3.1733642], dtype=float32), array([0.6639629], dtype=float32)]\n",
    "w3 = 3.1733642\n",
    "b3 = 0.6639629\n",
    "\n",
    "print(w3*4.0391+b3, 11.42215)\n",
    "print(w3*1.3197+b3, 10.0112)\n",
    "print(w3*9.5613+b3, 30.2991)"
   ]
  },
  {
   "cell_type": "code",
   "execution_count": null,
   "metadata": {},
   "outputs": [],
   "source": []
  },
  {
   "cell_type": "code",
   "execution_count": null,
   "metadata": {},
   "outputs": [],
   "source": []
  },
  {
   "cell_type": "code",
   "execution_count": 139,
   "metadata": {},
   "outputs": [
    {
     "name": "stdout",
     "output_type": "stream",
     "text": [
      "[323, 244, 425, 216, 101, 434, 466, 65, 99, 118, 495, 200, 201, 99, 76, 195, 66, 142, 12, 112, 466, 57, 240, 419, 396, 175, 295, 323, 262, 134, 175, 182, 33, 387, 295, 96, 87, 496, 196, 229, 126, 214, 385, 485, 312, 366, 429, 197, 249, 38, 110, 277, 386, 442, 171, 458, 59, 14, 474, 416, 492, 56, 178, 261, 172, 173, 70, 300, 36, 483, 48, 384, 217, 380, 77, 131, 62, 403, 141, 402, 85, 115, 236, 495, 397, 19, 314, 221, 342, 177, 317, 213, 117, 368, 415, 439, 217, 363, 38, 130, 151, 378, 239, 127, 424, 102, 327, 214, 281, 379, 339, 86, 112, 170, 332, 93, 128, 45, 242, 370, 425, 103, 479, 23, 362, 316, 74, 493, 99, 404, 203, 497, 67, 232, 429, 22, 237, 379, 357, 264, 165, 32, 166, 130, 85, 16, 38, 362, 131, 227, 289, 194, 156, 482, 21, 473, 43, 337, 17, 327, 16, 200, 272, 424, 404, 431, 475, 137, 432, 187, 357, 254, 270, 384, 374, 205, 306, 483, 206, 108, 340, 393, 229, 30, 381, 495, 277, 63, 225, 269, 328, 158, 12, 83, 260, 265, 148, 69, 76, 215, 487, 451, 205, 222, 17, 106, 227, 381, 110, 479, 259, 383, 213, 286, 304, 295, 112, 392, 22, 399, 142, 423, 321, 219, 165, 57, 151, 235, 178, 212, 332, 267, 39, 7, 381, 353, 473, 317, 71, 433, 88, 127, 181, 181, 3, 77, 122, 347, 487, 13, 103, 150, 293, 479, 286, 261, 390, 96, 286, 155, 83, 106, 180, 471, 266, 86, 51, 115, 447, 144, 209, 32, 299, 451, 467, 173, 75, 276, 5, 374, 45, 426, 427, 285, 30, 419, 292, 118, 15, 314, 325, 84, 337, 150, 475, 267, 445, 40, 446, 387, 380, 87, 360, 255, 436, 362, 292, 494, 34, 340, 478, 482, 11, 449, 417, 3, 393, 478, 315, 376, 212, 101, 297, 132, 282, 216, 347, 322, 341, 449, 306, 299, 100, 175, 432, 214, 426, 245, 222, 228, 34, 463, 122, 82, 151, 464, 274, 156, 25, 260, 306, 408, 39, 317, 439, 66, 23, 241, 480, 474, 102, 43, 412, 23, 162, 320, 391, 194, 284, 252, 352, 162, 283, 81, 418, 360, 202, 493, 291, 309, 55, 5, 409, 455, 41, 427, 61, 351, 267, 477, 354, 241, 398, 488, 357, 110, 246, 443, 334, 484, 489, 59, 11, 186, 322, 58, 217, 414, 102, 168, 129, 377, 229, 78, 444, 156, 493, 188, 370, 387, 460, 372, 282, 43, 263, 226, 57, 411, 412, 342, 459, 295, 342, 285, 483, 57, 31, 493, 321, 456, 396, 95, 499, 225, 308, 275, 387, 164, 179, 29, 100, 405, 297, 400, 215, 111, 247, 257, 324, 236, 87, 217, 242, 372, 470, 147, 424, 264, 248, 72, 317, 473, 73, 49, 381, 416, 499, 273, 269, 392, 496, 411, 236, 331, 132, 43, 341, 377, 54, 18, 255, 265, 294, 259, 394, 465, 34, 162, 401, 127, 460, 252, 244, 53, 498, 2, 475, 278, 221, 333, 267, 238, 22, 61, 158, 367, 1, 414, 308, 332, 29, 296, 96, 402, 58, 72, 55, 231, 497, 327, 334, 497, 137, 457, 377, 300, 479, 424, 103, 241, 426, 349, 63, 249, 365, 323, 357, 403, 94, 58, 178, 187, 38, 101, 335, 131, 17, 87, 378, 51, 226, 250, 283, 10, 25, 158, 27, 196, 205, 393, 247, 98, 207, 199, 166, 167, 66, 262, 3, 432, 191, 381, 441, 166, 452, 68, 15, 150, 207, 435, 295, 218, 285, 208, 42, 335, 294, 378, 9, 258, 210, 186, 188, 76, 7, 193, 243, 292, 248, 308, 437, 364, 451, 156, 327, 92, 131, 30, 68, 224, 311, 336, 314, 405, 443, 191, 20, 403, 41, 401, 363, 263, 185, 109, 438, 14, 443, 170, 487, 304, 89, 241, 181, 256, 387, 193, 79, 258, 235, 181, 115, 143, 2, 413, 334, 293, 296, 472, 40, 374, 413, 46, 257, 210, 481, 221, 375, 94, 128, 249, 193, 207, 417, 356, 421, 196, 345, 101, 397, 11, 285, 160, 374, 188, 8, 135, 422, 170, 269, 449, 292, 499, 388, 355, 287, 431, 485, 492, 469, 402, 340, 269, 358, 465, 260, 167, 32, 281, 101, 448, 492, 282, 158, 400, 220, 208, 335, 362, 219, 221, 37, 20, 82, 338, 125, 465, 387, 289, 206, 235, 380, 104, 389, 189, 244, 111, 478, 352, 65, 353, 337, 221, 162, 181, 140, 225, 457, 170, 439, 72, 156, 11, 329, 436, 3, 376, 10, 361, 319, 339, 257, 121, 293, 262, 302, 403, 124, 69, 157, 387, 359, 86, 425, 383, 150, 90, 390, 317, 46, 311, 292, 266, 429, 193, 255, 111, 257, 374, 460, 160, 137, 470, 417, 226, 112, 17, 89, 345, 106, 389, 375, 19, 248, 461, 446, 268, 31, 486, 31, 54, 450, 88, 395, 494, 417, 253, 371, 133, 61, 340, 77, 416, 320, 327, 437, 355, 213, 176, 86, 235, 314, 66, 299, 348, 308, 205, 388, 366, 15, 95, 172, 111, 19, 177, 23, 142, 279, 59, 368, 284, 173, 306, 79, 256, 85, 9, 403, 133, 417, 422, 139, 325, 315, 12, 477, 268, 248, 267, 240, 491, 438, 157, 165, 494, 26, 231, 263, 391, 344, 300, 247, 447, 387, 401, 236, 412, 429, 390, 3, 450, 301, 153, 169, 87, 263, 225, 251, 127, 424, 60, 372, 8, 248, 53, 246, 175, 252, 465, 87, 486, 280, 491, 173, 307, 261, 43, 45, 499, 263, 147, 288, 459, 439, 459, 464, 289, 433, 88, 92, 106, 177, 342, 325, 56, 320, 352, 104, 336, 90, 87, 61, 123, 270, 298, 297, 392, 86, 328, 293, 449, 390, 258, 186, 170, 310, 69, 397, 167, 128, 173, 142, 82, 127, 96, 432, 337, 115, 480, 337, 50, 44, 11, 117, 488, 84, 260, 360, 384, 316, 25, 119, 425, 219, 434, 333, 220, 365, 51, 307, 337, 245, 231, 211, 226, 483, 95, 265, 246, 140, 359, 395] [15.98891607520173, 16.73794328300198, 23.609653416410804, 9.400294749063367, 5.5966181958678565, 21.77058575414225, 33.41961960146556, 4.720615973289696, 7.868546340451129, 7.099228971453058, 28.138402725872133, 13.245364374969549, 15.40547537261083, 8.668221963492183, 5.322583138723045, 12.912526407930919, 3.576396998466711, 11.010897025237893, 1.492221489122148, 7.610799779634891, 27.262182760497424, 4.219229118870964, 11.555560609580844, 19.054177973725928, 17.10991563001602, 13.079828488109655, 18.830195021769427, 23.402091240730073, 15.320520048017483, 8.791398616180231, 9.66111096945916, 13.044173350842822, 3.7135672004665627, 21.888631810540364, 18.962987452100048, 6.849551309027376, 7.323128347308142, 27.169007326913544, 13.08170225430972, 12.899346769717761, 7.134972881628508, 15.375959603901435, 21.59112312548246, 20.66720568451711, 14.582793704052559, 24.998711922132358, 18.41287507290389, 11.062945339132147, 15.525665828020879, 3.9125710436405257, 7.979210776239145, 17.51300680343679, 20.87377938438543, 22.823556267757745, 11.171852318019317, 31.13366896517037, 6.614256374851891, 2.9911235917503403, 25.26856329809719, 19.388482995817007, 22.763029806439015, 3.98605531683331, 10.977375350819646, 20.608890300631906, 9.557454205087684, 9.190878287727344, 5.143634426097993, 15.309045360474112, 3.9606103717237637, 25.048834035646983, 2.900708344059526, 22.38221540781023, 13.939281058355565, 28.703676348680112, 5.541570740648806, 9.686761902107762, 6.389267542545792, 28.64447818292982, 9.816242579247804, 28.391561119740516, 4.228736869975755, 5.328672149275632, 10.539670089833837, 27.258940697508603, 28.08806322087104, 1.3653257384680895, 19.31272670872791, 13.944767012764396, 23.826372843328446, 11.663246706925136, 16.600713519498207, 14.746877462684331, 5.756056961595734, 26.92746320930355, 19.62506148252326, 31.9756102678828, 15.059476250527032, 23.250689072558213, 3.3188937685134485, 8.97632046455286, 11.911612710937437, 17.628563644590578, 12.314978231149786, 6.564731238932053, 28.072915792008807, 7.325862570921066, 16.89196814572827, 14.276998337482445, 19.28684476458122, 25.760958920138133, 19.717353471335958, 6.1696641136359, 9.744312301899981, 10.659078632713921, 19.134627229888743, 8.750165914499778, 9.916772825407472, 3.936953246855962, 12.783718382216017, 22.185086729113575, 23.695029091784765, 7.7862328422224465, 21.873558464682638, 1.599150383415255, 21.908256757393918, 21.41977880913244, 5.774329669068695, 30.4724423833846, 6.15892065563666, 27.701287200140452, 13.297771373630532, 23.58710928385506, 4.952512616434017, 13.624145714177715, 32.33366816415641, 2.634721598124436, 14.78839989312051, 26.07171965806511, 17.549663319872135, 18.486740689552867, 11.090766583512092, 3.358310453868277, 9.69329344579341, 9.217516958517102, 5.423638353915704, 1.630188669213802, 2.4229408338796534, 19.861069263550196, 8.407884708659193, 11.142254002362703, 13.902456620999539, 14.107554342131497, 10.45902324056453, 22.48460358334223, 4.335187180574598, 34.560048975892705, 5.032694916612721, 15.857665670120264, 2.4103565855186364, 17.944807358134998, 3.8473637207492395, 12.924234227302875, 11.031994442947134, 24.29869208407063, 18.323605027954788, 26.10664042637933, 25.17685832479001, 8.236359104252738, 31.308607933097562, 12.65190947182706, 17.325938886074393, 16.176460046983383, 19.08583450175514, 24.500191373345285, 24.033682321230614, 15.936386678031731, 21.867034658731335, 30.550479526999784, 14.795526156673073, 9.929905364364457, 20.937470490410384, 23.85442017202619, 11.869946706717158, 1.6859257742804687, 25.4704051053818, 26.80206802799151, 18.27409145974779, 5.631387809620511, 12.193198486526693, 14.692264875620047, 23.219115499345573, 7.350130304308747, 3.049933133927651, 6.317078239148346, 20.18692706898321, 19.501409234294684, 10.458432086389005, 5.431435173371262, 5.278498684652038, 12.148398465122058, 34.078084699754896, 21.26764200814577, 16.76546835174035, 14.927071109759705, 3.192685005046317, 7.524306463671525, 10.732283353079636, 17.91007351679739, 7.56187994621914, 31.919938473202784, 17.720892877139416, 27.717144763119617, 12.868226835528198, 16.00237359090661, 20.54831163031735, 18.29357264512703, 9.59154858884888, 18.111030003449873, 3.3794676456968946, 26.228065259994164, 9.928844580353033, 20.70126134727678, 16.75930676691474, 11.662348473979076, 9.053058854326931, 5.286329468550909, 11.598215573304, 18.397214561489154, 10.385374590131885, 11.556553484610642, 18.243353118745127, 19.25039878419139, 3.440834953389979, 1.3330260560724234, 17.48536313572903, 19.221773654223803, 27.62546732671524, 21.157974635813105, 5.5863675860860935, 25.753863853159096, 7.425313152778219, 8.522734613448446, 10.911738800993465, 11.175924880499155, 0.8621764905649637, 5.14607726819951, 9.328757165509742, 20.37497228288238, 28.422876012054147, 3.328702689303465, 7.9483118409317814, 9.694773830028414, 20.81988111809946, 33.620076818926286, 19.62332745035173, 12.023307034230616, 22.492829848740996, 6.891712841724212, 15.943656696284203, 10.845795019157968, 7.6116136687486975, 5.697947953611736, 12.931611809730683, 25.249317455801936, 20.704059225157476, 6.730400528290545, 3.676206110828512, 9.568906156670165, 22.981427656066316, 9.39377486506824, 13.711286325472852, 4.539993611217285, 13.887500909170164, 27.741717023163098, 27.637694263239005, 11.505278635873445, 4.187348647768396, 16.705106254127973, 1.0458171718757223, 16.784094485371607, 2.1886439549067145, 28.33988314031665, 22.446277002834773, 18.22349624703203, 2.314348506155227, 20.002049637814263, 20.1970064088111, 9.290093650574317, 2.5872224794319854, 14.731942056172997, 17.668075119536606, 7.465391847316721, 23.385454526512543, 9.452051428958407, 33.82828874495505, 17.375585729756807, 25.36325074997397, 4.801527988542237, 28.718592750140782, 21.583529873919417, 19.51965105348565, 7.25063298053789, 20.633879838083956, 18.9995387628785, 26.78846474620313, 22.292297839840078, 20.39948865325555, 25.430851052588597, 5.067864632045744, 20.39699085151726, 34.35573960263187, 30.343024683218378, 1.5607262999613605, 23.520143169515887, 19.87013552937016, 0.3471255576514959, 24.197219245045826, 23.194122676803058, 19.44860856996263, 23.779594682611556, 11.028959596369404, 7.8471796892690655, 22.41046926106808, 10.818171046242242, 14.407279850563453, 15.152896575787157, 19.005425889644343, 18.35290422352548, 14.597347739559261, 32.59564344022785, 17.95770939553313, 20.26928227674888, 7.142225339696151, 12.614848017585821, 23.90295129836359, 14.068363537004018, 25.534807608159973, 13.285654572922805, 15.050156840873958, 18.35314476515965, 3.2574701634401317, 27.398308577658423, 8.173731280178265, 4.449988975551628, 8.420861069614174, 24.316148366184784, 21.05755449989507, 10.205774712074287, 3.414857716810128, 15.362146282639545, 19.734996676010923, 19.252460747947797, 3.0252011682605797, 18.80506966605182, 18.4703150192015, 6.578620881628252, 2.4523283613479574, 13.627473636537829, 31.47057514314166, 25.44920757095024, 7.958840321855069, 3.0189083948020374, 24.02617188221976, 1.5309580084572167, 10.73154464063076, 18.43529312167545, 27.43116227078068, 10.878614991778775, 20.704053161895708, 14.805317447994838, 23.26098657349223, 12.269639344869953, 18.15658231871632, 7.6490743811423885, 27.517011354760555, 15.380733864480899, 10.622825806356747, 27.78489568597112, 21.667555961146075, 16.726153418106616, 3.0298054729101755, 3.0955565061239403, 29.65195885147741, 22.020464662774163, 5.307631415496578, 28.783820005821834, 3.444763880101823, 16.935907375838777, 15.441053724895488, 32.51893430507225, 19.744086202466807, 16.87718666500888, 21.79795774178646, 25.07664573009955, 25.37459493934957, 6.4848981618642485, 12.537884731159945, 23.633387947792144, 17.39245251694641, 32.969680185756914, 24.577663480460394, 5.4249382086108096, 0.6848868304049407, 11.561223918331839, 21.22746423342472, 6.122291936837674, 10.63078519185678, 30.004836075337938, 4.558003611213898, 11.16536662900233, 6.419182900194228, 26.495276742025553, 13.39489447522726, 6.92877378124529, 23.974485864665873, 7.54523799377912, 28.662347638742794, 11.339863169927103, 16.547392250895033, 26.934284847167895, 33.55576365037087, 23.653469685009796, 17.78856511475995, 5.134689373936324, 14.306540717725222, 15.152022825984396, 6.224978202856963, 19.77567386407985, 24.78943018758382, 25.372961607710657, 30.612464844690717, 17.5933218310839, 23.75556205169555, 18.966665890248848, 24.48815981639602, 5.427871855123847, 4.085522483647139, 35.61691380188586, 23.29881380300518, 21.83914001139418, 19.32841713680804, 6.053884847102019, 30.108489523811727, 12.729987584122245, 14.086805030363417, 19.95781047675138, 24.2898482038472, 10.102923251795458, 10.661035456999654, 3.426074874592191, 5.059278412802248, 21.06092453059866, 17.76194240469343, 27.44560550723714, 13.51054519965916, 6.4429604411820725, 18.036472932713846, 17.075940847929047, 21.89179051897791, 16.682102389396128, 5.160867978620488, 12.664342483206703, 17.143867455132888, 24.01973815461948, 22.57534967005687, 10.287936363812864, 29.130962250720515, 18.85656475350203, 15.556255568913075, 5.369478836985394, 14.022249790028235, 25.82064047091196, 6.078066761758788, 3.194350542671336, 26.562564643043803, 28.058880146218872, 36.970730394218904, 17.029272277064603, 13.296783568979002, 23.596736648904454, 25.43583363284844, 28.21950660606631, 14.31118043896269, 17.591657247312007, 9.558163811252069, 3.4131772064631916, 22.81891824549673, 21.81520482382462, 3.196647287799091, 2.6151048874613387, 18.06264404910701, 14.485487757149638, 17.841059358129556, 16.16350761549173, 27.811124795364883, 24.252250460762816, 4.83938102916484, 10.066360791828636, 19.288194531422793, 6.716596422349671, 23.682421382216422, 13.055071686442323, 19.589673589540503, 4.940723074639504, 28.62930423684268, 2.557831560625893, 19.796096807309983, 19.481400593536907, 11.774442914273918, 16.230642380545714, 15.040067027380228, 12.311806145572067, 3.670638374711925, 4.820684815514181, 12.964743750662238, 16.395986229002787, 0.5686486709360884, 27.38883120502187, 20.878585062919456, 17.64418531146243, 2.162594613038658, 18.288750389586546, 5.163382344043777, 21.64633763916891, 6.492876040270086, 7.2469024228343155, 3.4198974404269853, 17.9484990904229, 25.898896944234505, 24.841359720358106, 23.276956583494087, 27.12732183440029, 11.602516812068124, 26.28657053664213, 23.46669859701835, 20.900870243162906, 26.868996758847622, 27.451441679002414, 7.354009791326174, 13.81512917928824, 25.909202111422825, 23.993206354836445, 5.047991746561667, 16.06312510491364, 16.126943104727626, 13.91702206294148, 25.15371625453266, 30.569231135004287, 5.491340623359854, 5.739086795994551, 13.823078729504381, 13.362585810131952, 3.4659347009466543, 7.855747615528012, 19.776225712145678, 9.82257085793735, 1.4020059046541522, 4.752786364679329, 18.46527315056073, 4.793536904361679, 13.460869438791244, 12.354677148520677, 18.228265623545678, 1.4731061493399213, 4.1811133667381135, 10.35553134811667, 3.1544865855379163, 12.944644489274157, 11.457928121597947, 23.783053754247803, 12.688820664716305, 6.574964484035269, 14.856421052321547, 13.015153710041943, 9.920129264237346, 12.078247781433788, 5.0702352212803925, 18.731020631368033, 2.490218125229997, 27.174688112579613, 12.83310607598309, 24.19993438698022, 18.601607961422346, 9.807338168655315, 26.284573754384265, 3.7912316896034524, 2.0934057753568625, 12.329589088650316, 10.76997066787266, 24.307704320832507, 17.87343132792436, 10.346474367676974, 14.344602610811654, 9.899153044939531, 3.9559847345699923, 21.74510374152385, 16.795388113262575, 27.300406823078845, 0.6112143742270433, 15.471193555358905, 11.740248761832762, 10.176382578744471, 9.520806376036273, 4.806041540878929, 1.714224268747287, 10.872723039089665, 12.319046438361132, 20.203376182428904, 16.056999847065903, 21.665780947977204, 30.22607179987754, 17.637819596131255, 26.53471161086452, 9.708731579418755, 22.535064969012307, 4.6890967445825655, 8.340495170134533, 2.524458414084763, 4.677439984050045, 12.896168749662193, 16.689837207570037, 16.396984202408568, 13.780285890059323, 25.242651717069762, 22.073095623895064, 11.73773123372552, 3.8916738810939044, 23.55814068271976, 2.4919524397831503, 24.407450789916282, 23.513699862177894, 19.23494307118368, 12.647807378774637, 6.466481787123286, 29.98860223228886, 3.97432244183336, 23.71020172164459, 11.16638524237598, 32.537658996805426, 20.833965776071835, 8.373886049154795, 14.606720600416319, 14.42853650170273, 15.79530165568535, 22.231359464193478, 13.747343742714632, 5.903980460379859, 16.8382985643653, 15.866062469311235, 11.068623583074285, 5.823637351582084, 10.333445156720522, 1.681892149769877, 26.864221723365883, 21.577708728639234, 13.86085674855764, 14.914270030693423, 27.53138712830328, 4.532719345404232, 17.69212820327125, 23.780284553952885, 4.773711281314081, 11.64264921477794, 15.299417508001579, 28.268867684670788, 11.26132871219773, 17.037797976355783, 9.182335818469465, 10.450868532811354, 15.413609891088488, 12.339232602525676, 10.646025334751409, 31.71103656118248, 23.78567816098244, 24.44637206998141, 14.22267711320112, 23.581934886504314, 5.73219186485624, 22.993193649599945, 1.47288865935342, 12.641736009810469, 11.347404556460123, 24.45174279952523, 13.383094755330651, 3.0883948697730697, 8.731034182082409, 24.56652214976552, 13.64852861339796, 17.78048518360175, 29.35346545784276, 16.93356263285655, 34.40711530429186, 18.457734829050587, 16.95550673493602, 12.234414495694622, 25.073863087306748, 21.79144431072809, 21.059199678513583, 32.546909786148866, 29.56520784689911, 21.886359554745788, 16.950130828216768, 19.01679876040294, 31.751863824478455, 20.241417477086145, 10.646218049807452, 2.523425505070389, 12.704690977262704, 8.402276346753116, 19.538510108115357, 25.405538144369594, 20.765761200158913, 12.889114570588056, 19.10289976572827, 13.389605797889203, 13.710102311004684, 16.9467920961163, 24.425461334318285, 12.087143149557772, 18.445583301075864, 2.444891523790586, 3.9203191450160495, 5.995049821594851, 17.28174447742137, 7.1774721434839215, 32.43289525987257, 27.156927845850934, 13.943053476613732, 12.00964548751367, 14.009872165578134, 25.497682489610096, 8.248297470177217, 22.28636633633076, 13.065163313774292, 12.814833117808828, 9.659169069216912, 34.677666159454034, 17.540904646525824, 4.025933578233124, 22.296033937920786, 23.91785041359386, 11.455601920347174, 9.94339485659112, 13.894980788799028, 7.395440973137679, 14.835321192880846, 30.478616344690195, 10.807850208532908, 31.85715188456151, 4.579237956651593, 8.965335341888213, 1.5227847019188387, 22.042124205933693, 21.396017431763493, 1.3373301828988098, 24.397149179651148, 1.9408055097101, 24.221326659032513, 22.877136672877516, 17.95657082999216, 20.108397889092174, 8.005690565564969, 14.309814207926362, 15.245963881881783, 14.618179565573522, 18.978406198432445, 9.081298983023178, 4.391668501181053, 9.638398079528262, 26.741128917584938, 21.148976232710986, 8.037716799935938, 29.28073466161898, 25.333644837190924, 10.834836464477151, 7.974131636921411, 21.230736933909423, 16.75055478782206, 3.9726381058683042, 14.63104424570277, 21.533061562330804, 15.18757856576225, 17.99830013486757, 13.485986122931847, 11.898459334044377, 9.814339785338893, 16.483193995828813, 18.90303552138273, 31.64027681500954, 10.352799726651376, 7.971829032714806, 28.4218742478439, 20.967529507112978, 15.96122114094814, 8.460169494018523, 3.099456684271609, 6.634110697786377, 19.52026266418931, 5.362275048154146, 25.323112416428934, 24.98604116052858, 3.614494516788702, 15.005125649372987, 30.20234023051723, 28.947378153335965, 16.81730689552661, 1.798271739043979, 27.62215179232254, 3.993318571670017, 4.310124708050077, 24.413189130891542, 6.759122805183807, 27.95510796178732, 27.76556227826153, 25.094592521407197, 11.708332862791849, 25.898606156360962, 8.59485922367454, 4.9390442029972625, 24.477761704752044, 6.805306842267061, 25.31512183625627, 15.174363691246608, 20.12241203710066, 24.342537678760763, 16.852863572651323, 16.370522565389745, 11.739195603917329, 5.712003388145449, 15.315857633971564, 23.665588214034027, 4.955932283622258, 14.55844177492422, 19.522628356983386, 14.5452127133316, 12.612393515556143, 24.405679054420716, 25.649648873706116, 2.074620398261447, 8.493115172881895, 10.373308268849458, 6.490416475343609, 1.4258476612632145, 12.28913635999983, 4.074947452135193, 8.30598259220173, 12.369965464960325, 3.938943115762145, 19.425584265241252, 17.221403858086617, 7.7001729361247016, 13.128941365453837, 4.696551011892034, 16.15755447044942, 5.279960497003906, 2.4261665801486227, 19.12136027216915, 6.189979453688954, 28.81060362768895, 27.988340216506735, 9.44502135739068, 23.875081775229646, 15.078042216126509, 1.0865620098866615, 32.19383386434764, 19.15549809283709, 15.561470142704243, 20.93585527517149, 12.58322122183767, 23.05475945310345, 29.660515841197288, 9.35559510210617, 9.161060028144359, 25.130375361456547, 3.64667896545664, 9.72437367581946, 13.070187219499793, 26.687113995723823, 23.940859913965028, 15.489321751104098, 12.267922646266392, 22.882212793159336, 17.718541475297105, 30.587817766529554, 14.216295651959538, 20.21053143353176, 31.29724614203008, 25.42781899580914, 2.2479085214706034, 25.39511442228726, 15.136922219289861, 10.744531706422293, 12.993357477426855, 5.140278182848654, 19.76015645092797, 14.950588760492444, 19.391282611289142, 9.709023873507201, 29.68016851908344, 4.1109401587076615, 22.229972372417507, 1.0309385530316484, 11.920700267492384, 5.7852436671058545, 11.10882949768249, 10.982174177652261, 18.542495885186135, 20.687595588041713, 8.117402699219097, 28.09396272482306, 15.361423881442938, 25.736064043057777, 12.013652188685796, 17.99066803626655, 15.053986074894006, 5.188186761755768, 3.8699313593809332, 25.352468004591692, 19.84064881258957, 7.773828832432809, 15.32352550189955, 30.18899475008825, 26.653540042673733, 21.380690117508006, 26.239442445952587, 19.949084142949694, 18.880710595708994, 4.0890666813259635, 5.94628868301733, 8.005638508031682, 12.315826710933985, 15.710237824480052, 22.98984706198701, 4.484004706997002, 19.753105835738474, 17.428258614060077, 5.4769444805636835, 21.133311237195418, 4.518813295799722, 7.926170858288813, 4.7648937630431085, 8.021061690275216, 17.93005387357008, 13.713023349532481, 19.315207047205035, 18.48456992763145, 6.269638542083832, 17.693888864524062, 16.923315028821484, 29.52171385888328, 17.043771302249837, 13.606598587772051, 14.113024784816911, 10.86634170486834, 22.06616892992936, 6.321991104727551, 27.293183956105608, 9.713646789500173, 5.967271969953279, 9.597076402470424, 7.404689277203837, 5.613213243522906, 9.770862112378074, 4.1558633863462475, 25.41270024588341, 25.89017778567339, 7.525284308841988, 25.703343852609063, 16.578596284712916, 4.308581133182855, 4.563690151990808, 1.9112508012011005, 5.979165249134871, 34.169768621393274, 4.275095988721939, 16.592007943524077, 26.641124097943138, 23.75817400362515, 16.048167978231955, 4.0320125533105795, 7.664590622652145, 24.64901117805897, 17.126514973496626, 27.77378701004919, 16.877442622275034, 14.109271639665142, 17.38454929573812, 5.0861098914623035, 17.96199862464417, 19.725684390395436, 14.64347105006549, 10.82645375638012, 13.234136203687346, 11.494506227572307, 30.549308197046646, 6.271000044838619, 18.354348902764993, 18.79896219956122, 8.119365817710122, 16.388632417708447, 21.09580878168048]\n"
     ]
    }
   ],
   "source": [
    "# 1.\n",
    "# w값이 0 ~ 0.8 사이\n",
    "# b 값이 0 ~ 1 사이\n",
    "# x, y 의 리스트 1000개를 만들자\n",
    "import random\n",
    "xList=[]\n",
    "yList=[]\n",
    "\n",
    "for i in range(1001):\n",
    "    w4=random.uniform(0.04,0.07)\n",
    "    b4=random.uniform(0.01,3)\n",
    "    x = random.randint(1,500)\n",
    "    y = w4*x+b4\n",
    "    xList.append(x)\n",
    "    yList.append(y)\n",
    "\n",
    "print(xList, yList)"
   ]
  },
  {
   "cell_type": "code",
   "execution_count": 140,
   "metadata": {},
   "outputs": [
    {
     "data": {
      "image/png": "[encoded data removed]",
      "text/plain": [
       "<Figure size 432x288 with 1 Axes>"
      ]
     },
     "metadata": {
      "needs_background": "light"
     },
     "output_type": "display_data"
    }
   ],
   "source": [
    "# 2.plot\n",
    "\n",
    "plt.plot(xList,yList,'b^')\n",
    "plt.show()"
   ]
  },
  {
   "cell_type": "code",
   "execution_count": 141,
   "metadata": {},
   "outputs": [
    {
     "name": "stdout",
     "output_type": "stream",
     "text": [
      "name: \"GradientDescent_8\"\n",
      "op: \"NoOp\"\n",
      "input: \"^GradientDescent_8/update_Variable_19/ApplyGradientDescent\"\n",
      "input: \"^GradientDescent_8/update_Variable_20/ApplyGradientDescent\"\n",
      "\n"
     ]
    }
   ],
   "source": [
    "# 3. 선형모델을 사용해서 w,b?\n",
    "w = tf.Variable(tf.random_normal([1],-5.0,5.0))\n",
    "b = tf.Variable(tf.random_normal([1],-5.0,5.0))\n",
    "x = tf.placeholder(tf.float32)\n",
    "y = tf.placeholder(tf.float32)\n",
    "md = w*x+b\n",
    "cost = tf.reduce_mean(tf.square(md-y))\n",
    "optimizer = tf.train.GradientDescentOptimizer(0.01)\n",
    "train2 = optimizer.minimize(cost)\n",
    "print(train2)"
   ]
  },
  {
   "cell_type": "code",
   "execution_count": 142,
   "metadata": {},
   "outputs": [
    {
     "name": "stdout",
     "output_type": "stream",
     "text": [
      "cost_val: 1312316.9 md_val: [-1259.386   -954.2728 -1653.3296 ...  -552.605  -1398.4249 -1537.4637]\n",
      "cost_val: inf md_val: [-2.2179510e+35 -1.6754851e+35 -2.9183502e+35 ... -9.6135264e+34\n",
      " -2.4651506e+35 -2.7123504e+35]\n",
      "cost_val: nan md_val: [nan nan nan ... nan nan nan]\n",
      "cost_val: nan md_val: [nan nan nan ... nan nan nan]\n",
      "cost_val: nan md_val: [nan nan nan ... nan nan nan]\n",
      "cost_val: nan md_val: [nan nan nan ... nan nan nan]\n",
      "cost_val: nan md_val: [nan nan nan ... nan nan nan]\n",
      "cost_val: nan md_val: [nan nan nan ... nan nan nan]\n",
      "cost_val: nan md_val: [nan nan nan ... nan nan nan]\n",
      "cost_val: nan md_val: [nan nan nan ... nan nan nan]\n",
      "cost_val: nan md_val: [nan nan nan ... nan nan nan]\n",
      "cost_val: nan md_val: [nan nan nan ... nan nan nan]\n",
      "cost_val: nan md_val: [nan nan nan ... nan nan nan]\n",
      "cost_val: nan md_val: [nan nan nan ... nan nan nan]\n",
      "cost_val: nan md_val: [nan nan nan ... nan nan nan]\n",
      "cost_val: nan md_val: [nan nan nan ... nan nan nan]\n",
      "cost_val: nan md_val: [nan nan nan ... nan nan nan]\n",
      "cost_val: nan md_val: [nan nan nan ... nan nan nan]\n",
      "cost_val: nan md_val: [nan nan nan ... nan nan nan]\n",
      "cost_val: nan md_val: [nan nan nan ... nan nan nan]\n",
      "cost_val: nan md_val: [nan nan nan ... nan nan nan]\n",
      "cost_val: nan md_val: [nan nan nan ... nan nan nan]\n",
      "cost_val: nan md_val: [nan nan nan ... nan nan nan]\n",
      "cost_val: nan md_val: [nan nan nan ... nan nan nan]\n",
      "cost_val: nan md_val: [nan nan nan ... nan nan nan]\n",
      "cost_val: nan md_val: [nan nan nan ... nan nan nan]\n",
      "cost_val: nan md_val: [nan nan nan ... nan nan nan]\n",
      "cost_val: nan md_val: [nan nan nan ... nan nan nan]\n",
      "cost_val: nan md_val: [nan nan nan ... nan nan nan]\n",
      "cost_val: nan md_val: [nan nan nan ... nan nan nan]\n",
      "cost_val: nan md_val: [nan nan nan ... nan nan nan]\n",
      "cost_val: nan md_val: [nan nan nan ... nan nan nan]\n",
      "cost_val: nan md_val: [nan nan nan ... nan nan nan]\n",
      "cost_val: nan md_val: [nan nan nan ... nan nan nan]\n",
      "cost_val: nan md_val: [nan nan nan ... nan nan nan]\n",
      "cost_val: nan md_val: [nan nan nan ... nan nan nan]\n",
      "cost_val: nan md_val: [nan nan nan ... nan nan nan]\n",
      "cost_val: nan md_val: [nan nan nan ... nan nan nan]\n",
      "cost_val: nan md_val: [nan nan nan ... nan nan nan]\n",
      "cost_val: nan md_val: [nan nan nan ... nan nan nan]\n",
      "cost_val: nan md_val: [nan nan nan ... nan nan nan]\n",
      "cost_val: nan md_val: [nan nan nan ... nan nan nan]\n",
      "cost_val: nan md_val: [nan nan nan ... nan nan nan]\n",
      "cost_val: nan md_val: [nan nan nan ... nan nan nan]\n",
      "cost_val: nan md_val: [nan nan nan ... nan nan nan]\n",
      "cost_val: nan md_val: [nan nan nan ... nan nan nan]\n",
      "cost_val: nan md_val: [nan nan nan ... nan nan nan]\n",
      "cost_val: nan md_val: [nan nan nan ... nan nan nan]\n",
      "cost_val: nan md_val: [nan nan nan ... nan nan nan]\n",
      "cost_val: nan md_val: [nan nan nan ... nan nan nan]\n",
      "cost_val: nan md_val: [nan nan nan ... nan nan nan]\n",
      "cost_val: nan md_val: [nan nan nan ... nan nan nan]\n",
      "cost_val: nan md_val: [nan nan nan ... nan nan nan]\n",
      "cost_val: nan md_val: [nan nan nan ... nan nan nan]\n",
      "cost_val: nan md_val: [nan nan nan ... nan nan nan]\n",
      "cost_val: nan md_val: [nan nan nan ... nan nan nan]\n",
      "cost_val: nan md_val: [nan nan nan ... nan nan nan]\n",
      "cost_val: nan md_val: [nan nan nan ... nan nan nan]\n",
      "cost_val: nan md_val: [nan nan nan ... nan nan nan]\n",
      "cost_val: nan md_val: [nan nan nan ... nan nan nan]\n",
      "cost_val: nan md_val: [nan nan nan ... nan nan nan]\n",
      "cost_val: nan md_val: [nan nan nan ... nan nan nan]\n",
      "cost_val: nan md_val: [nan nan nan ... nan nan nan]\n",
      "cost_val: nan md_val: [nan nan nan ... nan nan nan]\n",
      "cost_val: nan md_val: [nan nan nan ... nan nan nan]\n",
      "cost_val: nan md_val: [nan nan nan ... nan nan nan]\n",
      "cost_val: nan md_val: [nan nan nan ... nan nan nan]\n",
      "cost_val: nan md_val: [nan nan nan ... nan nan nan]\n",
      "cost_val: nan md_val: [nan nan nan ... nan nan nan]\n",
      "cost_val: nan md_val: [nan nan nan ... nan nan nan]\n",
      "cost_val: nan md_val: [nan nan nan ... nan nan nan]\n",
      "cost_val: nan md_val: [nan nan nan ... nan nan nan]\n",
      "cost_val: nan md_val: [nan nan nan ... nan nan nan]\n",
      "cost_val: nan md_val: [nan nan nan ... nan nan nan]\n",
      "cost_val: nan md_val: [nan nan nan ... nan nan nan]\n",
      "cost_val: nan md_val: [nan nan nan ... nan nan nan]\n",
      "cost_val: nan md_val: [nan nan nan ... nan nan nan]\n",
      "cost_val: nan md_val: [nan nan nan ... nan nan nan]\n",
      "cost_val: nan md_val: [nan nan nan ... nan nan nan]\n",
      "cost_val: nan md_val: [nan nan nan ... nan nan nan]\n",
      "cost_val: nan md_val: [nan nan nan ... nan nan nan]\n",
      "cost_val: nan md_val: [nan nan nan ... nan nan nan]\n",
      "cost_val: nan md_val: [nan nan nan ... nan nan nan]\n",
      "cost_val: nan md_val: [nan nan nan ... nan nan nan]\n",
      "cost_val: nan md_val: [nan nan nan ... nan nan nan]\n",
      "cost_val: nan md_val: [nan nan nan ... nan nan nan]\n",
      "cost_val: nan md_val: [nan nan nan ... nan nan nan]\n",
      "cost_val: nan md_val: [nan nan nan ... nan nan nan]\n",
      "cost_val: nan md_val: [nan nan nan ... nan nan nan]\n",
      "cost_val: nan md_val: [nan nan nan ... nan nan nan]\n",
      "cost_val: nan md_val: [nan nan nan ... nan nan nan]\n",
      "cost_val: nan md_val: [nan nan nan ... nan nan nan]\n",
      "cost_val: nan md_val: [nan nan nan ... nan nan nan]\n",
      "cost_val: nan md_val: [nan nan nan ... nan nan nan]\n",
      "cost_val: nan md_val: [nan nan nan ... nan nan nan]\n",
      "cost_val: nan md_val: [nan nan nan ... nan nan nan]\n",
      "cost_val: nan md_val: [nan nan nan ... nan nan nan]\n",
      "cost_val: nan md_val: [nan nan nan ... nan nan nan]\n",
      "cost_val: nan md_val: [nan nan nan ... nan nan nan]\n",
      "cost_val: nan md_val: [nan nan nan ... nan nan nan]\n",
      "cost_val: nan md_val: [nan nan nan ... nan nan nan]\n"
     ]
    },
    {
     "data": {
      "text/plain": [
       "[array([nan], dtype=float32), array([nan], dtype=float32)]"
      ]
     },
     "execution_count": 142,
     "metadata": {},
     "output_type": "execute_result"
    }
   ],
   "source": [
    "sess = tf.Session()\n",
    "sess.run(tf.global_variables_initializer())\n",
    "\n",
    "for step in range(1001):\n",
    "    cost_val, md_val, _ = sess.run([cost,md,train2],feed_dict={x:xList,y:yList})\n",
    "    if step % 10 ==0:\n",
    "        print(\"cost_val:\",cost_val,\"md_val:\",md_val)\n",
    "sess.run([w,b])    "
   ]
  },
  {
   "cell_type": "code",
   "execution_count": 143,
   "metadata": {},
   "outputs": [
    {
     "name": "stdout",
     "output_type": "stream",
     "text": [
      "[array([nan], dtype=float32), array([nan], dtype=float32)]\n"
     ]
    }
   ],
   "source": [
    "print(sess.run([w,b]))"
   ]
  },
  {
   "cell_type": "code",
   "execution_count": null,
   "metadata": {},
   "outputs": [],
   "source": []
  }
 ],
 "metadata": {
  "kernelspec": {
   "display_name": "Python 3",
   "language": "python",
   "name": "python3"
  },
  "language_info": {
   "codemirror_mode": {
    "name": "ipython",
    "version": 3
   },
   "file_extension": ".py",
   "mimetype": "text/x-python",
   "name": "python",
   "nbconvert_exporter": "python",
   "pygments_lexer": "ipython3",
   "version": "3.6.7"
  }
 },
 "nbformat": 4,
 "nbformat_minor": 2
}
