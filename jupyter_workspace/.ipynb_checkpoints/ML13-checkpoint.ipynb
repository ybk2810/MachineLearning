{
 "cells": [
  {
   "cell_type": "markdown",
   "metadata": {},
   "source": [
    "<h3>우편번호 손글씨 인식하기</h3>"
   ]
  },
  {
   "cell_type": "code",
   "execution_count": 1,
   "metadata": {},
   "outputs": [],
   "source": [
    "import numpy as np\n",
    "import scipy as sp\n",
    "import pandas as pd\n",
    "import sklearn as sk\n",
    "import matplotlib as mpl\n",
    "import matplotlib.pylab as plt\n",
    "from mpl_toolkits.mplot3d import Axes3D\n",
    "import seaborn as sns\n",
    "\n",
    "sns.set()\n",
    "sns.set_style(\"whitegrid\")\n",
    "sns.set_color_codes()\n",
    "\n",
    "mpl.rc('figure', figsize=(8,5))\n",
    "mpl.rc('figure', dpi=300)"
   ]
  },
  {
   "cell_type": "code",
   "execution_count": 2,
   "metadata": {},
   "outputs": [
    {
     "name": "stderr",
     "output_type": "stream",
     "text": [
      "Using TensorFlow backend.\n"
     ]
    },
    {
     "name": "stdout",
     "output_type": "stream",
     "text": [
      "Downloading data from https://s3.amazonaws.com/img-datasets/mnist.npz\n",
      "11493376/11490434 [==============================] - 2s 0us/step\n"
     ]
    }
   ],
   "source": [
    "from keras.datasets import mnist\n",
    "from keras.utils import np_utils\n",
    "\n",
    "(X_train0,y_train0),(X_test0,y_test0) = mnist.load_data()"
   ]
  },
  {
   "cell_type": "code",
   "execution_count": 3,
   "metadata": {},
   "outputs": [],
   "source": [
    "X_train = X_train0[:,:,:,np.newaxis].astype('float32')/255.0\n",
    "X_test = X_test0[:,:,:,np.newaxis].astype('float32')/255.0"
   ]
  },
  {
   "cell_type": "markdown",
   "metadata": {},
   "source": [
    "<h3>Feature Scaling</h3>\n",
    "overfitting 방지 및 Cost 함수의 빠른 수렴을 위해서 0~255 범위를 0-1범위로 Scaling"
   ]
  },
  {
   "cell_type": "code",
   "execution_count": 4,
   "metadata": {},
   "outputs": [],
   "source": [
    "# MNIST 예제는 0~9 숫자\n",
    "# 10가지의 Category를 가지고 있다.\n",
    "Y_train = np_utils.to_categorical(y_train0,10)\n",
    "Y_test = np_utils.to_categorical(y_test0,10)"
   ]
  },
  {
   "cell_type": "code",
   "execution_count": 5,
   "metadata": {},
   "outputs": [
    {
     "data": {
      "text/plain": [
       "(60000, 28, 28, 1)"
      ]
     },
     "execution_count": 5,
     "metadata": {},
     "output_type": "execute_result"
    }
   ],
   "source": [
    "X_train.shape"
   ]
  },
  {
   "cell_type": "code",
   "execution_count": 6,
   "metadata": {},
   "outputs": [],
   "source": [
    "from keras.models import Sequential\n",
    "from keras.layers import Conv2D, MaxPooling2D, Flatten, Dense, Dropout\n",
    "from keras.optimizers import Adadelta\n",
    "from keras.regularizers import l2"
   ]
  },
  {
   "cell_type": "code",
   "execution_count": 7,
   "metadata": {},
   "outputs": [],
   "source": [
    "model1 = Sequential()"
   ]
  },
  {
   "cell_type": "code",
   "execution_count": null,
   "metadata": {},
   "outputs": [],
   "source": [
    "# Conv2D : 필터를 이용하여 영상 특징을 추출한다.\n",
    "# activation : 활성함수를 지정\n",
    "\n",
    "# kernel_initializer : glorot_uniform\n",
    "# 입력값과 출력 값 사이의 난수를 선택해서 입력값의 제곱근으로 나눈다.\n",
    "# Xavier Glorot(과학자) : \n",
    "# Yoshua Bengio(과학자) : 2010년"
   ]
  },
  {
   "cell_type": "code",
   "execution_count": 10,
   "metadata": {},
   "outputs": [],
   "source": [
    "model1.add(Conv2D(8,(5,5), activation='relu', input_shape=(28,28,1), kernel_initializer=\"glorot_uniform\")) "
   ]
  },
  {
   "cell_type": "code",
   "execution_count": null,
   "metadata": {},
   "outputs": [],
   "source": [
    "# MaxPooling2D : 영상에서 사소한 변화가 특징 추출에 크게 연향을 미치지 않도록 해준다.\n",
    "#                강한것만 남기고 약한 변화는 줄이는 효과"
   ]
  },
  {
   "cell_type": "code",
   "execution_count": 11,
   "metadata": {},
   "outputs": [],
   "source": [
    "model1.add(MaxPooling2D())"
   ]
  },
  {
   "cell_type": "code",
   "execution_count": null,
   "metadata": {},
   "outputs": [],
   "source": [
    "# Flatten : 2차원의 특징맵을 전결합층으로 전달하기 위해서 1차원 형식으로 바꿔준다."
   ]
  },
  {
   "cell_type": "code",
   "execution_count": 12,
   "metadata": {},
   "outputs": [],
   "source": [
    "model1.add(Flatten())"
   ]
  },
  {
   "cell_type": "code",
   "execution_count": null,
   "metadata": {},
   "outputs": [],
   "source": [
    "# Dense : fully Connected layer"
   ]
  },
  {
   "cell_type": "code",
   "execution_count": 13,
   "metadata": {},
   "outputs": [],
   "source": [
    "model1.add(Dense(10, activation=\"softmax\", kernel_initializer=\"glorot_uniform\")) # output: 10개"
   ]
  },
  {
   "cell_type": "code",
   "execution_count": null,
   "metadata": {},
   "outputs": [],
   "source": [
    "# softmax: 활성함수, 값의 분포를 활률 분포로 바꿔주는 함수\n",
    "# 0.0012 0.00111 0.9870 0.0240\n",
    "# 0      0       1      0"
   ]
  },
  {
   "cell_type": "code",
   "execution_count": 14,
   "metadata": {},
   "outputs": [],
   "source": [
    "np.random.seed(777)"
   ]
  },
  {
   "cell_type": "code",
   "execution_count": null,
   "metadata": {},
   "outputs": [],
   "source": [
    "# Cross entropy는 두개의 확률분포 간의 거리(차이)를 의미\n",
    "# 확률분포가 비슷하면 값이 작고 확률분포값이 다르면 값이 크다."
   ]
  },
  {
   "cell_type": "code",
   "execution_count": 15,
   "metadata": {},
   "outputs": [],
   "source": [
    "model1.compile(loss=\"categorical_crossentropy\", metrics=['accuracy'], optimizer=Adadelta())"
   ]
  },
  {
   "cell_type": "code",
   "execution_count": 17,
   "metadata": {},
   "outputs": [
    {
     "name": "stdout",
     "output_type": "stream",
     "text": [
      "Train on 60000 samples, validate on 10000 samples\n",
      "Epoch 1/10\n",
      "60000/60000 [==============================] - 13s 209us/step - loss: 0.7387 - acc: 0.7901 - val_loss: 0.3283 - val_acc: 0.9058\n",
      "Epoch 2/10\n",
      "60000/60000 [==============================] - 12s 194us/step - loss: 0.3049 - acc: 0.9115 - val_loss: 0.2426 - val_acc: 0.9318\n",
      "Epoch 3/10\n",
      "60000/60000 [==============================] - 12s 197us/step - loss: 0.2333 - acc: 0.9341 - val_loss: 0.2037 - val_acc: 0.9403\n",
      "Epoch 4/10\n",
      "60000/60000 [==============================] - 12s 195us/step - loss: 0.1869 - acc: 0.9467 - val_loss: 0.1598 - val_acc: 0.9545\n",
      "Epoch 5/10\n",
      "60000/60000 [==============================] - 12s 195us/step - loss: 0.1543 - acc: 0.9566 - val_loss: 0.1270 - val_acc: 0.9629\n",
      "Epoch 6/10\n",
      "60000/60000 [==============================] - 12s 196us/step - loss: 0.1300 - acc: 0.9636 - val_loss: 0.1081 - val_acc: 0.9713\n",
      "Epoch 7/10\n",
      "60000/60000 [==============================] - 12s 195us/step - loss: 0.1135 - acc: 0.9686 - val_loss: 0.0964 - val_acc: 0.9732\n",
      "Epoch 8/10\n",
      "60000/60000 [==============================] - 12s 194us/step - loss: 0.1010 - acc: 0.9718 - val_loss: 0.0891 - val_acc: 0.9751\n",
      "Epoch 9/10\n",
      "60000/60000 [==============================] - 12s 196us/step - loss: 0.0921 - acc: 0.9741 - val_loss: 0.0778 - val_acc: 0.9768\n",
      "Epoch 10/10\n",
      "60000/60000 [==============================] - 12s 196us/step - loss: 0.0845 - acc: 0.9762 - val_loss: 0.0752 - val_acc: 0.9761\n",
      "Wall time: 1min 58s\n"
     ]
    }
   ],
   "source": [
    "# learning\n",
    "%%time \n",
    "# %%time : 시간 측정\n",
    "hist1 = model1.fit(X_train, Y_train, epochs=10, batch_size=600, validation_data=(X_test,Y_test))"
   ]
  },
  {
   "cell_type": "code",
   "execution_count": 20,
   "metadata": {},
   "outputs": [
    {
     "data": {
      "image/png": "[encoded data removed]",
      "text/plain": [
       "<Figure size 432x288 with 1 Axes>"
      ]
     },
     "metadata": {
      "needs_background": "light"
     },
     "output_type": "display_data"
    }
   ],
   "source": [
    "plt.plot(hist1.history['acc'], 'b-', label=\"train\")\n",
    "plt.plot(hist1.history['val_acc'], 'r:', label=\"test\") # validation accuracy\n",
    "plt.legend()\n",
    "plt.show()"
   ]
  },
  {
   "cell_type": "code",
   "execution_count": 21,
   "metadata": {},
   "outputs": [],
   "source": [
    "model1.save(\"mnist_cnn.model\")"
   ]
  },
  {
   "cell_type": "code",
   "execution_count": 22,
   "metadata": {},
   "outputs": [
    {
     "name": "stdout",
     "output_type": "stream",
     "text": [
      " C 드라이브의 볼륨에는 이름이 없습니다.\n",
      " 볼륨 일련 번호: 76CD-579A\n",
      "\n",
      " C:\\Users\\acorn\\OneDrive\\jupyter_workspace 디렉터리\n",
      "\n",
      "2018-11-15  오전 11:16    <DIR>          .\n",
      "2018-11-15  오전 11:16    <DIR>          ..\n",
      "2018-11-15  오전 09:50    <DIR>          .ipynb_checkpoints\n",
      "2018-11-14  오후 12:21           539,885 day1.ipynb\n",
      "2018-10-25  오후 06:15           101,231 day2.ipynb\n",
      "2018-10-26  오후 06:12            67,228 day3.ipynb\n",
      "2018-10-29  오후 06:21           279,545 day4.ipynb\n",
      "2018-10-31  오후 01:10               102 dept.csv\n",
      "2018-11-12  오후 12:07    <DIR>          img\n",
      "2018-11-01  오전 11:41             4,177 iris.csv\n",
      "2018-11-12  오후 04:25                80 jsonTest.txt\n",
      "2018-10-24  오후 04:09               262 korea.txt\n",
      "2018-11-15  오전 09:55             6,496 ML_CNN_base.ipynb\n",
      "2018-11-13  오후 01:04             7,394 ML_MLP.ipynb\n",
      "2018-11-13  오전 10:53           214,908 ML01.ipynb\n",
      "2018-11-13  오전 10:53           517,842 ML02.ipynb\n",
      "2018-11-13  오전 11:19            89,664 ML03.ipynb\n",
      "2018-11-13  오전 11:45            64,687 ML04.ipynb\n",
      "2018-11-13  오후 12:49            83,631 ML05.ipynb\n",
      "2018-11-13  오후 03:19            23,273 ML06.ipynb\n",
      "2018-11-13  오후 03:19            29,962 ML07.ipynb\n",
      "2018-11-14  오전 10:20           134,705 ML08.ipynb\n",
      "2018-11-14  오전 11:00            29,949 ML09.ipynb\n",
      "2018-11-14  오전 11:00             7,824 ML10.ipynb\n",
      "2018-11-15  오전 09:55            17,280 ML11.ipynb\n",
      "2018-11-15  오전 09:55         1,444,599 ML12.ipynb\n",
      "2018-11-15  오전 11:15            26,852 ML13.ipynb\n",
      "2018-11-12  오전 09:52    <DIR>          mnist\n",
      "2018-11-15  오전 11:16           161,584 mnist_cnn.model\n",
      "2018-10-24  오후 03:47               545 populations.txt\n",
      "2018-10-31  오후 01:10             2,427 product_sales.csv\n",
      "2018-10-25  오후 12:13                64 student.txt\n",
      "2018-10-26  오전 10:49                96 student1.txt\n",
      "2018-10-25  오전 10:10               164 test.npy\n",
      "2018-10-29  오후 04:39            25,997 test.png\n",
      "2018-10-26  오전 10:51               111 test1.csv\n",
      "2018-10-26  오전 10:56               102 test2.csv\n",
      "2018-10-25  오전 10:21               260 test2.txt\n",
      "2018-10-26  오전 10:56                84 test3.csv\n",
      "2018-11-13  오후 12:47             2,209 tree.dot\n",
      "              35개 파일           3,885,219 바이트\n",
      "               5개 디렉터리  169,005,875,200 바이트 남음\n"
     ]
    }
   ],
   "source": [
    "%ls"
   ]
  },
  {
   "cell_type": "code",
   "execution_count": 23,
   "metadata": {},
   "outputs": [],
   "source": [
    "l1 = model1.layers[0] # layer 1번"
   ]
  },
  {
   "cell_type": "code",
   "execution_count": 24,
   "metadata": {},
   "outputs": [],
   "source": [
    "w1,b1 = l1.get_weights() # layer 1번에서의 가중치와 절편"
   ]
  },
  {
   "cell_type": "code",
   "execution_count": 26,
   "metadata": {},
   "outputs": [
    {
     "data": {
      "image/png": "[encoded data removed]",
      "text/plain": [
       "<Figure size 432x288 with 4 Axes>"
      ]
     },
     "metadata": {
      "needs_background": "light"
     },
     "output_type": "display_data"
    }
   ],
   "source": [
    "# 함수 실행 과정 중 실제로 가중치가 변화하고 있는지 보기위해 한번 띄어봄\n",
    "M = 4\n",
    "for i in range(M):\n",
    "    plt.subplot(1,M,i+1)\n",
    "    plt.imshow(w1[:,:,0,i], cmap=mpl.cm.bone_r)\n",
    "    plt.grid(False)"
   ]
  },
  {
   "cell_type": "markdown",
   "metadata": {},
   "source": [
    "<h3>시각화 함수</h3>"
   ]
  },
  {
   "cell_type": "code",
   "execution_count": 47,
   "metadata": {},
   "outputs": [],
   "source": [
    "def visualize1(x_test):\n",
    "    model1_test1 = Sequential()\n",
    "    model1_test1.add(Conv2D(8, (5, 5), activation='linear', input_shape=(28, 28, 1), weights=(w1, b1)))\n",
    "    model1_test2 = Sequential()\n",
    "    model1_test2.add(Conv2D(8, (5, 5), activation='relu', input_shape=(28, 28, 1), weights=(w1, b1)))\n",
    "    model1_test2.add(MaxPooling2D())\n",
    "    a_test = model1_test1.predict(x_test)\n",
    "    z_test = model1_test2.predict(x_test)\n",
    "    \n",
    "    plt.figure(figsize=(10, 6))\n",
    "    M = 4 # train 단계\n",
    "    for i in range(M + 1):\n",
    "        if i == 0:\n",
    "            plt.subplot(3, M + 1, i + 1) # 뽑은 데이터 x_test\n",
    "            plt.imshow(x_test[0, :, :, i], cmap=mpl.cm.bone_r)\n",
    "            plt.xticks([]); plt.yticks([]); plt.grid(False)\n",
    "        else:\n",
    "            plt.subplot(3, M + 1, i + 1) # 가중치 감안해서 그린것\n",
    "            plt.imshow(w1[:, :, 0, i - 1], cmap=mpl.cm.bone_r)\n",
    "            plt.xticks([]); plt.yticks([]); plt.grid(False)\n",
    "            \n",
    "            plt.subplot(3, M + 1, i + 1 + M + 1) # linear 활성함수 적용한 것 \n",
    "            plt.imshow(a_test[0, :, :, i - 1], cmap=mpl.cm.bone_r)\n",
    "            plt.xticks([]); plt.yticks([]); plt.grid(False)\n",
    "            \n",
    "            plt.subplot(3, M + 1, i + 1 + 2 * M + 2) # relu 활성합수 적용한 것\n",
    "            plt.imshow(z_test[0, :, :, i - 1], cmap=mpl.cm.bone_r)\n",
    "            plt.xticks([]); plt.yticks([]); plt.grid(False)\n",
    "    plt.tight_layout()\n",
    "    plt.show()"
   ]
  },
  {
   "cell_type": "code",
   "execution_count": 48,
   "metadata": {},
   "outputs": [
    {
     "data": {
      "image/png": "[encoded data removed]",
      "text/plain": [
       "<Figure size 720x432 with 13 Axes>"
      ]
     },
     "metadata": {},
     "output_type": "display_data"
    }
   ],
   "source": [
    "i = 6\n",
    "visualize1(X_train[i:i+1])"
   ]
  },
  {
   "cell_type": "code",
   "execution_count": 49,
   "metadata": {},
   "outputs": [],
   "source": [
    "model2 = Sequential()\n",
    "# filter 2번 처리하고 결과 보기\n",
    "model2.add(Conv2D(8,(5,5), activation='relu', input_shape=(28, 28, 1), kernel_initializer=\"glorot_uniform\"))\n",
    "model2.add(MaxPooling2D())\n",
    "model2.add(Conv2D(8,(5,5), activation='relu', input_shape=(28, 28, 1), kernel_initializer=\"glorot_uniform\"))\n",
    "model2.add(MaxPooling2D())\n",
    "model2.add(Flatten())\n",
    "model2.add(Dense(10, activation=\"softmax\", kernel_initializer=\"glorot_uniform\"))"
   ]
  },
  {
   "cell_type": "code",
   "execution_count": 51,
   "metadata": {},
   "outputs": [],
   "source": [
    "model2.compile(loss=\"categorical_crossentropy\", metrics=['accuracy'], optimizer=Adadelta())"
   ]
  },
  {
   "cell_type": "code",
   "execution_count": 52,
   "metadata": {},
   "outputs": [
    {
     "name": "stdout",
     "output_type": "stream",
     "text": [
      "Train on 60000 samples, validate on 10000 samples\n",
      "Epoch 1/20\n",
      "60000/60000 [==============================] - 15s 250us/step - loss: 0.8612 - acc: 0.7363 - val_loss: 0.2504 - val_acc: 0.9274\n",
      "Epoch 2/20\n",
      "60000/60000 [==============================] - 15s 245us/step - loss: 0.2227 - acc: 0.9343 - val_loss: 0.1597 - val_acc: 0.9527\n",
      "Epoch 3/20\n",
      "60000/60000 [==============================] - 15s 247us/step - loss: 0.1642 - acc: 0.9520 - val_loss: 0.1266 - val_acc: 0.9615\n",
      "Epoch 4/20\n",
      "60000/60000 [==============================] - 15s 251us/step - loss: 0.1392 - acc: 0.9592 - val_loss: 0.1151 - val_acc: 0.9644\n",
      "Epoch 5/20\n",
      "60000/60000 [==============================] - 15s 254us/step - loss: 0.1236 - acc: 0.9637 - val_loss: 0.0994 - val_acc: 0.9692\n",
      "Epoch 6/20\n",
      "60000/60000 [==============================] - 15s 246us/step - loss: 0.1115 - acc: 0.9673 - val_loss: 0.1038 - val_acc: 0.9654\n",
      "Epoch 7/20\n",
      "60000/60000 [==============================] - 15s 245us/step - loss: 0.1039 - acc: 0.9691 - val_loss: 0.0841 - val_acc: 0.9741\n",
      "Epoch 8/20\n",
      "60000/60000 [==============================] - 15s 246us/step - loss: 0.0965 - acc: 0.9712 - val_loss: 0.0776 - val_acc: 0.9756\n",
      "Epoch 9/20\n",
      "60000/60000 [==============================] - 15s 247us/step - loss: 0.0904 - acc: 0.9728 - val_loss: 0.0757 - val_acc: 0.9751\n",
      "Epoch 10/20\n",
      "60000/60000 [==============================] - 15s 247us/step - loss: 0.0867 - acc: 0.9737 - val_loss: 0.0701 - val_acc: 0.9774\n",
      "Epoch 11/20\n",
      "60000/60000 [==============================] - 15s 247us/step - loss: 0.0810 - acc: 0.9762 - val_loss: 0.0690 - val_acc: 0.9779\n",
      "Epoch 12/20\n",
      "60000/60000 [==============================] - 15s 246us/step - loss: 0.0781 - acc: 0.9765 - val_loss: 0.0761 - val_acc: 0.9757\n",
      "Epoch 13/20\n",
      "60000/60000 [==============================] - 15s 248us/step - loss: 0.0748 - acc: 0.9779 - val_loss: 0.0636 - val_acc: 0.9805\n",
      "Epoch 14/20\n",
      "60000/60000 [==============================] - 15s 248us/step - loss: 0.0713 - acc: 0.9788 - val_loss: 0.0629 - val_acc: 0.9802\n",
      "Epoch 15/20\n",
      "60000/60000 [==============================] - 15s 248us/step - loss: 0.0686 - acc: 0.9796 - val_loss: 0.0640 - val_acc: 0.9788\n",
      "Epoch 16/20\n",
      "60000/60000 [==============================] - 15s 247us/step - loss: 0.0669 - acc: 0.9798 - val_loss: 0.0583 - val_acc: 0.9810\n",
      "Epoch 17/20\n",
      "60000/60000 [==============================] - 15s 248us/step - loss: 0.0640 - acc: 0.9809 - val_loss: 0.0557 - val_acc: 0.9819\n",
      "Epoch 18/20\n",
      "60000/60000 [==============================] - 15s 248us/step - loss: 0.0618 - acc: 0.9814 - val_loss: 0.0573 - val_acc: 0.9815\n",
      "Epoch 19/20\n",
      "60000/60000 [==============================] - 15s 248us/step - loss: 0.0604 - acc: 0.9820 - val_loss: 0.0548 - val_acc: 0.9822\n",
      "Epoch 20/20\n",
      "60000/60000 [==============================] - 15s 248us/step - loss: 0.0586 - acc: 0.9826 - val_loss: 0.0537 - val_acc: 0.9820\n",
      "Wall time: 4min 57s\n"
     ]
    }
   ],
   "source": [
    "%%time\n",
    "hist2 = model2.fit(X_train, Y_train, epochs=20, batch_size=600, validation_data=(X_test, Y_test))"
   ]
  },
  {
   "cell_type": "code",
   "execution_count": 54,
   "metadata": {},
   "outputs": [
    {
     "data": {
      "image/png": "[encoded data removed]",
      "text/plain": [
       "<Figure size 432x288 with 1 Axes>"
      ]
     },
     "metadata": {
      "needs_background": "light"
     },
     "output_type": "display_data"
    }
   ],
   "source": [
    "plt.plot(hist2.history['acc'], 'b-', label=\"train\")\n",
    "plt.plot(hist2.history['val_acc'], 'r:', label=\"test\")\n",
    "plt.legend()\n",
    "plt.show()"
   ]
  },
  {
   "cell_type": "code",
   "execution_count": null,
   "metadata": {},
   "outputs": [],
   "source": []
  },
  {
   "cell_type": "code",
   "execution_count": null,
   "metadata": {},
   "outputs": [],
   "source": []
  },
  {
   "cell_type": "code",
   "execution_count": null,
   "metadata": {},
   "outputs": [],
   "source": []
  },
  {
   "cell_type": "code",
   "execution_count": null,
   "metadata": {},
   "outputs": [],
   "source": []
  },
  {
   "cell_type": "code",
   "execution_count": null,
   "metadata": {},
   "outputs": [],
   "source": []
  },
  {
   "cell_type": "code",
   "execution_count": null,
   "metadata": {},
   "outputs": [],
   "source": []
  },
  {
   "cell_type": "code",
   "execution_count": null,
   "metadata": {},
   "outputs": [],
   "source": []
  },
  {
   "cell_type": "code",
   "execution_count": null,
   "metadata": {},
   "outputs": [],
   "source": []
  }
 ],
 "metadata": {
  "kernelspec": {
   "display_name": "Python 3",
   "language": "python",
   "name": "python3"
  },
  "language_info": {
   "codemirror_mode": {
    "name": "ipython",
    "version": 3
   },
   "file_extension": ".py",
   "mimetype": "text/x-python",
   "name": "python",
   "nbconvert_exporter": "python",
   "pygments_lexer": "ipython3",
   "version": "3.7.0"
  }
 },
 "nbformat": 4,
 "nbformat_minor": 2
}
