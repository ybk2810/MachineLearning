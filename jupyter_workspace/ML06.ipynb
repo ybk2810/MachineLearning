{
 "cells": [
  {
   "cell_type": "code",
   "execution_count": 1,
   "metadata": {},
   "outputs": [],
   "source": [
    "# 의사결정 트리\n",
    "\n",
    "# Random Forest\n",
    "\n",
    "# n개의 훈련 데이터에서 무작위로 추출해\n",
    "# n개의 데이터 셋을 만든다\n",
    "# 중복 추출이 가능하며 하나의 부트스트랩 샘플엔 대략 1/3 정도 샘플을 누락\n",
    "\n",
    "# ['a','b','c','d']=> ['d','a','a','d'] or ['a','b','a','c']\n",
    "\n",
    "# 분할 시 사용 할 후보 특성을 지정 할 수 있다\n",
    "# max_freatures = n_feature\n",
    "# 모든 특성을 다 사용해서 트리를 구성\n",
    "\n",
    "# max_features = 1: 노드 분할을 무작위 :\n",
    "# 다양한 트리 생성"
   ]
  },
  {
   "cell_type": "code",
   "execution_count": 2,
   "metadata": {},
   "outputs": [],
   "source": [
    "import numpy as np\n",
    "import matplotlib.pyplot as plt\n",
    "from sklearn.ensemble import RandomForestClassifier\n",
    "from sklearn.datasets import make_moons\n",
    "from sklearn.model_selection import train_test_split"
   ]
  },
  {
   "cell_type": "code",
   "execution_count": 3,
   "metadata": {},
   "outputs": [
    {
     "name": "stdout",
     "output_type": "stream",
     "text": [
      "[[ 1.87756309  0.56839425]\n",
      " [ 0.36877983 -0.34894509]\n",
      " [ 0.96515318  0.10921819]\n",
      " [ 0.48599685  0.20291313]\n",
      " [ 1.72532644  0.53367598]\n",
      " [ 1.47976586  0.08726406]\n",
      " [ 2.11889248  0.60498388]\n",
      " [-0.74017805  0.49615542]\n",
      " [-0.38099245  1.34740194]\n",
      " [ 0.22944941  0.87981305]\n",
      " [ 1.31311917 -0.69665985]\n",
      " [ 0.87435391  0.83750547]\n",
      " [ 0.77145295 -0.69709227]\n",
      " [ 1.26285558  0.12916271]\n",
      " [-0.71988634  0.69106791]\n",
      " [ 0.79205253 -0.40516241]\n",
      " [ 1.31886119 -0.41396289]\n",
      " [ 0.26579093  0.78151982]\n",
      " [ 0.08686038  0.49400243]\n",
      " [-0.74872343 -0.06972957]\n",
      " [ 0.88404174 -0.35425773]\n",
      " [ 1.02671711  0.73292915]\n",
      " [ 0.73867317  0.30808589]\n",
      " [ 1.12856036  0.33191968]\n",
      " [ 1.15536561 -0.50593577]\n",
      " [ 1.56825139 -0.05911358]\n",
      " [ 0.29004812  1.00820293]\n",
      " [ 0.64076308 -0.19860992]\n",
      " [-1.20034998  0.46412528]\n",
      " [-0.16955317  0.60660877]\n",
      " [-0.53369875  0.50244086]\n",
      " [ 1.00549331  0.38686701]\n",
      " [ 0.65294065  0.80929512]\n",
      " [-0.56688607  0.73004641]\n",
      " [ 1.71942343  0.32909081]\n",
      " [ 0.96514959  0.51823046]\n",
      " [ 0.2683596  -0.11030872]\n",
      " [ 1.50917461 -0.06701048]\n",
      " [-0.59385445  0.46769065]\n",
      " [-1.06471178  0.5676387 ]\n",
      " [ 0.55039452  1.16554689]\n",
      " [-0.33860634  1.17004822]\n",
      " [-0.51699811  0.74457804]\n",
      " [-0.46333991  0.86330772]\n",
      " [ 1.68539175  0.33403724]\n",
      " [ 1.53286262 -0.03063104]\n",
      " [ 1.22313197 -0.36876898]\n",
      " [ 0.91466466 -0.50411496]\n",
      " [ 0.56006165 -0.16514053]\n",
      " [-1.18053783  0.20934501]\n",
      " [-0.04686928 -0.01567029]\n",
      " [ 1.38450053 -0.47647261]\n",
      " [ 0.97370054 -0.08631168]\n",
      " [-0.02909233 -0.0555109 ]\n",
      " [ 0.62049137  0.75230462]\n",
      " [ 1.76359619 -0.12578512]\n",
      " [ 0.06669088 -0.33949903]\n",
      " [ 1.65838571  0.21114881]\n",
      " [ 0.29244317  0.40428146]\n",
      " [ 0.48329861  0.35840485]\n",
      " [-0.35030318  0.94421706]\n",
      " [-0.4993884   0.13192906]\n",
      " [ 1.31702684 -0.2525239 ]\n",
      " [ 1.96337107 -0.23820389]\n",
      " [-1.1471254  -0.38663896]\n",
      " [ 1.68640884 -0.13364054]\n",
      " [-0.60690411  0.50000529]\n",
      " [-0.50082297  0.3628348 ]\n",
      " [-0.54220197  0.72334582]\n",
      " [-1.00731293  0.4130496 ]\n",
      " [ 0.89631194  0.55476594]\n",
      " [ 0.47389194  0.14587816]\n",
      " [ 2.2868162   0.47244271]\n",
      " [-0.18746498  0.86188606]\n",
      " [ 0.50782987  0.03923829]\n",
      " [-0.11290693  0.93361423]\n",
      " [ 0.91068654  0.12727649]\n",
      " [ 0.47093877 -0.09213003]\n",
      " [ 0.42598043 -0.3006242 ]\n",
      " [ 0.8729088   0.08643291]\n",
      " [ 0.31917808  0.05270298]\n",
      " [ 0.11767524  1.41784908]\n",
      " [ 0.73350617 -0.40980742]\n",
      " [ 0.04446489  0.9219238 ]\n",
      " [ 0.89715307  0.94175457]\n",
      " [-0.87006365  0.70686285]\n",
      " [-0.24608615  0.378107  ]\n",
      " [ 0.35940317  0.84867003]\n",
      " [-0.7280717   0.3259131 ]\n",
      " [ 1.89948318  0.79928869]\n",
      " [ 1.06821751  0.75846569]\n",
      " [-0.59533829  0.9611563 ]\n",
      " [ 1.11634545  0.01823342]\n",
      " [ 0.61281464  0.9800983 ]\n",
      " [ 0.65239007  0.38512423]\n",
      " [ 0.85716276  0.06644676]\n",
      " [ 0.61237738 -0.52619638]\n",
      " [-0.08661448 -0.03887081]\n",
      " [ 1.65954074  0.3480271 ]\n",
      " [ 0.01856462  1.32827802]] [1 1 0 1 1 1 1 0 0 0 1 0 1 1 0 1 1 0 1 0 1 0 0 0 1 1 0 1 0 1 0 0 0 0 1 0 1\n",
      " 1 0 0 0 0 0 0 1 1 1 1 1 0 1 1 1 1 0 1 1 1 1 1 0 1 1 1 0 1 0 0 0 0 0 1 1 0\n",
      " 1 1 0 1 1 0 1 0 1 0 0 0 0 0 0 1 0 0 1 0 0 0 1 1 0 0]\n"
     ]
    }
   ],
   "source": [
    "x,y = make_moons(n_samples=100, noise=0.25, random_state=3)\n",
    "print(x,y)"
   ]
  },
  {
   "cell_type": "code",
   "execution_count": 4,
   "metadata": {},
   "outputs": [
    {
     "name": "stdout",
     "output_type": "stream",
     "text": [
      "100\n"
     ]
    }
   ],
   "source": [
    "# 총데이터의 수 ? 100\n",
    "print(len(x))"
   ]
  },
  {
   "cell_type": "code",
   "execution_count": 5,
   "metadata": {},
   "outputs": [
    {
     "name": "stdout",
     "output_type": "stream",
     "text": [
      "70 30\n"
     ]
    }
   ],
   "source": [
    "# 7:3\n",
    "x_train, x_test, y_train, y_test = train_test_split(x,y,random_state=7, test_size =0.3)\n",
    "print(len(x_train),len(x_test))"
   ]
  },
  {
   "cell_type": "code",
   "execution_count": 6,
   "metadata": {},
   "outputs": [
    {
     "data": {
      "text/plain": [
       "array([ 1.68640884, -0.13364054])"
      ]
     },
     "execution_count": 6,
     "metadata": {},
     "output_type": "execute_result"
    }
   ],
   "source": [
    "x_train[0]"
   ]
  },
  {
   "cell_type": "code",
   "execution_count": 7,
   "metadata": {},
   "outputs": [
    {
     "name": "stdout",
     "output_type": "stream",
     "text": [
      "RandomForestClassifier(bootstrap=True, class_weight=None, criterion='gini',\n",
      "            max_depth=None, max_features='auto', max_leaf_nodes=None,\n",
      "            min_impurity_decrease=0.0, min_impurity_split=None,\n",
      "            min_samples_leaf=1, min_samples_split=2,\n",
      "            min_weight_fraction_leaf=0.0, n_estimators=5, n_jobs=None,\n",
      "            oob_score=False, random_state=8, verbose=0, warm_start=False)\n"
     ]
    }
   ],
   "source": [
    "model = RandomForestClassifier(n_estimators=5,random_state=8)\n",
    "print(model)"
   ]
  },
  {
   "cell_type": "code",
   "execution_count": 8,
   "metadata": {},
   "outputs": [
    {
     "name": "stdout",
     "output_type": "stream",
     "text": [
      "RandomForestClassifier(bootstrap=True, class_weight=None, criterion='gini',\n",
      "            max_depth=None, max_features='auto', max_leaf_nodes=None,\n",
      "            min_impurity_decrease=0.0, min_impurity_split=None,\n",
      "            min_samples_leaf=1, min_samples_split=2,\n",
      "            min_weight_fraction_leaf=0.0, n_estimators=5, n_jobs=None,\n",
      "            oob_score=False, random_state=8, verbose=0, warm_start=False)\n"
     ]
    }
   ],
   "source": [
    "fittedModel = model.fit(x_train,y_train)\n",
    "print(fittedModel)"
   ]
  },
  {
   "cell_type": "code",
   "execution_count": 9,
   "metadata": {},
   "outputs": [
    {
     "data": {
      "text/plain": [
       "0.9428571428571428"
      ]
     },
     "execution_count": 9,
     "metadata": {},
     "output_type": "execute_result"
    }
   ],
   "source": [
    "model.score(x_train,y_train) # 94% 정확성"
   ]
  },
  {
   "cell_type": "code",
   "execution_count": 10,
   "metadata": {},
   "outputs": [
    {
     "data": {
      "text/plain": [
       "0.9666666666666667"
      ]
     },
     "execution_count": 10,
     "metadata": {},
     "output_type": "execute_result"
    }
   ],
   "source": [
    "# 적합도 : 94.2%\n",
    "model.score(x_test,y_test)\n",
    "# 96.6%"
   ]
  },
  {
   "cell_type": "code",
   "execution_count": 11,
   "metadata": {},
   "outputs": [],
   "source": [
    "# 랜덤포레스트는 아무 매개변수 튜닝 없이도 선형모델이나 단일 결정트리 보다\n",
    "# 높은 96% 정확도를 내고 있다.\n",
    "\n",
    "# iris 데이터를 가지고 랜덤 포레스트 분석하고자 한다."
   ]
  },
  {
   "cell_type": "code",
   "execution_count": 12,
   "metadata": {},
   "outputs": [
    {
     "name": "stdout",
     "output_type": "stream",
     "text": [
      "105 45\n"
     ]
    }
   ],
   "source": [
    "# iris 데이터를 가져오는 방법  2가지\n",
    "\n",
    "# 1. pandas\n",
    "# 2. load_iris()\n",
    "\n",
    "from sklearn.datasets import load_iris\n",
    "iris = load_iris()\n",
    "x = iris.data #(독립변수)\n",
    "y = iris.target #(종속변수)\n",
    "\n",
    "x_train, x_test, y_train, y_test = train_test_split(x,y,random_state=7, test_size =0.3)\n",
    "print(len(x_train),len(x_test)) # 독립변수, 종속변수"
   ]
  },
  {
   "cell_type": "code",
   "execution_count": 13,
   "metadata": {},
   "outputs": [
    {
     "data": {
      "text/plain": [
       "array([5. , 3.3, 1.4, 0.2])"
      ]
     },
     "execution_count": 13,
     "metadata": {},
     "output_type": "execute_result"
    }
   ],
   "source": [
    "x_train[0]"
   ]
  },
  {
   "cell_type": "code",
   "execution_count": 14,
   "metadata": {},
   "outputs": [
    {
     "name": "stdout",
     "output_type": "stream",
     "text": [
      "RandomForestClassifier(bootstrap=True, class_weight=None, criterion='gini',\n",
      "            max_depth=None, max_features='auto', max_leaf_nodes=None,\n",
      "            min_impurity_decrease=0.0, min_impurity_split=None,\n",
      "            min_samples_leaf=1, min_samples_split=2,\n",
      "            min_weight_fraction_leaf=0.0, n_estimators=150, n_jobs=2,\n",
      "            oob_score=False, random_state=None, verbose=0,\n",
      "            warm_start=False)\n"
     ]
    }
   ],
   "source": [
    "model = RandomForestClassifier(n_estimators=150,n_jobs=2)\n",
    "print(model)"
   ]
  },
  {
   "cell_type": "code",
   "execution_count": 15,
   "metadata": {},
   "outputs": [
    {
     "name": "stdout",
     "output_type": "stream",
     "text": [
      "RandomForestClassifier(bootstrap=True, class_weight=None, criterion='gini',\n",
      "            max_depth=None, max_features='auto', max_leaf_nodes=None,\n",
      "            min_impurity_decrease=0.0, min_impurity_split=None,\n",
      "            min_samples_leaf=1, min_samples_split=2,\n",
      "            min_weight_fraction_leaf=0.0, n_estimators=150, n_jobs=2,\n",
      "            oob_score=False, random_state=None, verbose=0,\n",
      "            warm_start=False)\n"
     ]
    }
   ],
   "source": [
    "fittedModel = model.fit(x_train,y_train)\n",
    "print(fittedModel)"
   ]
  },
  {
   "cell_type": "code",
   "execution_count": 16,
   "metadata": {},
   "outputs": [
    {
     "name": "stdout",
     "output_type": "stream",
     "text": [
      "1.0\n",
      "1.0\n"
     ]
    }
   ],
   "source": [
    "print(model.score(x_train,y_train))\n",
    "print(fittedModel.score(x_train,y_train))"
   ]
  },
  {
   "cell_type": "code",
   "execution_count": 17,
   "metadata": {},
   "outputs": [
    {
     "name": "stdout",
     "output_type": "stream",
     "text": [
      "0.9111111111111111\n",
      "0.9111111111111111\n"
     ]
    }
   ],
   "source": [
    "print(model.score(x_test,y_test))\n",
    "print(fittedModel.score(x_test,y_test))"
   ]
  },
  {
   "cell_type": "code",
   "execution_count": 18,
   "metadata": {},
   "outputs": [
    {
     "data": {
      "text/plain": [
       "array([0.08135842, 0.02079635, 0.4362093 , 0.46163593])"
      ]
     },
     "execution_count": 18,
     "metadata": {},
     "output_type": "execute_result"
    }
   ],
   "source": [
    "# 특성 중요도\n",
    "fittedModel.feature_importances_"
   ]
  },
  {
   "cell_type": "code",
   "execution_count": 19,
   "metadata": {},
   "outputs": [],
   "source": [
    "# 그래프\n",
    "import matplotlib.pyplot as plt\n",
    "import numpy as np\n",
    "plt.rc(\"font\",family=\"Malgun Gothic\")"
   ]
  },
  {
   "cell_type": "code",
   "execution_count": 20,
   "metadata": {},
   "outputs": [],
   "source": [
    "def plot_feature_importance(model):\n",
    "    n_feature = iris.data.shape[1]\n",
    "    print(\"n_feature:\", n_feature)\n",
    "    plt.barh(range(n_feature),model.feature_importances_, align=\"center\")\n",
    "    plt.yticks(np.arange(n_feature),iris.feature_names)\n",
    "    plt.ylabel(\"특성\")\n",
    "    plt.xlabel(\"특성 중요도\")\n",
    "    plt.show()"
   ]
  },
  {
   "cell_type": "code",
   "execution_count": 21,
   "metadata": {},
   "outputs": [
    {
     "name": "stdout",
     "output_type": "stream",
     "text": [
      "n_feature: 4\n"
     ]
    },
    {
     "data": {
      "image/png": "[encoded data removed]",
      "text/plain": [
       "<Figure size 432x288 with 1 Axes>"
      ]
     },
     "metadata": {
      "needs_background": "light"
     },
     "output_type": "display_data"
    }
   ],
   "source": [
    "plot_feature_importance(fittedModel)\n",
    "# 독립변수 4가지가 있지만 영향을 미치는건 높은것"
   ]
  },
  {
   "cell_type": "code",
   "execution_count": null,
   "metadata": {},
   "outputs": [],
   "source": []
  }
 ],
 "metadata": {
  "kernelspec": {
   "display_name": "Python 3",
   "language": "python",
   "name": "python3"
  },
  "language_info": {
   "codemirror_mode": {
    "name": "ipython",
    "version": 3
   },
   "file_extension": ".py",
   "mimetype": "text/x-python",
   "name": "python",
   "nbconvert_exporter": "python",
   "pygments_lexer": "ipython3",
   "version": "3.6.7"
  }
 },
 "nbformat": 4,
 "nbformat_minor": 2
}
