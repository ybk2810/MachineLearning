{
 "cells": [
  {
   "cell_type": "code",
   "execution_count": 1,
   "metadata": {},
   "outputs": [],
   "source": [
    "# SVM (support vector machine)\n",
    "from sklearn.datasets import make_blobs\n",
    "import matplotlib.pyplot as plt\n",
    "\n",
    "# 분류용 가상 데이터 생성"
   ]
  },
  {
   "cell_type": "code",
   "execution_count": 2,
   "metadata": {},
   "outputs": [
    {
     "data": {
      "text/plain": [
       "(array([[ -8.77402795,   4.41839375],\n",
       "        [  8.61951113,   0.63864176],\n",
       "        [ -9.21638774,   6.67084598],\n",
       "        [ -8.4747246 ,   3.84365154],\n",
       "        [  8.18993052,   1.50107179],\n",
       "        [  8.2351489 ,   1.43512109],\n",
       "        [ -8.56860966,   6.79146177],\n",
       "        [  8.63046642,   1.18171424],\n",
       "        [  7.50715473,   2.83371296],\n",
       "        [ -7.63310097,   5.41838944],\n",
       "        [  8.00350259,   1.52864261],\n",
       "        [  9.86047065,   1.98923629],\n",
       "        [ -8.60621141,   5.2888995 ],\n",
       "        [ -8.71658329,   4.14513443],\n",
       "        [ -1.90546056,   4.41343611],\n",
       "        [ 10.03612794,   1.88220789],\n",
       "        [ -6.9761951 ,   5.31574061],\n",
       "        [ -9.67805406,   7.06035147],\n",
       "        [ -1.24405756,   4.3936401 ],\n",
       "        [ -7.9192539 ,   5.72225675],\n",
       "        [ -6.82313452,   5.75271138],\n",
       "        [ -0.68307025,   5.14593255],\n",
       "        [ -8.86097416,   7.62744807],\n",
       "        [  8.31627273,   0.25499019],\n",
       "        [  8.11824652,  -0.57371116],\n",
       "        [ -2.30980027,   2.63687759],\n",
       "        [  7.64904136,   1.40633027],\n",
       "        [ 10.642197  ,  -0.03748027],\n",
       "        [  0.19490579,   4.62614754],\n",
       "        [  8.48889773,  -0.04229117],\n",
       "        [  9.67635018,  -1.08388846],\n",
       "        [  9.46880897,   1.72403262],\n",
       "        [ -0.57710967,   5.36365586],\n",
       "        [ -0.74318996,   4.83149356],\n",
       "        [  9.36593392,   1.46721152],\n",
       "        [ -8.37240023,   5.85095358],\n",
       "        [ -8.09071236,   7.8459709 ],\n",
       "        [  9.27868233,  -0.76618489],\n",
       "        [ -8.84265268,   3.69200597],\n",
       "        [  0.27150315,   4.25657059],\n",
       "        [ -0.17586707,   5.03518605],\n",
       "        [ -1.51979924,   4.76911191],\n",
       "        [ -2.46533931,   4.65220426],\n",
       "        [ -8.51922024,   4.14769715],\n",
       "        [ -6.70767333,   5.26896209],\n",
       "        [ -1.57393239,   3.9973769 ],\n",
       "        [-10.53824902,   4.93621651],\n",
       "        [ -1.30762924,   5.25060537],\n",
       "        [ 10.65172904,   2.48429766],\n",
       "        [ -1.75278771,   4.67902561],\n",
       "        [  8.74270999,   0.96222511],\n",
       "        [ -8.85725734,   4.70851898],\n",
       "        [ -8.20442258,   5.07377123],\n",
       "        [  0.29776426,   5.13872175],\n",
       "        [ -1.14366045,   3.13278301],\n",
       "        [ -0.26761489,   4.75293998],\n",
       "        [ -2.09630536,   4.84367391],\n",
       "        [ -9.66742613,   4.54835903],\n",
       "        [  8.86319922,   1.35288771],\n",
       "        [ -8.57344484,   7.29791314],\n",
       "        [-10.18217342,   3.79527719],\n",
       "        [ -6.56181535,   5.83567769],\n",
       "        [ -0.84026968,   3.0261819 ],\n",
       "        [  0.48591468,   4.01117676],\n",
       "        [ -9.26275724,   5.60044142],\n",
       "        [  9.28640743,  -0.05354268],\n",
       "        [ -1.20957063,   4.04023496],\n",
       "        [ -0.81631276,   3.5457589 ],\n",
       "        [ -7.45617621,   6.19887436],\n",
       "        [ -1.62220185,   3.62338092],\n",
       "        [ -8.19937429,   4.07185131],\n",
       "        [ -7.96853484,   5.33701943],\n",
       "        [  7.60781214,   1.14324819],\n",
       "        [  8.84873704,   1.26604283],\n",
       "        [ -1.84873732,   4.10702133],\n",
       "        [ 10.76607243,   1.75047439],\n",
       "        [  7.8763934 ,   1.78493234],\n",
       "        [ -1.123167  ,   5.90754308],\n",
       "        [ -9.90879768,   6.09999997],\n",
       "        [ -8.87906207,   3.31006074],\n",
       "        [  9.30147391,   1.90789647],\n",
       "        [ -1.87992066,   6.2168808 ],\n",
       "        [  9.08137236,   1.15530395],\n",
       "        [ -0.74548017,   3.89983129],\n",
       "        [ -7.90577233,   4.84553865],\n",
       "        [-10.1249098 ,   6.1338052 ],\n",
       "        [  1.02813162,   5.33834289],\n",
       "        [  9.83322906,   0.02085167],\n",
       "        [ -1.42467083,   2.6912907 ],\n",
       "        [ -9.09926319,   5.42682758],\n",
       "        [ 11.41984591,  -0.72735623],\n",
       "        [ -0.59470254,   4.59992653],\n",
       "        [  9.02893649,  -0.35204498],\n",
       "        [ 10.5208667 ,   1.33069458],\n",
       "        [ 10.49864201,   0.91698327],\n",
       "        [ -7.42443766,   5.18190153],\n",
       "        [ -1.42784268,   3.87853374],\n",
       "        [ -0.89984116,   5.20433014],\n",
       "        [ -1.53152661,   5.76618875],\n",
       "        [  9.57427918,  -1.02373133]]),\n",
       " array([0, 2, 0, 0, 2, 2, 0, 2, 2, 0, 2, 2, 0, 0, 1, 2, 0, 0, 1, 0, 0, 1,\n",
       "        0, 2, 2, 1, 2, 2, 1, 2, 2, 2, 1, 1, 2, 0, 0, 2, 0, 1, 1, 1, 1, 0,\n",
       "        0, 1, 0, 1, 2, 1, 2, 0, 0, 1, 1, 1, 1, 0, 2, 0, 0, 0, 1, 1, 0, 2,\n",
       "        1, 1, 0, 1, 0, 0, 2, 2, 1, 2, 2, 1, 0, 0, 2, 1, 2, 1, 0, 0, 1, 2,\n",
       "        1, 0, 2, 1, 2, 2, 2, 0, 1, 1, 1, 2]))"
      ]
     },
     "execution_count": 2,
     "metadata": {},
     "output_type": "execute_result"
    }
   ],
   "source": [
    "X, y = make_blobs(random_state=7)\n",
    "X,y"
   ]
  },
  {
   "cell_type": "code",
   "execution_count": 3,
   "metadata": {},
   "outputs": [
    {
     "data": {
      "text/plain": [
       "Text(0, 0.5, 'Y')"
      ]
     },
     "execution_count": 3,
     "metadata": {},
     "output_type": "execute_result"
    },
    {
     "data": {
      "image/png": "[encoded data removed]",
      "text/plain": [
       "<Figure size 432x288 with 1 Axes>"
      ]
     },
     "metadata": {
      "needs_background": "light"
     },
     "output_type": "display_data"
    }
   ],
   "source": [
    "# x,축 y축\n",
    "plt.scatter(X[:,0],X[:,1], alpha=0.7)\n",
    "plt.xlabel(\"X\")\n",
    "plt.ylabel(\"Y\")"
   ]
  },
  {
   "cell_type": "code",
   "execution_count": 4,
   "metadata": {},
   "outputs": [
    {
     "name": "stdout",
     "output_type": "stream",
     "text": [
      "LinearSVC(C=1.0, class_weight=None, dual=True, fit_intercept=True,\n",
      "     intercept_scaling=1, loss='squared_hinge', max_iter=1000,\n",
      "     multi_class='ovr', penalty='l2', random_state=None, tol=0.0001,\n",
      "     verbose=0)\n"
     ]
    },
    {
     "name": "stderr",
     "output_type": "stream",
     "text": [
      "C:\\ProgramData\\Anaconda3\\envs\\tensorflow\\lib\\site-packages\\sklearn\\svm\\base.py:922: ConvergenceWarning: Liblinear failed to converge, increase the number of iterations.\n",
      "  \"the number of iterations.\", ConvergenceWarning)\n"
     ]
    }
   ],
   "source": [
    "from sklearn.svm import LinearSVC # linear support vector curve\n",
    "import numpy as np\n",
    "\n",
    "fittedModel = LinearSVC().fit(X,y)\n",
    "print(fittedModel)"
   ]
  },
  {
   "cell_type": "code",
   "execution_count": 5,
   "metadata": {},
   "outputs": [
    {
     "data": {
      "text/plain": [
       "0.99"
      ]
     },
     "execution_count": 5,
     "metadata": {},
     "output_type": "execute_result"
    }
   ],
   "source": [
    "# 적중률\n",
    "fittedModel.score(X,y)"
   ]
  },
  {
   "cell_type": "code",
   "execution_count": 6,
   "metadata": {},
   "outputs": [],
   "source": [
    "def make_meshgird(x,y, h = 0.02):\n",
    "    x_min,x_max = x.min()-1, x.max()+1\n",
    "    y_min,y_max = y.min()-1, y.max()+1\n",
    "    \n",
    "    xx,yy = np.meshgrid(\n",
    "        np.arange(x_min, x_max, h),\n",
    "        np.arange(y_min, y_max, h),)\n",
    "    return xx,yy\n",
    "\n",
    "# 데이터를 몇개의 레벨(색)로 표현 할 것 인지 택한 후 image로 표현\n",
    "\n",
    "def plot_contours(ax,model,xx,yy,**params):\n",
    "    Z = model.predict(np.c_[xx.ravel(), yy.ravel()])\n",
    "    Z = Z.reshape(xx.shape)\n",
    "    out = ax.contourf(xx,yy,Z, **params)\n",
    "    return out"
   ]
  },
  {
   "cell_type": "code",
   "execution_count": 7,
   "metadata": {},
   "outputs": [
    {
     "name": "stdout",
     "output_type": "stream",
     "text": [
      "[ -8.77402795   8.61951113  -9.21638774  -8.4747246    8.18993052\n",
      "   8.2351489   -8.56860966   8.63046642   7.50715473  -7.63310097\n",
      "   8.00350259   9.86047065  -8.60621141  -8.71658329  -1.90546056\n",
      "  10.03612794  -6.9761951   -9.67805406  -1.24405756  -7.9192539\n",
      "  -6.82313452  -0.68307025  -8.86097416   8.31627273   8.11824652\n",
      "  -2.30980027   7.64904136  10.642197     0.19490579   8.48889773\n",
      "   9.67635018   9.46880897  -0.57710967  -0.74318996   9.36593392\n",
      "  -8.37240023  -8.09071236   9.27868233  -8.84265268   0.27150315\n",
      "  -0.17586707  -1.51979924  -2.46533931  -8.51922024  -6.70767333\n",
      "  -1.57393239 -10.53824902  -1.30762924  10.65172904  -1.75278771\n",
      "   8.74270999  -8.85725734  -8.20442258   0.29776426  -1.14366045\n",
      "  -0.26761489  -2.09630536  -9.66742613   8.86319922  -8.57344484\n",
      " -10.18217342  -6.56181535  -0.84026968   0.48591468  -9.26275724\n",
      "   9.28640743  -1.20957063  -0.81631276  -7.45617621  -1.62220185\n",
      "  -8.19937429  -7.96853484   7.60781214   8.84873704  -1.84873732\n",
      "  10.76607243   7.8763934   -1.123167    -9.90879768  -8.87906207\n",
      "   9.30147391  -1.87992066   9.08137236  -0.74548017  -7.90577233\n",
      " -10.1249098    1.02813162   9.83322906  -1.42467083  -9.09926319\n",
      "  11.41984591  -0.59470254   9.02893649  10.5208667   10.49864201\n",
      "  -7.42443766  -1.42784268  -0.89984116  -1.53152661   9.57427918] [[-8.77402795  4.41839375]]\n"
     ]
    }
   ],
   "source": [
    "print(X[:,0],X[:1])"
   ]
  },
  {
   "cell_type": "code",
   "execution_count": 8,
   "metadata": {},
   "outputs": [],
   "source": [
    "xx,yy = make_meshgird(X[:,0],X[:,1])"
   ]
  },
  {
   "cell_type": "code",
   "execution_count": 9,
   "metadata": {},
   "outputs": [
    {
     "data": {
      "image/png": "[encoded data removed]",
      "text/plain": [
       "<Figure size 432x288 with 1 Axes>"
      ]
     },
     "metadata": {
      "needs_background": "light"
     },
     "output_type": "display_data"
    }
   ],
   "source": [
    "plot_contours(plt, fittedModel, xx,yy, cmap=plt.cm.coolwarm, alpha=0.7)\n",
    "plt.scatter(X[:,0],X[:,1],c=y, cmap = plt.cm.coolwarm, s=20, edgecolors='k')\n",
    "plt.show()"
   ]
  },
  {
   "cell_type": "code",
   "execution_count": 10,
   "metadata": {},
   "outputs": [],
   "source": [
    "# 비선형 SVM\n",
    "# iris 데이터 읽어오기\n",
    "import matplotlib.pyplot as plt\n",
    "import numpy as np\n",
    "import tensorflow as tf\n",
    "from sklearn import datasets\n",
    "sess = tf.Session()"
   ]
  },
  {
   "cell_type": "code",
   "execution_count": 11,
   "metadata": {},
   "outputs": [
    {
     "data": {
      "text/plain": [
       "{'data': array([[5.1, 3.5, 1.4, 0.2],\n",
       "        [4.9, 3. , 1.4, 0.2],\n",
       "        [4.7, 3.2, 1.3, 0.2],\n",
       "        [4.6, 3.1, 1.5, 0.2],\n",
       "        [5. , 3.6, 1.4, 0.2],\n",
       "        [5.4, 3.9, 1.7, 0.4],\n",
       "        [4.6, 3.4, 1.4, 0.3],\n",
       "        [5. , 3.4, 1.5, 0.2],\n",
       "        [4.4, 2.9, 1.4, 0.2],\n",
       "        [4.9, 3.1, 1.5, 0.1],\n",
       "        [5.4, 3.7, 1.5, 0.2],\n",
       "        [4.8, 3.4, 1.6, 0.2],\n",
       "        [4.8, 3. , 1.4, 0.1],\n",
       "        [4.3, 3. , 1.1, 0.1],\n",
       "        [5.8, 4. , 1.2, 0.2],\n",
       "        [5.7, 4.4, 1.5, 0.4],\n",
       "        [5.4, 3.9, 1.3, 0.4],\n",
       "        [5.1, 3.5, 1.4, 0.3],\n",
       "        [5.7, 3.8, 1.7, 0.3],\n",
       "        [5.1, 3.8, 1.5, 0.3],\n",
       "        [5.4, 3.4, 1.7, 0.2],\n",
       "        [5.1, 3.7, 1.5, 0.4],\n",
       "        [4.6, 3.6, 1. , 0.2],\n",
       "        [5.1, 3.3, 1.7, 0.5],\n",
       "        [4.8, 3.4, 1.9, 0.2],\n",
       "        [5. , 3. , 1.6, 0.2],\n",
       "        [5. , 3.4, 1.6, 0.4],\n",
       "        [5.2, 3.5, 1.5, 0.2],\n",
       "        [5.2, 3.4, 1.4, 0.2],\n",
       "        [4.7, 3.2, 1.6, 0.2],\n",
       "        [4.8, 3.1, 1.6, 0.2],\n",
       "        [5.4, 3.4, 1.5, 0.4],\n",
       "        [5.2, 4.1, 1.5, 0.1],\n",
       "        [5.5, 4.2, 1.4, 0.2],\n",
       "        [4.9, 3.1, 1.5, 0.2],\n",
       "        [5. , 3.2, 1.2, 0.2],\n",
       "        [5.5, 3.5, 1.3, 0.2],\n",
       "        [4.9, 3.6, 1.4, 0.1],\n",
       "        [4.4, 3. , 1.3, 0.2],\n",
       "        [5.1, 3.4, 1.5, 0.2],\n",
       "        [5. , 3.5, 1.3, 0.3],\n",
       "        [4.5, 2.3, 1.3, 0.3],\n",
       "        [4.4, 3.2, 1.3, 0.2],\n",
       "        [5. , 3.5, 1.6, 0.6],\n",
       "        [5.1, 3.8, 1.9, 0.4],\n",
       "        [4.8, 3. , 1.4, 0.3],\n",
       "        [5.1, 3.8, 1.6, 0.2],\n",
       "        [4.6, 3.2, 1.4, 0.2],\n",
       "        [5.3, 3.7, 1.5, 0.2],\n",
       "        [5. , 3.3, 1.4, 0.2],\n",
       "        [7. , 3.2, 4.7, 1.4],\n",
       "        [6.4, 3.2, 4.5, 1.5],\n",
       "        [6.9, 3.1, 4.9, 1.5],\n",
       "        [5.5, 2.3, 4. , 1.3],\n",
       "        [6.5, 2.8, 4.6, 1.5],\n",
       "        [5.7, 2.8, 4.5, 1.3],\n",
       "        [6.3, 3.3, 4.7, 1.6],\n",
       "        [4.9, 2.4, 3.3, 1. ],\n",
       "        [6.6, 2.9, 4.6, 1.3],\n",
       "        [5.2, 2.7, 3.9, 1.4],\n",
       "        [5. , 2. , 3.5, 1. ],\n",
       "        [5.9, 3. , 4.2, 1.5],\n",
       "        [6. , 2.2, 4. , 1. ],\n",
       "        [6.1, 2.9, 4.7, 1.4],\n",
       "        [5.6, 2.9, 3.6, 1.3],\n",
       "        [6.7, 3.1, 4.4, 1.4],\n",
       "        [5.6, 3. , 4.5, 1.5],\n",
       "        [5.8, 2.7, 4.1, 1. ],\n",
       "        [6.2, 2.2, 4.5, 1.5],\n",
       "        [5.6, 2.5, 3.9, 1.1],\n",
       "        [5.9, 3.2, 4.8, 1.8],\n",
       "        [6.1, 2.8, 4. , 1.3],\n",
       "        [6.3, 2.5, 4.9, 1.5],\n",
       "        [6.1, 2.8, 4.7, 1.2],\n",
       "        [6.4, 2.9, 4.3, 1.3],\n",
       "        [6.6, 3. , 4.4, 1.4],\n",
       "        [6.8, 2.8, 4.8, 1.4],\n",
       "        [6.7, 3. , 5. , 1.7],\n",
       "        [6. , 2.9, 4.5, 1.5],\n",
       "        [5.7, 2.6, 3.5, 1. ],\n",
       "        [5.5, 2.4, 3.8, 1.1],\n",
       "        [5.5, 2.4, 3.7, 1. ],\n",
       "        [5.8, 2.7, 3.9, 1.2],\n",
       "        [6. , 2.7, 5.1, 1.6],\n",
       "        [5.4, 3. , 4.5, 1.5],\n",
       "        [6. , 3.4, 4.5, 1.6],\n",
       "        [6.7, 3.1, 4.7, 1.5],\n",
       "        [6.3, 2.3, 4.4, 1.3],\n",
       "        [5.6, 3. , 4.1, 1.3],\n",
       "        [5.5, 2.5, 4. , 1.3],\n",
       "        [5.5, 2.6, 4.4, 1.2],\n",
       "        [6.1, 3. , 4.6, 1.4],\n",
       "        [5.8, 2.6, 4. , 1.2],\n",
       "        [5. , 2.3, 3.3, 1. ],\n",
       "        [5.6, 2.7, 4.2, 1.3],\n",
       "        [5.7, 3. , 4.2, 1.2],\n",
       "        [5.7, 2.9, 4.2, 1.3],\n",
       "        [6.2, 2.9, 4.3, 1.3],\n",
       "        [5.1, 2.5, 3. , 1.1],\n",
       "        [5.7, 2.8, 4.1, 1.3],\n",
       "        [6.3, 3.3, 6. , 2.5],\n",
       "        [5.8, 2.7, 5.1, 1.9],\n",
       "        [7.1, 3. , 5.9, 2.1],\n",
       "        [6.3, 2.9, 5.6, 1.8],\n",
       "        [6.5, 3. , 5.8, 2.2],\n",
       "        [7.6, 3. , 6.6, 2.1],\n",
       "        [4.9, 2.5, 4.5, 1.7],\n",
       "        [7.3, 2.9, 6.3, 1.8],\n",
       "        [6.7, 2.5, 5.8, 1.8],\n",
       "        [7.2, 3.6, 6.1, 2.5],\n",
       "        [6.5, 3.2, 5.1, 2. ],\n",
       "        [6.4, 2.7, 5.3, 1.9],\n",
       "        [6.8, 3. , 5.5, 2.1],\n",
       "        [5.7, 2.5, 5. , 2. ],\n",
       "        [5.8, 2.8, 5.1, 2.4],\n",
       "        [6.4, 3.2, 5.3, 2.3],\n",
       "        [6.5, 3. , 5.5, 1.8],\n",
       "        [7.7, 3.8, 6.7, 2.2],\n",
       "        [7.7, 2.6, 6.9, 2.3],\n",
       "        [6. , 2.2, 5. , 1.5],\n",
       "        [6.9, 3.2, 5.7, 2.3],\n",
       "        [5.6, 2.8, 4.9, 2. ],\n",
       "        [7.7, 2.8, 6.7, 2. ],\n",
       "        [6.3, 2.7, 4.9, 1.8],\n",
       "        [6.7, 3.3, 5.7, 2.1],\n",
       "        [7.2, 3.2, 6. , 1.8],\n",
       "        [6.2, 2.8, 4.8, 1.8],\n",
       "        [6.1, 3. , 4.9, 1.8],\n",
       "        [6.4, 2.8, 5.6, 2.1],\n",
       "        [7.2, 3. , 5.8, 1.6],\n",
       "        [7.4, 2.8, 6.1, 1.9],\n",
       "        [7.9, 3.8, 6.4, 2. ],\n",
       "        [6.4, 2.8, 5.6, 2.2],\n",
       "        [6.3, 2.8, 5.1, 1.5],\n",
       "        [6.1, 2.6, 5.6, 1.4],\n",
       "        [7.7, 3. , 6.1, 2.3],\n",
       "        [6.3, 3.4, 5.6, 2.4],\n",
       "        [6.4, 3.1, 5.5, 1.8],\n",
       "        [6. , 3. , 4.8, 1.8],\n",
       "        [6.9, 3.1, 5.4, 2.1],\n",
       "        [6.7, 3.1, 5.6, 2.4],\n",
       "        [6.9, 3.1, 5.1, 2.3],\n",
       "        [5.8, 2.7, 5.1, 1.9],\n",
       "        [6.8, 3.2, 5.9, 2.3],\n",
       "        [6.7, 3.3, 5.7, 2.5],\n",
       "        [6.7, 3. , 5.2, 2.3],\n",
       "        [6.3, 2.5, 5. , 1.9],\n",
       "        [6.5, 3. , 5.2, 2. ],\n",
       "        [6.2, 3.4, 5.4, 2.3],\n",
       "        [5.9, 3. , 5.1, 1.8]]),\n",
       " 'target': array([0, 0, 0, 0, 0, 0, 0, 0, 0, 0, 0, 0, 0, 0, 0, 0, 0, 0, 0, 0, 0, 0,\n",
       "        0, 0, 0, 0, 0, 0, 0, 0, 0, 0, 0, 0, 0, 0, 0, 0, 0, 0, 0, 0, 0, 0,\n",
       "        0, 0, 0, 0, 0, 0, 1, 1, 1, 1, 1, 1, 1, 1, 1, 1, 1, 1, 1, 1, 1, 1,\n",
       "        1, 1, 1, 1, 1, 1, 1, 1, 1, 1, 1, 1, 1, 1, 1, 1, 1, 1, 1, 1, 1, 1,\n",
       "        1, 1, 1, 1, 1, 1, 1, 1, 1, 1, 1, 1, 2, 2, 2, 2, 2, 2, 2, 2, 2, 2,\n",
       "        2, 2, 2, 2, 2, 2, 2, 2, 2, 2, 2, 2, 2, 2, 2, 2, 2, 2, 2, 2, 2, 2,\n",
       "        2, 2, 2, 2, 2, 2, 2, 2, 2, 2, 2, 2, 2, 2, 2, 2, 2, 2]),\n",
       " 'target_names': array(['setosa', 'versicolor', 'virginica'], dtype='<U10'),\n",
       " 'DESCR': '.. _iris_dataset:\\n\\nIris plants dataset\\n--------------------\\n\\n**Data Set Characteristics:**\\n\\n    :Number of Instances: 150 (50 in each of three classes)\\n    :Number of Attributes: 4 numeric, predictive attributes and the class\\n    :Attribute Information:\\n        - sepal length in cm\\n        - sepal width in cm\\n        - petal length in cm\\n        - petal width in cm\\n        - class:\\n                - Iris-Setosa\\n                - Iris-Versicolour\\n                - Iris-Virginica\\n                \\n    :Summary Statistics:\\n\\n    ============== ==== ==== ======= ===== ====================\\n                    Min  Max   Mean    SD   Class Correlation\\n    ============== ==== ==== ======= ===== ====================\\n    sepal length:   4.3  7.9   5.84   0.83    0.7826\\n    sepal width:    2.0  4.4   3.05   0.43   -0.4194\\n    petal length:   1.0  6.9   3.76   1.76    0.9490  (high!)\\n    petal width:    0.1  2.5   1.20   0.76    0.9565  (high!)\\n    ============== ==== ==== ======= ===== ====================\\n\\n    :Missing Attribute Values: None\\n    :Class Distribution: 33.3% for each of 3 classes.\\n    :Creator: R.A. Fisher\\n    :Donor: Michael Marshall (MARSHALL%PLU@io.arc.nasa.gov)\\n    :Date: July, 1988\\n\\nThe famous Iris database, first used by Sir R.A. Fisher. The dataset is taken\\nfrom Fisher\\'s paper. Note that it\\'s the same as in R, but not as in the UCI\\nMachine Learning Repository, which has two wrong data points.\\n\\nThis is perhaps the best known database to be found in the\\npattern recognition literature.  Fisher\\'s paper is a classic in the field and\\nis referenced frequently to this day.  (See Duda & Hart, for example.)  The\\ndata set contains 3 classes of 50 instances each, where each class refers to a\\ntype of iris plant.  One class is linearly separable from the other 2; the\\nlatter are NOT linearly separable from each other.\\n\\n.. topic:: References\\n\\n   - Fisher, R.A. \"The use of multiple measurements in taxonomic problems\"\\n     Annual Eugenics, 7, Part II, 179-188 (1936); also in \"Contributions to\\n     Mathematical Statistics\" (John Wiley, NY, 1950).\\n   - Duda, R.O., & Hart, P.E. (1973) Pattern Classification and Scene Analysis.\\n     (Q327.D83) John Wiley & Sons.  ISBN 0-471-22361-1.  See page 218.\\n   - Dasarathy, B.V. (1980) \"Nosing Around the Neighborhood: A New System\\n     Structure and Classification Rule for Recognition in Partially Exposed\\n     Environments\".  IEEE Transactions on Pattern Analysis and Machine\\n     Intelligence, Vol. PAMI-2, No. 1, 67-71.\\n   - Gates, G.W. (1972) \"The Reduced Nearest Neighbor Rule\".  IEEE Transactions\\n     on Information Theory, May 1972, 431-433.\\n   - See also: 1988 MLC Proceedings, 54-64.  Cheeseman et al\"s AUTOCLASS II\\n     conceptual clustering system finds 3 classes in the data.\\n   - Many, many more ...',\n",
       " 'feature_names': ['sepal length (cm)',\n",
       "  'sepal width (cm)',\n",
       "  'petal length (cm)',\n",
       "  'petal width (cm)'],\n",
       " 'filename': 'C:\\\\ProgramData\\\\Anaconda3\\\\envs\\\\tensorflow\\\\lib\\\\site-packages\\\\sklearn\\\\datasets\\\\data\\\\iris.csv'}"
      ]
     },
     "execution_count": 11,
     "metadata": {},
     "output_type": "execute_result"
    }
   ],
   "source": [
    "# 붓꽃데이터를 로드하고 꽃받침길이와 꽃잎 데이터를 추출한 후 각 분류에 속한 데이터의 x,y값을 분리\n",
    "iris = datasets.load_iris()\n",
    "iris"
   ]
  },
  {
   "cell_type": "code",
   "execution_count": 12,
   "metadata": {},
   "outputs": [
    {
     "name": "stdout",
     "output_type": "stream",
     "text": [
      "['sepal length (cm)', 'sepal width (cm)', 'petal length (cm)', 'petal width (cm)']\n"
     ]
    }
   ],
   "source": [
    "print(iris.feature_names)"
   ]
  },
  {
   "cell_type": "code",
   "execution_count": 13,
   "metadata": {},
   "outputs": [
    {
     "data": {
      "text/plain": [
       "array([5.1, 3.5, 1.4, 0.2])"
      ]
     },
     "execution_count": 13,
     "metadata": {},
     "output_type": "execute_result"
    }
   ],
   "source": [
    "iris.data[0]"
   ]
  },
  {
   "cell_type": "code",
   "execution_count": 14,
   "metadata": {},
   "outputs": [
    {
     "data": {
      "text/plain": [
       "array([[5.1, 0.2],\n",
       "       [4.9, 0.2],\n",
       "       [4.7, 0.2],\n",
       "       [4.6, 0.2],\n",
       "       [5. , 0.2],\n",
       "       [5.4, 0.4],\n",
       "       [4.6, 0.3],\n",
       "       [5. , 0.2],\n",
       "       [4.4, 0.2],\n",
       "       [4.9, 0.1],\n",
       "       [5.4, 0.2],\n",
       "       [4.8, 0.2],\n",
       "       [4.8, 0.1],\n",
       "       [4.3, 0.1],\n",
       "       [5.8, 0.2],\n",
       "       [5.7, 0.4],\n",
       "       [5.4, 0.4],\n",
       "       [5.1, 0.3],\n",
       "       [5.7, 0.3],\n",
       "       [5.1, 0.3],\n",
       "       [5.4, 0.2],\n",
       "       [5.1, 0.4],\n",
       "       [4.6, 0.2],\n",
       "       [5.1, 0.5],\n",
       "       [4.8, 0.2],\n",
       "       [5. , 0.2],\n",
       "       [5. , 0.4],\n",
       "       [5.2, 0.2],\n",
       "       [5.2, 0.2],\n",
       "       [4.7, 0.2],\n",
       "       [4.8, 0.2],\n",
       "       [5.4, 0.4],\n",
       "       [5.2, 0.1],\n",
       "       [5.5, 0.2],\n",
       "       [4.9, 0.2],\n",
       "       [5. , 0.2],\n",
       "       [5.5, 0.2],\n",
       "       [4.9, 0.1],\n",
       "       [4.4, 0.2],\n",
       "       [5.1, 0.2],\n",
       "       [5. , 0.3],\n",
       "       [4.5, 0.3],\n",
       "       [4.4, 0.2],\n",
       "       [5. , 0.6],\n",
       "       [5.1, 0.4],\n",
       "       [4.8, 0.3],\n",
       "       [5.1, 0.2],\n",
       "       [4.6, 0.2],\n",
       "       [5.3, 0.2],\n",
       "       [5. , 0.2],\n",
       "       [7. , 1.4],\n",
       "       [6.4, 1.5],\n",
       "       [6.9, 1.5],\n",
       "       [5.5, 1.3],\n",
       "       [6.5, 1.5],\n",
       "       [5.7, 1.3],\n",
       "       [6.3, 1.6],\n",
       "       [4.9, 1. ],\n",
       "       [6.6, 1.3],\n",
       "       [5.2, 1.4],\n",
       "       [5. , 1. ],\n",
       "       [5.9, 1.5],\n",
       "       [6. , 1. ],\n",
       "       [6.1, 1.4],\n",
       "       [5.6, 1.3],\n",
       "       [6.7, 1.4],\n",
       "       [5.6, 1.5],\n",
       "       [5.8, 1. ],\n",
       "       [6.2, 1.5],\n",
       "       [5.6, 1.1],\n",
       "       [5.9, 1.8],\n",
       "       [6.1, 1.3],\n",
       "       [6.3, 1.5],\n",
       "       [6.1, 1.2],\n",
       "       [6.4, 1.3],\n",
       "       [6.6, 1.4],\n",
       "       [6.8, 1.4],\n",
       "       [6.7, 1.7],\n",
       "       [6. , 1.5],\n",
       "       [5.7, 1. ],\n",
       "       [5.5, 1.1],\n",
       "       [5.5, 1. ],\n",
       "       [5.8, 1.2],\n",
       "       [6. , 1.6],\n",
       "       [5.4, 1.5],\n",
       "       [6. , 1.6],\n",
       "       [6.7, 1.5],\n",
       "       [6.3, 1.3],\n",
       "       [5.6, 1.3],\n",
       "       [5.5, 1.3],\n",
       "       [5.5, 1.2],\n",
       "       [6.1, 1.4],\n",
       "       [5.8, 1.2],\n",
       "       [5. , 1. ],\n",
       "       [5.6, 1.3],\n",
       "       [5.7, 1.2],\n",
       "       [5.7, 1.3],\n",
       "       [6.2, 1.3],\n",
       "       [5.1, 1.1],\n",
       "       [5.7, 1.3],\n",
       "       [6.3, 2.5],\n",
       "       [5.8, 1.9],\n",
       "       [7.1, 2.1],\n",
       "       [6.3, 1.8],\n",
       "       [6.5, 2.2],\n",
       "       [7.6, 2.1],\n",
       "       [4.9, 1.7],\n",
       "       [7.3, 1.8],\n",
       "       [6.7, 1.8],\n",
       "       [7.2, 2.5],\n",
       "       [6.5, 2. ],\n",
       "       [6.4, 1.9],\n",
       "       [6.8, 2.1],\n",
       "       [5.7, 2. ],\n",
       "       [5.8, 2.4],\n",
       "       [6.4, 2.3],\n",
       "       [6.5, 1.8],\n",
       "       [7.7, 2.2],\n",
       "       [7.7, 2.3],\n",
       "       [6. , 1.5],\n",
       "       [6.9, 2.3],\n",
       "       [5.6, 2. ],\n",
       "       [7.7, 2. ],\n",
       "       [6.3, 1.8],\n",
       "       [6.7, 2.1],\n",
       "       [7.2, 1.8],\n",
       "       [6.2, 1.8],\n",
       "       [6.1, 1.8],\n",
       "       [6.4, 2.1],\n",
       "       [7.2, 1.6],\n",
       "       [7.4, 1.9],\n",
       "       [7.9, 2. ],\n",
       "       [6.4, 2.2],\n",
       "       [6.3, 1.5],\n",
       "       [6.1, 1.4],\n",
       "       [7.7, 2.3],\n",
       "       [6.3, 2.4],\n",
       "       [6.4, 1.8],\n",
       "       [6. , 1.8],\n",
       "       [6.9, 2.1],\n",
       "       [6.7, 2.4],\n",
       "       [6.9, 2.3],\n",
       "       [5.8, 1.9],\n",
       "       [6.8, 2.3],\n",
       "       [6.7, 2.5],\n",
       "       [6.7, 2.3],\n",
       "       [6.3, 1.9],\n",
       "       [6.5, 2. ],\n",
       "       [6.2, 2.3],\n",
       "       [5.9, 1.8]])"
      ]
     },
     "execution_count": 14,
     "metadata": {},
     "output_type": "execute_result"
    }
   ],
   "source": [
    "x_values = np.array([[x[0],x[3]] for x in iris.data])\n",
    "x_values"
   ]
  },
  {
   "cell_type": "code",
   "execution_count": 15,
   "metadata": {},
   "outputs": [
    {
     "data": {
      "text/plain": [
       "array(['setosa', 'versicolor', 'virginica'], dtype='<U10')"
      ]
     },
     "execution_count": 15,
     "metadata": {},
     "output_type": "execute_result"
    }
   ],
   "source": [
    "iris.target_names"
   ]
  },
  {
   "cell_type": "code",
   "execution_count": 16,
   "metadata": {},
   "outputs": [
    {
     "data": {
      "text/plain": [
       "array([0, 0, 0, 0, 0, 0, 0, 0, 0, 0, 0, 0, 0, 0, 0, 0, 0, 0, 0, 0, 0, 0,\n",
       "       0, 0, 0, 0, 0, 0, 0, 0, 0, 0, 0, 0, 0, 0, 0, 0, 0, 0, 0, 0, 0, 0,\n",
       "       0, 0, 0, 0, 0, 0, 1, 1, 1, 1, 1, 1, 1, 1, 1, 1, 1, 1, 1, 1, 1, 1,\n",
       "       1, 1, 1, 1, 1, 1, 1, 1, 1, 1, 1, 1, 1, 1, 1, 1, 1, 1, 1, 1, 1, 1,\n",
       "       1, 1, 1, 1, 1, 1, 1, 1, 1, 1, 1, 1, 2, 2, 2, 2, 2, 2, 2, 2, 2, 2,\n",
       "       2, 2, 2, 2, 2, 2, 2, 2, 2, 2, 2, 2, 2, 2, 2, 2, 2, 2, 2, 2, 2, 2,\n",
       "       2, 2, 2, 2, 2, 2, 2, 2, 2, 2, 2, 2, 2, 2, 2, 2, 2, 2])"
      ]
     },
     "execution_count": 16,
     "metadata": {},
     "output_type": "execute_result"
    }
   ],
   "source": [
    "iris.target"
   ]
  },
  {
   "cell_type": "code",
   "execution_count": 17,
   "metadata": {},
   "outputs": [],
   "source": [
    "# setosa 라면 1 아니라면 -1\n",
    "y_values = np.array([1 if y == 0 else -1 for y in iris.target])"
   ]
  },
  {
   "cell_type": "code",
   "execution_count": 18,
   "metadata": {},
   "outputs": [
    {
     "data": {
      "text/plain": [
       "array([ 1,  1,  1,  1,  1,  1,  1,  1,  1,  1,  1,  1,  1,  1,  1,  1,  1,\n",
       "        1,  1,  1,  1,  1,  1,  1,  1,  1,  1,  1,  1,  1,  1,  1,  1,  1,\n",
       "        1,  1,  1,  1,  1,  1,  1,  1,  1,  1,  1,  1,  1,  1,  1,  1, -1,\n",
       "       -1, -1, -1, -1, -1, -1, -1, -1, -1, -1, -1, -1, -1, -1, -1, -1, -1,\n",
       "       -1, -1, -1, -1, -1, -1, -1, -1, -1, -1, -1, -1, -1, -1, -1, -1, -1,\n",
       "       -1, -1, -1, -1, -1, -1, -1, -1, -1, -1, -1, -1, -1, -1, -1, -1, -1,\n",
       "       -1, -1, -1, -1, -1, -1, -1, -1, -1, -1, -1, -1, -1, -1, -1, -1, -1,\n",
       "       -1, -1, -1, -1, -1, -1, -1, -1, -1, -1, -1, -1, -1, -1, -1, -1, -1,\n",
       "       -1, -1, -1, -1, -1, -1, -1, -1, -1, -1, -1, -1, -1, -1])"
      ]
     },
     "execution_count": 18,
     "metadata": {},
     "output_type": "execute_result"
    }
   ],
   "source": [
    "y_values"
   ]
  },
  {
   "cell_type": "code",
   "execution_count": 19,
   "metadata": {},
   "outputs": [
    {
     "name": "stdout",
     "output_type": "stream",
     "text": [
      "0 [5.1 0.2]\n",
      "1 [4.9 0.2]\n",
      "2 [4.7 0.2]\n",
      "3 [4.6 0.2]\n",
      "4 [5.  0.2]\n",
      "5 [5.4 0.4]\n",
      "6 [4.6 0.3]\n",
      "7 [5.  0.2]\n",
      "8 [4.4 0.2]\n",
      "9 [4.9 0.1]\n",
      "10 [5.4 0.2]\n",
      "11 [4.8 0.2]\n",
      "12 [4.8 0.1]\n",
      "13 [4.3 0.1]\n",
      "14 [5.8 0.2]\n",
      "15 [5.7 0.4]\n",
      "16 [5.4 0.4]\n",
      "17 [5.1 0.3]\n",
      "18 [5.7 0.3]\n",
      "19 [5.1 0.3]\n",
      "20 [5.4 0.2]\n",
      "21 [5.1 0.4]\n",
      "22 [4.6 0.2]\n",
      "23 [5.1 0.5]\n",
      "24 [4.8 0.2]\n",
      "25 [5.  0.2]\n",
      "26 [5.  0.4]\n",
      "27 [5.2 0.2]\n",
      "28 [5.2 0.2]\n",
      "29 [4.7 0.2]\n",
      "30 [4.8 0.2]\n",
      "31 [5.4 0.4]\n",
      "32 [5.2 0.1]\n",
      "33 [5.5 0.2]\n",
      "34 [4.9 0.2]\n",
      "35 [5.  0.2]\n",
      "36 [5.5 0.2]\n",
      "37 [4.9 0.1]\n",
      "38 [4.4 0.2]\n",
      "39 [5.1 0.2]\n",
      "40 [5.  0.3]\n",
      "41 [4.5 0.3]\n",
      "42 [4.4 0.2]\n",
      "43 [5.  0.6]\n",
      "44 [5.1 0.4]\n",
      "45 [4.8 0.3]\n",
      "46 [5.1 0.2]\n",
      "47 [4.6 0.2]\n",
      "48 [5.3 0.2]\n",
      "49 [5.  0.2]\n",
      "50 [7.  1.4]\n",
      "51 [6.4 1.5]\n",
      "52 [6.9 1.5]\n",
      "53 [5.5 1.3]\n",
      "54 [6.5 1.5]\n",
      "55 [5.7 1.3]\n",
      "56 [6.3 1.6]\n",
      "57 [4.9 1. ]\n",
      "58 [6.6 1.3]\n",
      "59 [5.2 1.4]\n",
      "60 [5. 1.]\n",
      "61 [5.9 1.5]\n",
      "62 [6. 1.]\n",
      "63 [6.1 1.4]\n",
      "64 [5.6 1.3]\n",
      "65 [6.7 1.4]\n",
      "66 [5.6 1.5]\n",
      "67 [5.8 1. ]\n",
      "68 [6.2 1.5]\n",
      "69 [5.6 1.1]\n",
      "70 [5.9 1.8]\n",
      "71 [6.1 1.3]\n",
      "72 [6.3 1.5]\n",
      "73 [6.1 1.2]\n",
      "74 [6.4 1.3]\n",
      "75 [6.6 1.4]\n",
      "76 [6.8 1.4]\n",
      "77 [6.7 1.7]\n",
      "78 [6.  1.5]\n",
      "79 [5.7 1. ]\n",
      "80 [5.5 1.1]\n",
      "81 [5.5 1. ]\n",
      "82 [5.8 1.2]\n",
      "83 [6.  1.6]\n",
      "84 [5.4 1.5]\n",
      "85 [6.  1.6]\n",
      "86 [6.7 1.5]\n",
      "87 [6.3 1.3]\n",
      "88 [5.6 1.3]\n",
      "89 [5.5 1.3]\n",
      "90 [5.5 1.2]\n",
      "91 [6.1 1.4]\n",
      "92 [5.8 1.2]\n",
      "93 [5. 1.]\n",
      "94 [5.6 1.3]\n",
      "95 [5.7 1.2]\n",
      "96 [5.7 1.3]\n",
      "97 [6.2 1.3]\n",
      "98 [5.1 1.1]\n",
      "99 [5.7 1.3]\n",
      "100 [6.3 2.5]\n",
      "101 [5.8 1.9]\n",
      "102 [7.1 2.1]\n",
      "103 [6.3 1.8]\n",
      "104 [6.5 2.2]\n",
      "105 [7.6 2.1]\n",
      "106 [4.9 1.7]\n",
      "107 [7.3 1.8]\n",
      "108 [6.7 1.8]\n",
      "109 [7.2 2.5]\n",
      "110 [6.5 2. ]\n",
      "111 [6.4 1.9]\n",
      "112 [6.8 2.1]\n",
      "113 [5.7 2. ]\n",
      "114 [5.8 2.4]\n",
      "115 [6.4 2.3]\n",
      "116 [6.5 1.8]\n",
      "117 [7.7 2.2]\n",
      "118 [7.7 2.3]\n",
      "119 [6.  1.5]\n",
      "120 [6.9 2.3]\n",
      "121 [5.6 2. ]\n",
      "122 [7.7 2. ]\n",
      "123 [6.3 1.8]\n",
      "124 [6.7 2.1]\n",
      "125 [7.2 1.8]\n",
      "126 [6.2 1.8]\n",
      "127 [6.1 1.8]\n",
      "128 [6.4 2.1]\n",
      "129 [7.2 1.6]\n",
      "130 [7.4 1.9]\n",
      "131 [7.9 2. ]\n",
      "132 [6.4 2.2]\n",
      "133 [6.3 1.5]\n",
      "134 [6.1 1.4]\n",
      "135 [7.7 2.3]\n",
      "136 [6.3 2.4]\n",
      "137 [6.4 1.8]\n",
      "138 [6.  1.8]\n",
      "139 [6.9 2.1]\n",
      "140 [6.7 2.4]\n",
      "141 [6.9 2.3]\n",
      "142 [5.8 1.9]\n",
      "143 [6.8 2.3]\n",
      "144 [6.7 2.5]\n",
      "145 [6.7 2.3]\n",
      "146 [6.3 1.9]\n",
      "147 [6.5 2. ]\n",
      "148 [6.2 2.3]\n",
      "149 [5.9 1.8]\n"
     ]
    }
   ],
   "source": [
    "for i , x in enumerate(x_values): # 넘버링\n",
    "    print(i,x)"
   ]
  },
  {
   "cell_type": "code",
   "execution_count": 20,
   "metadata": {},
   "outputs": [
    {
     "name": "stdout",
     "output_type": "stream",
     "text": [
      "50\n",
      "[5.1, 4.9, 4.7, 4.6, 5.0, 5.4, 4.6, 5.0, 4.4, 4.9, 5.4, 4.8, 4.8, 4.3, 5.8, 5.7, 5.4, 5.1, 5.7, 5.1, 5.4, 5.1, 4.6, 5.1, 4.8, 5.0, 5.0, 5.2, 5.2, 4.7, 4.8, 5.4, 5.2, 5.5, 4.9, 5.0, 5.5, 4.9, 4.4, 5.1, 5.0, 4.5, 4.4, 5.0, 5.1, 4.8, 5.1, 4.6, 5.3, 5.0]\n"
     ]
    }
   ],
   "source": [
    "# 품종이 세토사인 붓꽃의 꽃잎의 길이만 추출\n",
    "class1_x = [ x[0] for i , x in enumerate(x_values) if(y_values[i]==1)]\n",
    "print(len(class1_x))\n",
    "print(class1_x)"
   ]
  },
  {
   "cell_type": "code",
   "execution_count": 21,
   "metadata": {},
   "outputs": [
    {
     "name": "stdout",
     "output_type": "stream",
     "text": [
      "50\n",
      "[0.2, 0.2, 0.2, 0.2, 0.2, 0.4, 0.3, 0.2, 0.2, 0.1, 0.2, 0.2, 0.1, 0.1, 0.2, 0.4, 0.4, 0.3, 0.3, 0.3, 0.2, 0.4, 0.2, 0.5, 0.2, 0.2, 0.4, 0.2, 0.2, 0.2, 0.2, 0.4, 0.1, 0.2, 0.2, 0.2, 0.2, 0.1, 0.2, 0.2, 0.3, 0.3, 0.2, 0.6, 0.4, 0.3, 0.2, 0.2, 0.2, 0.2]\n"
     ]
    }
   ],
   "source": [
    "# 품종이 세토사인 붓꽃의 꽃받침의 너비만 추출\n",
    "class1_y = [ x[1] for i, x in enumerate(x_values) if(y_values[i]==1)]\n",
    "print(len(class1_y))\n",
    "print(class1_y)"
   ]
  },
  {
   "cell_type": "code",
   "execution_count": 22,
   "metadata": {},
   "outputs": [
    {
     "name": "stdout",
     "output_type": "stream",
     "text": [
      "100\n",
      "[7.0, 6.4, 6.9, 5.5, 6.5, 5.7, 6.3, 4.9, 6.6, 5.2, 5.0, 5.9, 6.0, 6.1, 5.6, 6.7, 5.6, 5.8, 6.2, 5.6, 5.9, 6.1, 6.3, 6.1, 6.4, 6.6, 6.8, 6.7, 6.0, 5.7, 5.5, 5.5, 5.8, 6.0, 5.4, 6.0, 6.7, 6.3, 5.6, 5.5, 5.5, 6.1, 5.8, 5.0, 5.6, 5.7, 5.7, 6.2, 5.1, 5.7, 6.3, 5.8, 7.1, 6.3, 6.5, 7.6, 4.9, 7.3, 6.7, 7.2, 6.5, 6.4, 6.8, 5.7, 5.8, 6.4, 6.5, 7.7, 7.7, 6.0, 6.9, 5.6, 7.7, 6.3, 6.7, 7.2, 6.2, 6.1, 6.4, 7.2, 7.4, 7.9, 6.4, 6.3, 6.1, 7.7, 6.3, 6.4, 6.0, 6.9, 6.7, 6.9, 5.8, 6.8, 6.7, 6.7, 6.3, 6.5, 6.2, 5.9]\n"
     ]
    }
   ],
   "source": [
    "# 품종이 세토사가 아닌 붓꽃의 꽃잎의 길이만 추출\n",
    "class2_x = [x[0] for i, x in enumerate(x_values) if(y_values[i] == -1)]\n",
    "print(len(class2_x))\n",
    "print(class2_x)"
   ]
  },
  {
   "cell_type": "code",
   "execution_count": 23,
   "metadata": {},
   "outputs": [
    {
     "name": "stdout",
     "output_type": "stream",
     "text": [
      "100\n",
      "[1.4, 1.5, 1.5, 1.3, 1.5, 1.3, 1.6, 1.0, 1.3, 1.4, 1.0, 1.5, 1.0, 1.4, 1.3, 1.4, 1.5, 1.0, 1.5, 1.1, 1.8, 1.3, 1.5, 1.2, 1.3, 1.4, 1.4, 1.7, 1.5, 1.0, 1.1, 1.0, 1.2, 1.6, 1.5, 1.6, 1.5, 1.3, 1.3, 1.3, 1.2, 1.4, 1.2, 1.0, 1.3, 1.2, 1.3, 1.3, 1.1, 1.3, 2.5, 1.9, 2.1, 1.8, 2.2, 2.1, 1.7, 1.8, 1.8, 2.5, 2.0, 1.9, 2.1, 2.0, 2.4, 2.3, 1.8, 2.2, 2.3, 1.5, 2.3, 2.0, 2.0, 1.8, 2.1, 1.8, 1.8, 1.8, 2.1, 1.6, 1.9, 2.0, 2.2, 1.5, 1.4, 2.3, 2.4, 1.8, 1.8, 2.1, 2.4, 2.3, 1.9, 2.3, 2.5, 2.3, 1.9, 2.0, 2.3, 1.8]\n"
     ]
    }
   ],
   "source": [
    "# 품종이 세토사가 아닌 붓꽃의 꽃받침의 너비만 추출\n",
    "class2_y = [x[1] for i, x in enumerate(x_values) if(y_values[i] == -1)]\n",
    "print(len(class2_y))\n",
    "print(class2_y)"
   ]
  },
  {
   "cell_type": "code",
   "execution_count": 24,
   "metadata": {},
   "outputs": [],
   "source": [
    "# 일괄 작업크기를 선언하고 placeholder, model 변수 b 를 선언 한다."
   ]
  },
  {
   "cell_type": "code",
   "execution_count": 25,
   "metadata": {},
   "outputs": [],
   "source": [
    "batch_size = 150\n",
    "x_data = tf.placeholder(shape=[None,2], dtype=tf.float32)\n",
    "y_target = tf.placeholder(shape=[None,1], dtype=tf.float32)\n",
    "\n",
    "predicted_grid=tf.placeholder(shape=[None,2], dtype=tf.float32) # 가중치\n",
    "b = tf.Variable(tf.random_normal(shape=[1,batch_size])) # 모델 변수 b를 선언"
   ]
  },
  {
   "cell_type": "code",
   "execution_count": 26,
   "metadata": {},
   "outputs": [],
   "source": [
    "# 가우시안 커널(가중치)를 선언한다.\n",
    "# gamma는 지수의 분모에 해당하는 하이퍼 파라메터인데 작을수록 margin이 넓아지는 결과를 얻는다\n",
    "\n",
    "# margin : support vector 사이의 거리"
   ]
  },
  {
   "cell_type": "code",
   "execution_count": 27,
   "metadata": {},
   "outputs": [
    {
     "data": {
      "text/plain": [
       "<tf.Tensor 'Exp:0' shape=(?, ?) dtype=float32>"
      ]
     },
     "execution_count": 27,
     "metadata": {},
     "output_type": "execute_result"
    }
   ],
   "source": [
    "gamma = tf.constant(-100.0)\n",
    "# kernel tensor 생성\n",
    "sq_dists = tf.multiply(2.,tf.matmul(x_data, tf.transpose(x_data)))\n",
    "my_kernel = tf.exp(tf.multiply(gamma, tf.abs(sq_dists)))\n",
    "my_kernel"
   ]
  },
  {
   "cell_type": "code",
   "execution_count": 28,
   "metadata": {},
   "outputs": [
    {
     "data": {
      "text/plain": [
       "<tf.Tensor 'Neg:0' shape=() dtype=float32>"
      ]
     },
     "execution_count": 28,
     "metadata": {},
     "output_type": "execute_result"
    }
   ],
   "source": [
    "# svm model 생성\n",
    "first_term = tf.reduce_sum(b)\n",
    "b_vec_cross = tf.matmul(tf.transpose(b),b)\n",
    "y_target_cross = tf.matmul(y_target, tf.transpose(y_target))\n",
    "\n",
    "second_term = tf.reduce_sum(tf.multiply(my_kernel,tf.multiply(b_vec_cross,y_target_cross)))\n",
    "loss = tf.negative(tf.subtract(first_term, second_term))\n",
    "loss"
   ]
  },
  {
   "cell_type": "code",
   "execution_count": 29,
   "metadata": {},
   "outputs": [],
   "source": [
    "rA = tf.reshape(tf.reduce_sum(tf.square(x_data),1),[-1,1])\n",
    "rb = tf.reshape(tf.reduce_sum(tf.square(predicted_grid),1),[-1,1])\n",
    "pred_sq_dist = tf.add(tf.subtract(rA, tf.multiply(2.,tf.matmul(x_data, tf.transpose(predicted_grid)))),\n",
    "                     tf.transpose(rb))\n",
    "pred_kernel = tf.exp(tf.multiply(gamma, tf.abs(pred_sq_dist)))"
   ]
  },
  {
   "cell_type": "code",
   "execution_count": 30,
   "metadata": {},
   "outputs": [],
   "source": [
    "prediction_output = tf.matmul(tf.multiply(tf.transpose(y_target),b),pred_kernel)\n",
    "\n",
    "prediction = tf.sign(prediction_output-tf.reduce_mean(prediction_output))\n",
    "accuracy = tf.reduce_mean(tf.cast(tf.equal(tf.squeeze(prediction),tf.squeeze(y_target)),tf.float32))\n",
    "# tf.squeeze(x): 텐서의 크기 1인 차원을 제거 \n",
    "# tf.sign(x) : 부호값만 따오는 함수\n",
    "# tf.transpose(x) : 전치"
   ]
  },
  {
   "cell_type": "code",
   "execution_count": 31,
   "metadata": {},
   "outputs": [
    {
     "data": {
      "text/plain": [
       "<tf.Tensor 'Mean_1:0' shape=() dtype=float32>"
      ]
     },
     "execution_count": 31,
     "metadata": {},
     "output_type": "execute_result"
    }
   ],
   "source": [
    "accuracy"
   ]
  },
  {
   "cell_type": "code",
   "execution_count": 32,
   "metadata": {},
   "outputs": [],
   "source": [
    "# 최적화기\n",
    "my_opt = tf.train.GradientDescentOptimizer(0.0001)\n",
    "train_step = my_opt.minimize(loss)"
   ]
  },
  {
   "cell_type": "code",
   "execution_count": 33,
   "metadata": {},
   "outputs": [],
   "source": [
    "# 변수 초기화\n",
    "sess.run(tf.global_variables_initializer())"
   ]
  },
  {
   "cell_type": "code",
   "execution_count": 34,
   "metadata": {},
   "outputs": [
    {
     "data": {
      "text/plain": [
       "array([[1, 4],\n",
       "       [2, 5],\n",
       "       [3, 6]])"
      ]
     },
     "execution_count": 34,
     "metadata": {},
     "output_type": "execute_result"
    }
   ],
   "source": [
    "# cf)\n",
    "x = [[1,2,3],[4,5,6]]\n",
    "y = tf.transpose(x) # 전치행렬로 변환\n",
    "sess.run(y)"
   ]
  },
  {
   "cell_type": "code",
   "execution_count": 35,
   "metadata": {},
   "outputs": [
    {
     "data": {
      "text/plain": [
       "1.5"
      ]
     },
     "execution_count": 35,
     "metadata": {},
     "output_type": "execute_result"
    }
   ],
   "source": [
    "# cf)\n",
    "x2 = [[1.,1.],\n",
    "     [2.,2.]]\n",
    "y2 = tf.reduce_mean(x2) # 평균\n",
    "sess.run(y2)"
   ]
  },
  {
   "cell_type": "code",
   "execution_count": 36,
   "metadata": {},
   "outputs": [
    {
     "name": "stdout",
     "output_type": "stream",
     "text": [
      "step: 99\n",
      "loss: 1.2313209\n",
      "step: 199\n",
      "loss: -0.2686956\n",
      "step: 299\n",
      "loss: -1.7687148\n",
      "step: 399\n",
      "loss: -3.2687335\n",
      "step: 499\n",
      "loss: -4.768753\n",
      "step: 599\n",
      "loss: -6.2687683\n",
      "step: 699\n",
      "loss: -7.7687893\n",
      "step: 799\n",
      "loss: -9.268811\n",
      "step: 899\n",
      "loss: -10.768837\n",
      "step: 999\n",
      "loss: -12.268862\n",
      "step: 1099\n",
      "loss: -13.768885\n",
      "step: 1199\n",
      "loss: -15.268913\n",
      "step: 1299\n",
      "loss: -16.768953\n",
      "step: 1399\n",
      "loss: -18.268997\n",
      "step: 1499\n",
      "loss: -19.76904\n",
      "step: 1599\n",
      "loss: -21.269087\n",
      "step: 1699\n",
      "loss: -22.769135\n",
      "step: 1799\n",
      "loss: -24.26918\n",
      "step: 1899\n",
      "loss: -25.76923\n",
      "step: 1999\n",
      "loss: -27.269283\n",
      "step: 2099\n",
      "loss: -28.76934\n",
      "step: 2199\n",
      "loss: -30.269402\n",
      "step: 2299\n",
      "loss: -31.769463\n",
      "step: 2399\n",
      "loss: -33.269527\n",
      "step: 2499\n",
      "loss: -34.769585\n",
      "step: 2599\n",
      "loss: -36.269653\n",
      "step: 2699\n",
      "loss: -37.76971\n",
      "step: 2799\n",
      "loss: -39.269775\n",
      "step: 2899\n",
      "loss: -40.76983\n",
      "step: 2999\n",
      "loss: -42.269886\n",
      "step: 3099\n",
      "loss: -43.76994\n",
      "step: 3199\n",
      "loss: -45.269978\n",
      "step: 3299\n",
      "loss: -46.770008\n",
      "step: 3399\n",
      "loss: -48.27005\n",
      "step: 3499\n",
      "loss: -49.77009\n",
      "step: 3599\n",
      "loss: -51.27013\n",
      "step: 3699\n",
      "loss: -52.770172\n",
      "step: 3799\n",
      "loss: -54.270218\n",
      "step: 3899\n",
      "loss: -55.770252\n",
      "step: 3999\n",
      "loss: -57.270283\n",
      "step: 4099\n",
      "loss: -58.77032\n",
      "step: 4199\n",
      "loss: -60.270355\n",
      "step: 4299\n",
      "loss: -61.770382\n",
      "step: 4399\n",
      "loss: -63.27041\n",
      "step: 4499\n",
      "loss: -64.77043\n",
      "step: 4599\n",
      "loss: -66.270454\n",
      "step: 4699\n",
      "loss: -67.77048\n",
      "step: 4799\n",
      "loss: -69.27049\n",
      "step: 4899\n",
      "loss: -70.77052\n",
      "step: 4999\n",
      "loss: -72.270546\n",
      "step: 5099\n",
      "loss: -73.77056\n",
      "step: 5199\n",
      "loss: -75.27057\n",
      "step: 5299\n",
      "loss: -76.770584\n",
      "step: 5399\n",
      "loss: -78.2706\n",
      "step: 5499\n",
      "loss: -79.770615\n",
      "step: 5599\n",
      "loss: -81.270645\n",
      "step: 5699\n",
      "loss: -82.77067\n",
      "step: 5799\n",
      "loss: -84.2707\n",
      "step: 5899\n",
      "loss: -85.77072\n",
      "step: 5999\n",
      "loss: -87.27072\n",
      "step: 6099\n",
      "loss: -88.77072\n",
      "step: 6199\n",
      "loss: -90.27073\n",
      "step: 6299\n",
      "loss: -91.77073\n",
      "step: 6399\n",
      "loss: -93.27072\n",
      "step: 6499\n",
      "loss: -94.77072\n",
      "step: 6599\n",
      "loss: -96.270706\n",
      "step: 6699\n",
      "loss: -97.7707\n",
      "step: 6799\n",
      "loss: -99.27069\n",
      "step: 6899\n",
      "loss: -100.7707\n",
      "step: 6999\n",
      "loss: -102.2707\n",
      "step: 7099\n",
      "loss: -103.77069\n",
      "step: 7199\n",
      "loss: -105.27069\n",
      "step: 7299\n",
      "loss: -106.7707\n",
      "step: 7399\n",
      "loss: -108.270706\n",
      "step: 7499\n",
      "loss: -109.7707\n",
      "step: 7599\n",
      "loss: -111.27069\n",
      "step: 7699\n",
      "loss: -112.77068\n",
      "step: 7799\n",
      "loss: -114.27069\n",
      "step: 7899\n",
      "loss: -115.77066\n",
      "step: 7999\n",
      "loss: -117.27066\n",
      "step: 8099\n",
      "loss: -118.770645\n",
      "step: 8199\n",
      "loss: -120.27064\n",
      "step: 8299\n",
      "loss: -121.77061\n",
      "step: 8399\n",
      "loss: -123.27062\n",
      "step: 8499\n",
      "loss: -124.77061\n",
      "step: 8599\n",
      "loss: -126.27061\n",
      "step: 8699\n",
      "loss: -127.77057\n",
      "step: 8799\n",
      "loss: -129.27055\n",
      "step: 8899\n",
      "loss: -130.77054\n",
      "step: 8999\n",
      "loss: -132.27051\n",
      "step: 9099\n",
      "loss: -133.77048\n",
      "step: 9199\n",
      "loss: -135.27045\n",
      "step: 9299\n",
      "loss: -136.77042\n",
      "step: 9399\n",
      "loss: -138.27039\n",
      "step: 9499\n",
      "loss: -139.77032\n",
      "step: 9599\n",
      "loss: -141.27031\n",
      "step: 9699\n",
      "loss: -142.77025\n",
      "step: 9799\n",
      "loss: -144.2702\n",
      "step: 9899\n",
      "loss: -145.77019\n",
      "step: 9999\n",
      "loss: -147.27017\n",
      "step: 10099\n",
      "loss: -148.77016\n",
      "step: 10199\n",
      "loss: -150.27014\n",
      "step: 10299\n",
      "loss: -151.77014\n",
      "step: 10399\n",
      "loss: -153.27011\n",
      "step: 10499\n",
      "loss: -154.77008\n",
      "step: 10599\n",
      "loss: -156.27003\n",
      "step: 10699\n",
      "loss: -157.77\n",
      "step: 10799\n",
      "loss: -159.26996\n",
      "step: 10899\n",
      "loss: -160.76991\n",
      "step: 10999\n",
      "loss: -162.26985\n",
      "step: 11099\n",
      "loss: -163.7698\n",
      "step: 11199\n",
      "loss: -165.26973\n",
      "step: 11299\n",
      "loss: -166.76967\n",
      "step: 11399\n",
      "loss: -168.26958\n",
      "step: 11499\n",
      "loss: -169.76949\n",
      "step: 11599\n",
      "loss: -171.26938\n",
      "step: 11699\n",
      "loss: -172.76926\n",
      "step: 11799\n",
      "loss: -174.26913\n",
      "step: 11899\n",
      "loss: -175.76897\n",
      "step: 11999\n",
      "loss: -177.2688\n",
      "step: 12099\n",
      "loss: -178.76862\n",
      "step: 12199\n",
      "loss: -180.26848\n",
      "step: 12299\n",
      "loss: -181.7683\n",
      "step: 12399\n",
      "loss: -183.26811\n",
      "step: 12499\n",
      "loss: -184.7679\n",
      "step: 12599\n",
      "loss: -186.26768\n",
      "step: 12699\n",
      "loss: -187.76747\n",
      "step: 12799\n",
      "loss: -189.26724\n",
      "step: 12899\n",
      "loss: -190.76703\n",
      "step: 12999\n",
      "loss: -192.26682\n",
      "step: 13099\n",
      "loss: -193.76659\n",
      "step: 13199\n",
      "loss: -195.26636\n",
      "step: 13299\n",
      "loss: -196.76613\n",
      "step: 13399\n",
      "loss: -198.26593\n",
      "step: 13499\n",
      "loss: -199.76573\n",
      "step: 13599\n",
      "loss: -201.26549\n",
      "step: 13699\n",
      "loss: -202.76529\n",
      "step: 13799\n",
      "loss: -204.26506\n",
      "step: 13899\n",
      "loss: -205.76482\n",
      "step: 13999\n",
      "loss: -207.26459\n",
      "step: 14099\n",
      "loss: -208.76434\n",
      "step: 14199\n",
      "loss: -210.2641\n",
      "step: 14299\n",
      "loss: -211.76387\n",
      "step: 14399\n",
      "loss: -213.26363\n",
      "step: 14499\n",
      "loss: -214.7634\n",
      "step: 14599\n",
      "loss: -216.26315\n",
      "step: 14699\n",
      "loss: -217.76292\n",
      "step: 14799\n",
      "loss: -219.26266\n",
      "step: 14899\n",
      "loss: -220.76237\n",
      "step: 14999\n",
      "loss: -222.26212\n",
      "step: 15099\n",
      "loss: -223.76184\n",
      "step: 15199\n",
      "loss: -225.26155\n",
      "step: 15299\n",
      "loss: -226.76129\n",
      "step: 15399\n",
      "loss: -228.26102\n",
      "step: 15499\n",
      "loss: -229.76074\n",
      "step: 15599\n",
      "loss: -231.26044\n",
      "step: 15699\n",
      "loss: -232.76012\n",
      "step: 15799\n",
      "loss: -234.2598\n",
      "step: 15899\n",
      "loss: -235.75946\n",
      "step: 15999\n",
      "loss: -237.2591\n",
      "step: 16099\n",
      "loss: -238.75873\n",
      "step: 16199\n",
      "loss: -240.25832\n",
      "step: 16299\n",
      "loss: -241.7579\n",
      "step: 16399\n",
      "loss: -243.25748\n",
      "step: 16499\n",
      "loss: -244.75706\n",
      "step: 16599\n",
      "loss: -246.25665\n",
      "step: 16699\n",
      "loss: -247.75627\n",
      "step: 16799\n",
      "loss: -249.25584\n",
      "step: 16899\n",
      "loss: -250.75545\n",
      "step: 16999\n",
      "loss: -252.25507\n",
      "step: 17099\n",
      "loss: -253.75465\n",
      "step: 17199\n",
      "loss: -255.25423\n",
      "step: 17299\n",
      "loss: -256.75378\n",
      "step: 17399\n",
      "loss: -258.25333\n",
      "step: 17499\n",
      "loss: -259.7529\n",
      "step: 17599\n",
      "loss: -261.2524\n",
      "step: 17699\n",
      "loss: -262.75198\n",
      "step: 17799\n",
      "loss: -264.2515\n",
      "step: 17899\n",
      "loss: -265.75104\n",
      "step: 17999\n",
      "loss: -267.25058\n",
      "step: 18099\n",
      "loss: -268.75006\n",
      "step: 18199\n",
      "loss: -270.24963\n",
      "step: 18299\n",
      "loss: -271.74918\n",
      "step: 18399\n",
      "loss: -273.24866\n",
      "step: 18499\n",
      "loss: -274.74817\n",
      "step: 18599\n",
      "loss: -276.2477\n",
      "step: 18699\n",
      "loss: -277.7472\n",
      "step: 18799\n",
      "loss: -279.2467\n",
      "step: 18899\n",
      "loss: -280.7462\n",
      "step: 18999\n",
      "loss: -282.24573\n",
      "step: 19099\n",
      "loss: -283.74518\n",
      "step: 19199\n",
      "loss: -285.2447\n",
      "step: 19299\n",
      "loss: -286.74414\n",
      "step: 19399\n",
      "loss: -288.24365\n",
      "step: 19499\n",
      "loss: -289.74313\n",
      "step: 19599\n",
      "loss: -291.2426\n",
      "step: 19699\n",
      "loss: -292.74207\n",
      "step: 19799\n",
      "loss: -294.24158\n",
      "step: 19899\n",
      "loss: -295.74106\n",
      "step: 19999\n",
      "loss: -297.2405\n",
      "step: 20099\n",
      "loss: -298.73996\n",
      "step: 20199\n",
      "loss: -300.23938\n",
      "step: 20299\n",
      "loss: -301.73883\n",
      "step: 20399\n",
      "loss: -303.23822\n",
      "step: 20499\n",
      "loss: -304.73764\n",
      "step: 20599\n",
      "loss: -306.23703\n",
      "step: 20699\n",
      "loss: -307.73642\n",
      "step: 20799\n",
      "loss: -309.23578\n",
      "step: 20899\n",
      "loss: -310.7351\n",
      "step: 20999\n",
      "loss: -312.23453\n",
      "step: 21099\n",
      "loss: -313.73386\n",
      "step: 21199\n",
      "loss: -315.23322\n",
      "step: 21299\n",
      "loss: -316.7326\n",
      "step: 21399\n",
      "loss: -318.232\n",
      "step: 21499\n",
      "loss: -319.73132\n",
      "step: 21599\n",
      "loss: -321.23065\n",
      "step: 21699\n",
      "loss: -322.72998\n",
      "step: 21799\n",
      "loss: -324.2293\n",
      "step: 21899\n",
      "loss: -325.7286\n",
      "step: 21999\n",
      "loss: -327.22787\n",
      "step: 22099\n",
      "loss: -328.72723\n",
      "step: 22199\n",
      "loss: -330.2265\n",
      "step: 22299\n",
      "loss: -331.72574\n",
      "step: 22399\n",
      "loss: -333.22504\n",
      "step: 22499\n",
      "loss: -334.72427\n",
      "step: 22599\n",
      "loss: -336.22354\n",
      "step: 22699\n",
      "loss: -337.72278\n",
      "step: 22799\n",
      "loss: -339.22205\n",
      "step: 22899\n",
      "loss: -340.72137\n",
      "step: 22999\n",
      "loss: -342.22058\n",
      "step: 23099\n",
      "loss: -343.71988\n",
      "step: 23199\n",
      "loss: -345.21912\n",
      "step: 23299\n",
      "loss: -346.7184\n",
      "step: 23399\n",
      "loss: -348.2177\n",
      "step: 23499\n",
      "loss: -349.717\n",
      "step: 23599\n",
      "loss: -351.21625\n",
      "step: 23699\n",
      "loss: -352.71558\n",
      "step: 23799\n",
      "loss: -354.21478\n",
      "step: 23899\n",
      "loss: -355.71402\n",
      "step: 23999\n",
      "loss: -357.21326\n",
      "step: 24099\n",
      "loss: -358.71246\n",
      "step: 24199\n",
      "loss: -360.2117\n",
      "step: 24299\n",
      "loss: -361.71094\n",
      "step: 24399\n",
      "loss: -363.21014\n",
      "step: 24499\n",
      "loss: -364.70938\n",
      "step: 24599\n",
      "loss: -366.20856\n",
      "step: 24699\n",
      "loss: -367.70776\n",
      "step: 24799\n",
      "loss: -369.207\n",
      "step: 24899\n",
      "loss: -370.70615\n",
      "step: 24999\n",
      "loss: -372.20532\n",
      "step: 25099\n",
      "loss: -373.70447\n",
      "step: 25199\n",
      "loss: -375.20367\n",
      "step: 25299\n",
      "loss: -376.7029\n",
      "step: 25399\n",
      "loss: -378.2021\n",
      "step: 25499\n",
      "loss: -379.70126\n",
      "step: 25599\n",
      "loss: -381.2005\n",
      "step: 25699\n",
      "loss: -382.69962\n",
      "step: 25799\n",
      "loss: -384.1988\n",
      "step: 25899\n",
      "loss: -385.69794\n",
      "step: 25999\n",
      "loss: -387.1971\n",
      "step: 26099\n",
      "loss: -388.69635\n",
      "step: 26199\n",
      "loss: -390.19547\n",
      "step: 26299\n",
      "loss: -391.6947\n",
      "step: 26399\n",
      "loss: -393.19388\n",
      "step: 26499\n",
      "loss: -394.69308\n",
      "step: 26599\n",
      "loss: -396.1923\n",
      "step: 26699\n",
      "loss: -397.6915\n",
      "step: 26799\n",
      "loss: -399.1907\n",
      "step: 26899\n",
      "loss: -400.6899\n",
      "step: 26999\n",
      "loss: -402.18912\n",
      "step: 27099\n",
      "loss: -403.6883\n",
      "step: 27199\n",
      "loss: -405.18753\n",
      "step: 27299\n",
      "loss: -406.6867\n",
      "step: 27399\n",
      "loss: -408.18594\n",
      "step: 27499\n",
      "loss: -409.68506\n",
      "step: 27599\n",
      "loss: -411.1843\n",
      "step: 27699\n",
      "loss: -412.6835\n",
      "step: 27799\n",
      "loss: -414.18268\n",
      "step: 27899\n",
      "loss: -415.68185\n",
      "step: 27999\n",
      "loss: -417.18112\n",
      "step: 28099\n",
      "loss: -418.6803\n",
      "step: 28199\n",
      "loss: -420.17947\n",
      "step: 28299\n",
      "loss: -421.67862\n",
      "step: 28399\n",
      "loss: -423.17783\n",
      "step: 28499\n",
      "loss: -424.67697\n",
      "step: 28599\n",
      "loss: -426.17612\n",
      "step: 28699\n",
      "loss: -427.67526\n",
      "step: 28799\n",
      "loss: -429.17444\n",
      "step: 28899\n",
      "loss: -430.6736\n",
      "step: 28999\n",
      "loss: -432.17276\n",
      "step: 29099\n",
      "loss: -433.67194\n",
      "step: 29199\n",
      "loss: -435.17114\n",
      "step: 29299\n",
      "loss: -436.67035\n",
      "step: 29399\n",
      "loss: -438.16953\n",
      "step: 29499\n",
      "loss: -439.66867\n",
      "step: 29599\n",
      "loss: -441.16788\n",
      "step: 29699\n",
      "loss: -442.66705\n",
      "step: 29799\n",
      "loss: -444.16623\n",
      "step: 29899\n",
      "loss: -445.66544\n",
      "step: 29999\n",
      "loss: -447.1646\n"
     ]
    }
   ],
   "source": [
    "# 루프를 300회 반복하면서 loss함수 값과 일괄 작업 대상, 데이터 정확도를 기록해준다.\n",
    "loss_vec=[]\n",
    "batch_accuracy = []\n",
    "for i in range(30000):\n",
    "    rand_index = np.random.choice(\n",
    "    len(x_values), size=batch_size)\n",
    "    rand_x = x_values[rand_index]\n",
    "    rand_y = np.transpose([y_values[rand_index]])\n",
    "    sess.run(train_step,feed_dict={x_data:rand_x, y_target:rand_y})\n",
    "    temp_loss = sess.run(loss,feed_dict={x_data:rand_x,y_target:rand_y})\n",
    "    acc_temp = sess.run(accuracy,feed_dict={x_data:rand_x, y_target:rand_y, predicted_grid:rand_x})\n",
    "    batch_accuracy.append(acc_temp)\n",
    "    # 데이터 많으니 일부 출력\n",
    "    if(i+1)%100==0:\n",
    "        print(\"step:\",i)\n",
    "        print(\"loss:\",temp_loss)"
   ]
  },
  {
   "cell_type": "code",
   "execution_count": 37,
   "metadata": {},
   "outputs": [
    {
     "data": {
      "text/plain": [
       "1.5"
      ]
     },
     "execution_count": 37,
     "metadata": {},
     "output_type": "execute_result"
    }
   ],
   "source": [
    "x2= [[1.,1.],[2.,2.]]\n",
    "y2 = tf.reduce_mean(x2)\n",
    "sess.run(y2)"
   ]
  },
  {
   "cell_type": "code",
   "execution_count": 38,
   "metadata": {},
   "outputs": [
    {
     "name": "stdout",
     "output_type": "stream",
     "text": [
      "3.3 8.9\n"
     ]
    }
   ],
   "source": [
    "# 출력\n",
    "x_min, x_max = x_values[:,0].min() -1, x_values[:,0].max()+1\n",
    "print(x_min,x_max)"
   ]
  },
  {
   "cell_type": "code",
   "execution_count": 39,
   "metadata": {},
   "outputs": [
    {
     "name": "stdout",
     "output_type": "stream",
     "text": [
      "3.3 8.9\n"
     ]
    }
   ],
   "source": [
    "y_min, y_max = x_values[:,1].min() -1, x_values[:,1].max()+1\n",
    "print(x_min,x_max)"
   ]
  },
  {
   "cell_type": "code",
   "execution_count": 40,
   "metadata": {},
   "outputs": [
    {
     "data": {
      "text/plain": [
       "array([[1., 1., 1., ..., 1., 1., 1.],\n",
       "       [1., 1., 1., ..., 1., 1., 1.],\n",
       "       [1., 1., 1., ..., 1., 1., 1.],\n",
       "       ...,\n",
       "       [1., 1., 1., ..., 1., 1., 1.],\n",
       "       [1., 1., 1., ..., 1., 1., 1.],\n",
       "       [1., 1., 1., ..., 1., 1., 1.]], dtype=float32)"
      ]
     },
     "execution_count": 40,
     "metadata": {},
     "output_type": "execute_result"
    }
   ],
   "source": [
    "xx, yy = np.meshgrid(np.arange(x_min, x_max, 0.02),np.arange(y_min,y_max,0.02))\n",
    "grid_points = np.c_[xx.ravel(),yy.ravel()]\n",
    "[grid_predictions] = sess.run(prediction, feed_dict={x_data:rand_x, y_target:rand_y,predicted_grid:grid_points})\n",
    "grid_predictions = grid_predictions.reshape(xx.shape)\n",
    "grid_predictions"
   ]
  },
  {
   "cell_type": "code",
   "execution_count": 43,
   "metadata": {},
   "outputs": [
    {
     "data": {
      "image/png": "[encoded data removed]",
      "text/plain": [
       "<Figure size 432x288 with 1 Axes>"
      ]
     },
     "metadata": {
      "needs_background": "light"
     },
     "output_type": "display_data"
    }
   ],
   "source": [
    "# 시각화\n",
    "plt.contourf(xx,yy,grid_predictions,cmap=plt.cm.Paired, alpha=0.8)\n",
    "plt.rc('font',family=\"Malgun Gothic\")\n",
    "plt.plot(class1_x, class1_y, 'ro' ,label = \"l.setosa\")\n",
    "plt.plot(class2_x,class2_y, 'kx', label =\"Non setosa\")\n",
    "plt.title(\"아이리스 데이터\")\n",
    "# x축 꽃잎의 길이\n",
    "plt.xlabel('꽃잎의 길이')\n",
    "plt.ylim([-0.5,3.0])\n",
    "plt.xlim([3.5,8.5])\n",
    "plt.show()"
   ]
  },
  {
   "cell_type": "code",
   "execution_count": 42,
   "metadata": {},
   "outputs": [
    {
     "data": {
      "image/png": "[encoded data removed]",
      "text/plain": [
       "<Figure size 432x288 with 1 Axes>"
      ]
     },
     "metadata": {
      "needs_background": "light"
     },
     "output_type": "display_data"
    }
   ],
   "source": [
    "plt.plot(batch_accuracy,'k-',label = '정확도')\n",
    "plt.title('Batch Accuracy')\n",
    "plt.xlabel('Generation')\n",
    "plt.ylabel('Accuracy')\n",
    "plt.legend(loc = 'lower right')\n",
    "plt.show()"
   ]
  },
  {
   "cell_type": "code",
   "execution_count": null,
   "metadata": {},
   "outputs": [],
   "source": []
  },
  {
   "cell_type": "code",
   "execution_count": null,
   "metadata": {},
   "outputs": [],
   "source": []
  },
  {
   "cell_type": "code",
   "execution_count": null,
   "metadata": {},
   "outputs": [],
   "source": []
  }
 ],
 "metadata": {
  "kernelspec": {
   "display_name": "Python 3",
   "language": "python",
   "name": "python3"
  },
  "language_info": {
   "codemirror_mode": {
    "name": "ipython",
    "version": 3
   },
   "file_extension": ".py",
   "mimetype": "text/x-python",
   "name": "python",
   "nbconvert_exporter": "python",
   "pygments_lexer": "ipython3",
   "version": "3.6.7"
  }
 },
 "nbformat": 4,
 "nbformat_minor": 2
}
