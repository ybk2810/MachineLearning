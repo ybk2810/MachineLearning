{
 "cells": [
  {
   "cell_type": "code",
   "execution_count": 6,
   "metadata": {},
   "outputs": [
    {
     "name": "stdout",
     "output_type": "stream",
     "text": [
      "[[0. 0. 0. 0. 0. 0. 0. 0.]\n",
      " [0. 0. 0. 0. 0. 0. 0. 0.]\n",
      " [0. 0. 0. 0. 0. 0. 0. 0.]\n",
      " [0. 0. 0. 0. 0. 0. 0. 0.]\n",
      " [0. 0. 0. 0. 0. 0. 0. 0.]\n",
      " [0. 0. 0. 0. 0. 0. 0. 0.]\n",
      " [0. 0. 0. 0. 0. 0. 0. 0.]\n",
      " [0. 0. 0. 0. 0. 0. 0. 0.]]\n"
     ]
    }
   ],
   "source": [
    "# 8행 8열 짜리 ndarray 타입의 행렬 생성\n",
    "\n",
    "# 0  0  0  0  0  0  0  0\n",
    "# 0  15 15 15 15 15 15 0\n",
    "# 0  15 0  0  0  0  15 0\n",
    "# 0  15 0  0  0  0  15 0\n",
    "# 0  15 0  0  0  0  15 0\n",
    "# 0  15 0  0  0  0  15 0\n",
    "# 0  15 15 15 15 15 15 0\n",
    "# 0  0  0  0  0  0  0  0\n",
    "\n",
    "import numpy as np\n",
    "x = np.zeros((8,8))\n",
    "print(x)"
   ]
  },
  {
   "cell_type": "code",
   "execution_count": 7,
   "metadata": {},
   "outputs": [
    {
     "name": "stdout",
     "output_type": "stream",
     "text": [
      "[[ 0.  0.  0.  0.  0.  0.  0.  0.]\n",
      " [ 0. 15. 15. 15. 15. 15. 15.  0.]\n",
      " [ 0. 15.  0.  0.  0.  0. 15.  0.]\n",
      " [ 0. 15.  0.  0.  0.  0. 15.  0.]\n",
      " [ 0. 15.  0.  0.  0.  0. 15.  0.]\n",
      " [ 0. 15.  0.  0.  0.  0. 15.  0.]\n",
      " [ 0. 15. 15. 15. 15. 15. 15.  0.]\n",
      " [ 0.  0.  0.  0.  0.  0.  0.  0.]]\n"
     ]
    }
   ],
   "source": [
    "x[1:7,1:7] = 15\n",
    "x[2:6,2:6] = 0\n",
    "print(x)"
   ]
  },
  {
   "cell_type": "code",
   "execution_count": 8,
   "metadata": {},
   "outputs": [
    {
     "data": {
      "text/plain": [
       "array([[1., 4.],\n",
       "       [7., 3.]])"
      ]
     },
     "execution_count": 8,
     "metadata": {},
     "output_type": "execute_result"
    }
   ],
   "source": [
    "# 2행 2열 짜리 필터 행렬\n",
    "k1 = np.zeros((2,2))\n",
    "k1[0,0] = 1; k1[0,1] = 4;\n",
    "k1[1,0] = 7; k1[1,1] = 3;\n",
    "k1"
   ]
  },
  {
   "cell_type": "code",
   "execution_count": 9,
   "metadata": {},
   "outputs": [
    {
     "data": {
      "text/plain": [
       "array([[ 0.5,  0.5],\n",
       "       [-0.5, -0.5]])"
      ]
     },
     "execution_count": 9,
     "metadata": {},
     "output_type": "execute_result"
    }
   ],
   "source": [
    "# 2행 2열 짜리 필터 행렬\n",
    "k2 = np.zeros((2,2))\n",
    "k2[0,:] = 0.5;\n",
    "k2[1,:] = -0.5;\n",
    "k2"
   ]
  },
  {
   "cell_type": "code",
   "execution_count": 16,
   "metadata": {},
   "outputs": [
    {
     "data": {
      "text/plain": [
       "array([[ 15.,  75.,  75.,  75.,  75.,  75.,  60.,   0.],\n",
       "       [120., 210., 150., 150., 150., 165., 105.,   0.],\n",
       "       [120., 105.,   0.,   0.,   0., 120., 105.,   0.],\n",
       "       [120., 105.,   0.,   0.,   0., 120., 105.,   0.],\n",
       "       [120., 105.,   0.,   0.,   0., 120., 105.,   0.],\n",
       "       [120., 120.,  75.,  75.,  75., 180., 105.,   0.],\n",
       "       [105., 150., 150., 150., 150., 150.,  45.,   0.],\n",
       "       [  0.,   0.,   0.,   0.,   0.,   0.,   0.,   0.]])"
      ]
     },
     "execution_count": 16,
     "metadata": {},
     "output_type": "execute_result"
    }
   ],
   "source": [
    "from scipy.ndimage.filters import convolve\n",
    "phi1 = convolve(x,k1)\n",
    "phi1"
   ]
  },
  {
   "cell_type": "code",
   "execution_count": 13,
   "metadata": {},
   "outputs": [],
   "source": [
    "# Pooling : 계산되는 부피를 줄이는 작업 \n",
    "# max pooling : 대표되는 큰 값을 대표로 정함\n",
    "# average pooling : 평균을 대표로 정함"
   ]
  },
  {
   "cell_type": "code",
   "execution_count": 14,
   "metadata": {},
   "outputs": [],
   "source": [
    "from skimage.measure import block_reduce"
   ]
  },
  {
   "cell_type": "code",
   "execution_count": 17,
   "metadata": {},
   "outputs": [
    {
     "name": "stdout",
     "output_type": "stream",
     "text": [
      "[[210. 150. 165. 105.]\n",
      " [120.   0. 120. 105.]\n",
      " [120.  75. 180. 105.]\n",
      " [150. 150. 150.  45.]]\n"
     ]
    }
   ],
   "source": [
    "phi1r = block_reduce(phi1, (2,2), np.max)\n",
    "print(phi1r)"
   ]
  },
  {
   "cell_type": "code",
   "execution_count": 18,
   "metadata": {},
   "outputs": [
    {
     "data": {
      "text/plain": [
       "array([[  7.5,  15. ,  15. ,  15. ,  15. ,  15. ,   7.5,   0. ],\n",
       "       [  0. ,  -7.5, -15. , -15. , -15. ,  -7.5,   0. ,   0. ],\n",
       "       [  0. ,   0. ,   0. ,   0. ,   0. ,   0. ,   0. ,   0. ],\n",
       "       [  0. ,   0. ,   0. ,   0. ,   0. ,   0. ,   0. ,   0. ],\n",
       "       [  0. ,   0. ,   0. ,   0. ,   0. ,   0. ,   0. ,   0. ],\n",
       "       [  0. ,   7.5,  15. ,  15. ,  15. ,   7.5,   0. ,   0. ],\n",
       "       [ -7.5, -15. , -15. , -15. , -15. , -15. ,  -7.5,   0. ],\n",
       "       [  0. ,   0. ,   0. ,   0. ,   0. ,   0. ,   0. ,   0. ]])"
      ]
     },
     "execution_count": 18,
     "metadata": {},
     "output_type": "execute_result"
    }
   ],
   "source": [
    "# 두번째 필터로 적용\n",
    "phi2 = convolve(x,k2)\n",
    "phi2"
   ]
  },
  {
   "cell_type": "code",
   "execution_count": 20,
   "metadata": {},
   "outputs": [
    {
     "name": "stdout",
     "output_type": "stream",
     "text": [
      "[[ 3.75   0.     1.875  1.875]\n",
      " [ 0.     0.     0.     0.   ]\n",
      " [ 1.875  7.5    5.625  0.   ]\n",
      " [-5.625 -7.5   -7.5   -1.875]]\n"
     ]
    }
   ],
   "source": [
    "phi2r = block_reduce(phi2, (2,2), np.average)\n",
    "print(phi2r)"
   ]
  },
  {
   "cell_type": "code",
   "execution_count": null,
   "metadata": {},
   "outputs": [],
   "source": []
  },
  {
   "cell_type": "code",
   "execution_count": null,
   "metadata": {},
   "outputs": [],
   "source": []
  },
  {
   "cell_type": "code",
   "execution_count": null,
   "metadata": {},
   "outputs": [],
   "source": []
  }
 ],
 "metadata": {
  "kernelspec": {
   "display_name": "Python 3",
   "language": "python",
   "name": "python3"
  },
  "language_info": {
   "codemirror_mode": {
    "name": "ipython",
    "version": 3
   },
   "file_extension": ".py",
   "mimetype": "text/x-python",
   "name": "python",
   "nbconvert_exporter": "python",
   "pygments_lexer": "ipython3",
   "version": "3.7.0"
  }
 },
 "nbformat": 4,
 "nbformat_minor": 2
}
