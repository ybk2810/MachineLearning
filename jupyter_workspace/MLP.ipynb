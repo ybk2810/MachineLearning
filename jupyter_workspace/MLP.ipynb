{
 "cells": [
  {
   "cell_type": "code",
   "execution_count": 1,
   "metadata": {},
   "outputs": [],
   "source": [
    "#MLP로 XOR 문제 해결할수 있다."
   ]
  },
  {
   "cell_type": "code",
   "execution_count": 32,
   "metadata": {},
   "outputs": [],
   "source": [
    "import tensorflow as tf\n",
    "import numpy as np"
   ]
  },
  {
   "cell_type": "code",
   "execution_count": 33,
   "metadata": {},
   "outputs": [],
   "source": [
    "tf.set_random_seed(777)\n",
    "learning_rate=0.1"
   ]
  },
  {
   "cell_type": "code",
   "execution_count": 34,
   "metadata": {},
   "outputs": [
    {
     "data": {
      "text/plain": [
       "[[0, 0], [0, 1], [1, 0], [1, 1]]"
      ]
     },
     "execution_count": 34,
     "metadata": {},
     "output_type": "execute_result"
    }
   ],
   "source": [
    "x_data=[[0,0],[0,1],[1,0],[1,1]]\n",
    "y_data=[[0],[1],[1],[0]]\n",
    "x_data"
   ]
  },
  {
   "cell_type": "code",
   "execution_count": 35,
   "metadata": {},
   "outputs": [
    {
     "data": {
      "text/plain": [
       "list"
      ]
     },
     "execution_count": 35,
     "metadata": {},
     "output_type": "execute_result"
    }
   ],
   "source": [
    "type(x_data)"
   ]
  },
  {
   "cell_type": "code",
   "execution_count": 36,
   "metadata": {},
   "outputs": [
    {
     "name": "stdout",
     "output_type": "stream",
     "text": [
      "[[0. 0.]\n",
      " [0. 1.]\n",
      " [1. 0.]\n",
      " [1. 1.]]\n",
      "<class 'numpy.ndarray'>\n"
     ]
    }
   ],
   "source": [
    "x_data= np.array(x_data, dtype=np.float32)\n",
    "y_data= np.array(y_data, dtype=np.float32)\n",
    "print(x_data)\n",
    "print(type(x_data))\n"
   ]
  },
  {
   "cell_type": "code",
   "execution_count": 37,
   "metadata": {},
   "outputs": [],
   "source": [
    "X=tf.placeholder(tf.float32, shape=[None,2])\n",
    "Y=tf.placeholder(tf.float32, shape=[None,1])\n",
    "\n",
    "W1 = tf.Variable(tf.random_normal([2,2]),name='weight')\n",
    "b1 = tf.Variable(tf.random_normal([1]),name='bias1')\n",
    "layer1 = tf.sigmoid(tf.matmul(X,W1)+b1)\n"
   ]
  },
  {
   "cell_type": "code",
   "execution_count": 38,
   "metadata": {},
   "outputs": [],
   "source": [
    "W2 = tf.Variable(tf.random_normal([2,1]),name='weight2')\n",
    "b2 = tf.Variable(tf.random_normal([1]),name='bias2')\n",
    "model=tf.sigmoid(tf.matmul(layer1,W2)+b2)\n",
    "\n",
    "cost = -tf.reduce_mean(Y*tf.log(model)+(1-Y)*tf.log(1-model))\n",
    "train = tf.train.GradientDescentOptimizer(learning_rate=learning_rate).minimize(cost)"
   ]
  },
  {
   "cell_type": "code",
   "execution_count": 39,
   "metadata": {},
   "outputs": [],
   "source": [
    "#정확도 계산\n",
    "#0.5보다 크면 true 아니면 false\n",
    "predicted = tf.cast(model> 0.5, dtype=tf.float32)\n",
    "accurancy = tf.reduce_mean(tf.cast(tf.equal(predicted,Y),dtype=tf.float32))"
   ]
  },
  {
   "cell_type": "code",
   "execution_count": 40,
   "metadata": {},
   "outputs": [
    {
     "name": "stdout",
     "output_type": "stream",
     "text": [
      "0 0.9039893\n",
      "100 0.6925965\n",
      "200 0.69103646\n",
      "300 0.6894252\n",
      "400 0.68742394\n",
      "500 0.68473786\n",
      "600 0.6810156\n",
      "700 0.67581666\n",
      "800 0.66858816\n",
      "900 0.65865123\n",
      "1000 0.6452078\n",
      "1100 0.6273726\n",
      "1200 0.6041966\n",
      "1300 0.5746775\n",
      "1400 0.5379572\n",
      "1500 0.49403676\n",
      "1600 0.44470024\n",
      "1700 0.39344352\n",
      "1800 0.3440855\n",
      "1900 0.29935935\n",
      "2000 0.26049012\n",
      "2100 0.22754467\n",
      "2200 0.19996583\n",
      "2300 0.17697151\n",
      "2400 0.15777415\n",
      "2500 0.14167503\n",
      "2600 0.12809004\n",
      "2700 0.11654581\n",
      "2800 0.10666372\n",
      "2900 0.09814273\n",
      "3000 0.090743646\n",
      "3100 0.08427547\n",
      "3200 0.07858539\n",
      "3300 0.07354988\n",
      "3400 0.0690691\n",
      "3500 0.06506135\n",
      "3600 0.061459366\n",
      "3700 0.058207676\n",
      "3800 0.055259794\n",
      "3900 0.052577123\n",
      "4000 0.05012692\n",
      "4100 0.047881417\n",
      "4200 0.045817044\n",
      "4300 0.043913517\n",
      "4400 0.042153448\n",
      "4500 0.04052179\n",
      "4600 0.03900536\n",
      "4700 0.03759286\n",
      "4800 0.036274314\n",
      "4900 0.035040848\n",
      "5000 0.03388477\n",
      "5100 0.03279922\n",
      "5200 0.03177814\n",
      "5300 0.030816074\n",
      "5400 0.029908173\n",
      "5500 0.029050186\n",
      "5600 0.028238125\n",
      "5700 0.027468555\n",
      "5800 0.026738215\n",
      "5900 0.026044305\n",
      "6000 0.02538427\n",
      "6100 0.024755657\n",
      "6200 0.024156377\n",
      "6300 0.023584438\n",
      "6400 0.023038086\n",
      "6500 0.02251568\n",
      "6600 0.022015655\n",
      "6700 0.021536652\n",
      "6800 0.021077413\n",
      "6900 0.020636812\n",
      "7000 0.020213652\n",
      "7100 0.019807\n",
      "7200 0.019415908\n",
      "7300 0.019039538\n",
      "7400 0.018677067\n",
      "7500 0.01832777\n",
      "7600 0.017990947\n",
      "7700 0.017665965\n",
      "7800 0.01735222\n",
      "7900 0.017049063\n",
      "8000 0.016756095\n",
      "8100 0.016472742\n",
      "8200 0.01619859\n",
      "8300 0.015933175\n",
      "8400 0.01567614\n",
      "8500 0.01542703\n",
      "8600 0.015185547\n",
      "8700 0.014951294\n",
      "8800 0.014724039\n",
      "8900 0.014503412\n",
      "9000 0.014289139\n",
      "9100 0.014080958\n",
      "9200 0.013878655\n",
      "9300 0.013681906\n",
      "9400 0.01349056\n",
      "9500 0.013304355\n",
      "9600 0.013123138\n",
      "9700 0.012946695\n",
      "9800 0.012774842\n",
      "9900 0.01260735\n",
      "10000 0.012444157\n"
     ]
    }
   ],
   "source": [
    "sess = tf.Session()\n",
    "#초기화\n",
    "sess.run(tf.global_variables_initializer())\n",
    "for step in range(10001):\n",
    "    sess.run(train,feed_dict = {X:x_data, Y:y_data})\n",
    "    if(step % 100 ==0):\n",
    "        print(step,sess.run(cost,feed_dict={X:x_data,Y:y_data}))"
   ]
  },
  {
   "cell_type": "code",
   "execution_count": 41,
   "metadata": {},
   "outputs": [
    {
     "name": "stdout",
     "output_type": "stream",
     "text": [
      "model: [[0.0141051 ]\n",
      " [0.9888715 ]\n",
      " [0.98881745]\n",
      " [0.01304883]] correct : [[0.]\n",
      " [1.]\n",
      " [1.]\n",
      " [0.]] accurancy : 1.0\n"
     ]
    }
   ],
   "source": [
    "#정확도 \n",
    "h,c,a= sess.run([model,predicted,accurancy],feed_dict={X:x_data,Y:y_data})\n",
    "print(\"model:\",h,\"correct :\",c,\"accurancy :\" ,a)"
   ]
  },
  {
   "cell_type": "code",
   "execution_count": null,
   "metadata": {},
   "outputs": [],
   "source": []
  },
  {
   "cell_type": "code",
   "execution_count": null,
   "metadata": {},
   "outputs": [],
   "source": []
  }
 ],
 "metadata": {
  "kernelspec": {
   "display_name": "Python 3",
   "language": "python",
   "name": "python3"
  },
  "language_info": {
   "codemirror_mode": {
    "name": "ipython",
    "version": 3
   },
   "file_extension": ".py",
   "mimetype": "text/x-python",
   "name": "python",
   "nbconvert_exporter": "python",
   "pygments_lexer": "ipython3",
   "version": "3.6.7"
  }
 },
 "nbformat": 4,
 "nbformat_minor": 2
}
