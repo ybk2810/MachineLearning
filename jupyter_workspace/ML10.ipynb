{
 "cells": [
  {
   "cell_type": "code",
   "execution_count": 1,
   "metadata": {},
   "outputs": [],
   "source": [
    "# MLP(MultiLayter Perceptron)로 XOR 문제 해결\n",
    "import tensorflow as tf\n",
    "import numpy as np"
   ]
  },
  {
   "cell_type": "code",
   "execution_count": 2,
   "metadata": {},
   "outputs": [],
   "source": [
    "tf.set_random_seed(777)\n",
    "learning_rate = 0.1"
   ]
  },
  {
   "cell_type": "code",
   "execution_count": 3,
   "metadata": {},
   "outputs": [
    {
     "data": {
      "text/plain": [
       "[[0, 0], [0, 1], [1, 0], [1, 1]]"
      ]
     },
     "execution_count": 3,
     "metadata": {},
     "output_type": "execute_result"
    }
   ],
   "source": [
    "x_data = [[0,0],[0,1],[1,0],[1,1]]\n",
    "y_data = [[0],[1],[1],[0]]\n",
    "x_data"
   ]
  },
  {
   "cell_type": "code",
   "execution_count": 4,
   "metadata": {},
   "outputs": [
    {
     "data": {
      "text/plain": [
       "list"
      ]
     },
     "execution_count": 4,
     "metadata": {},
     "output_type": "execute_result"
    }
   ],
   "source": [
    "type(x_data)"
   ]
  },
  {
   "cell_type": "code",
   "execution_count": 5,
   "metadata": {},
   "outputs": [
    {
     "name": "stdout",
     "output_type": "stream",
     "text": [
      "[[0. 0.]\n",
      " [0. 1.]\n",
      " [1. 0.]\n",
      " [1. 1.]]\n",
      "<class 'numpy.ndarray'>\n"
     ]
    }
   ],
   "source": [
    "x_data = np.array(x_data, dtype=np.float32)\n",
    "y_data = np.array(y_data, dtype=np.float32)\n",
    "print(x_data)\n",
    "print(type(x_data))"
   ]
  },
  {
   "cell_type": "code",
   "execution_count": 6,
   "metadata": {},
   "outputs": [],
   "source": [
    "X=tf.placeholder(tf.float32, shape=[None,2])\n",
    "Y=tf.placeholder(tf.float32, shape=[None,1])\n",
    "\n",
    "# 두개의 선형식을 구하기위해 가중치와 절편 2개씩\n",
    "W1 = tf.Variable(tf.random_normal([2,2]),name='weight1')\n",
    "b1 = tf.Variable(tf.random_normal([2]),name='bias1')\n",
    "layer1 = tf.sigmoid(tf.matmul(X,W1)+b1)"
   ]
  },
  {
   "cell_type": "code",
   "execution_count": 7,
   "metadata": {},
   "outputs": [],
   "source": [
    "W2 = tf.Variable(tf.random_normal([2,1]), name='weight2')\n",
    "b2 = tf.Variable(tf.random_normal([1]), name='bias2')\n",
    "model = tf.sigmoid(tf.matmul(layer1,W2)+b2)\n",
    "\n",
    "cost = -tf.reduce_mean(Y*tf.log(model)+(1-Y)*tf.log(1-model))\n",
    "train = tf.train.GradientDescentOptimizer(learning_rate = learning_rate).minimize(cost) \n",
    "# 경사기울기알고리즘 GradientDescentOptimizer"
   ]
  },
  {
   "cell_type": "code",
   "execution_count": 8,
   "metadata": {},
   "outputs": [],
   "source": [
    "# 정확도 계산\n",
    "# 0.5 보다 크면 True 아니면 False\n",
    "predicted = tf.cast(model>0.5, dtype=tf.float32)\n",
    "accuracy = tf.reduce_mean(tf.cast(tf.equal(predicted,Y),dtype=tf.float32))"
   ]
  },
  {
   "cell_type": "code",
   "execution_count": 9,
   "metadata": {},
   "outputs": [
    {
     "name": "stdout",
     "output_type": "stream",
     "text": [
      "0 0.7539022\n",
      "100 0.69584423\n",
      "200 0.694039\n",
      "300 0.6924366\n",
      "400 0.6908046\n",
      "500 0.6889793\n",
      "600 0.68681204\n",
      "700 0.68414605\n",
      "800 0.6808021\n",
      "900 0.67657316\n",
      "1000 0.6712291\n",
      "1100 0.6645359\n",
      "1200 0.656289\n",
      "1300 0.64635646\n",
      "1400 0.6347176\n",
      "1500 0.62146986\n",
      "1600 0.6067844\n",
      "1700 0.59081197\n",
      "1800 0.57356155\n",
      "1900 0.5547905\n",
      "2000 0.5339361\n",
      "2100 0.5101247\n",
      "2200 0.48234096\n",
      "2300 0.44984138\n",
      "2400 0.41275084\n",
      "2500 0.37245256\n",
      "2600 0.33132744\n",
      "2700 0.2919077\n",
      "2800 0.25606003\n",
      "2900 0.22468188\n",
      "3000 0.1978668\n",
      "3100 0.17523661\n",
      "3200 0.15622242\n",
      "3300 0.14023177\n",
      "3400 0.12672828\n",
      "3500 0.11525793\n",
      "3600 0.10544854\n",
      "3700 0.09700039\n",
      "3800 0.08967343\n",
      "3900 0.08327566\n",
      "4000 0.07765333\n",
      "4100 0.07268217\n",
      "4200 0.06826201\n",
      "4300 0.064310886\n",
      "4400 0.060761556\n",
      "4500 0.0575586\n",
      "4600 0.054655917\n",
      "4700 0.052014828\n",
      "4800 0.049602933\n",
      "4900 0.047392756\n",
      "5000 0.04536082\n",
      "5100 0.043487232\n",
      "5200 0.04175476\n",
      "5300 0.040148474\n",
      "5400 0.03865556\n",
      "5500 0.037264757\n",
      "5600 0.035966218\n",
      "5700 0.03475129\n",
      "5800 0.03361243\n",
      "5900 0.032542817\n",
      "6000 0.031536564\n",
      "6100 0.030588254\n",
      "6200 0.029693166\n",
      "6300 0.028847102\n",
      "6400 0.028046183\n",
      "6500 0.027286937\n",
      "6600 0.02656633\n",
      "6700 0.025881503\n",
      "6800 0.025229974\n",
      "6900 0.024609346\n",
      "7000 0.024017539\n",
      "7100 0.02345264\n",
      "7200 0.022912856\n",
      "7300 0.022396632\n",
      "7400 0.021902483\n",
      "7500 0.021429015\n",
      "7600 0.020974983\n",
      "7700 0.020539287\n",
      "7800 0.020120762\n",
      "7900 0.019718505\n",
      "8000 0.019331548\n",
      "8100 0.018959116\n",
      "8200 0.018600369\n",
      "8300 0.018254593\n",
      "8400 0.017921105\n",
      "8500 0.017599303\n",
      "8600 0.017288534\n",
      "8700 0.016988242\n",
      "8800 0.01669798\n",
      "8900 0.01641725\n",
      "9000 0.016145576\n",
      "9100 0.015882462\n",
      "9200 0.015627678\n",
      "9300 0.0153807\n",
      "9400 0.01514128\n",
      "9500 0.014908974\n",
      "9600 0.014683579\n",
      "9700 0.014464697\n",
      "9800 0.014252113\n",
      "9900 0.014045564\n",
      "10000 0.013844791\n"
     ]
    }
   ],
   "source": [
    "sess = tf.Session()\n",
    "sess.run(tf.global_variables_initializer())\n",
    "\n",
    "for step in range(10001):\n",
    "    sess.run(train, feed_dict={X:x_data, Y:y_data})\n",
    "    if(step % 100 == 0):\n",
    "        print(step, sess.run(cost, feed_dict={X:x_data, Y:y_data}))"
   ]
  },
  {
   "cell_type": "code",
   "execution_count": 10,
   "metadata": {},
   "outputs": [
    {
     "name": "stdout",
     "output_type": "stream",
     "text": [
      "model:  [[0.01338218]\n",
      " [0.98166394]\n",
      " [0.98809403]\n",
      " [0.01135799]] correct :  [[0.]\n",
      " [1.]\n",
      " [1.]\n",
      " [0.]] accuracy :  1.0\n"
     ]
    }
   ],
   "source": [
    "# 정확도\n",
    "h, c, a = sess.run([model, predicted, accuracy],feed_dict={X:x_data, Y:y_data})\n",
    "print(\"model: \", h , \"correct : \" , c , \"accuracy : \", a)"
   ]
  },
  {
   "cell_type": "code",
   "execution_count": null,
   "metadata": {},
   "outputs": [],
   "source": [
    "# MLP로는 XOR 해결가능 증명"
   ]
  },
  {
   "cell_type": "code",
   "execution_count": null,
   "metadata": {},
   "outputs": [],
   "source": []
  },
  {
   "cell_type": "code",
   "execution_count": null,
   "metadata": {},
   "outputs": [],
   "source": []
  },
  {
   "cell_type": "code",
   "execution_count": null,
   "metadata": {},
   "outputs": [],
   "source": []
  },
  {
   "cell_type": "code",
   "execution_count": null,
   "metadata": {},
   "outputs": [],
   "source": []
  }
 ],
 "metadata": {
  "kernelspec": {
   "display_name": "Python 3",
   "language": "python",
   "name": "python3"
  },
  "language_info": {
   "codemirror_mode": {
    "name": "ipython",
    "version": 3
   },
   "file_extension": ".py",
   "mimetype": "text/x-python",
   "name": "python",
   "nbconvert_exporter": "python",
   "pygments_lexer": "ipython3",
   "version": "3.6.7"
  }
 },
 "nbformat": 4,
 "nbformat_minor": 2
}
