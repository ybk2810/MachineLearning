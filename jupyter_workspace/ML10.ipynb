{
 "cells": [
  {
   "cell_type": "code",
   "execution_count": 1,
   "metadata": {},
   "outputs": [],
   "source": [
    "# MLP 로 XOR 문제 해결\n",
    "\n",
    "import tensorflow as tf\n",
    "import numpy as np"
   ]
  },
  {
   "cell_type": "code",
   "execution_count": 2,
   "metadata": {},
   "outputs": [],
   "source": [
    "tf.set_random_seed(777)\n",
    "learning_rate = 0.1"
   ]
  },
  {
   "cell_type": "code",
   "execution_count": 3,
   "metadata": {},
   "outputs": [
    {
     "data": {
      "text/plain": [
       "[[0, 0], [0, 1], [1, 0], [1, 1]]"
      ]
     },
     "execution_count": 3,
     "metadata": {},
     "output_type": "execute_result"
    }
   ],
   "source": [
    "x_data = [[0,0],[0,1],[1,0],[1,1]]\n",
    "y_data = [[0],[1],[1],[0]]\n",
    "x_data"
   ]
  },
  {
   "cell_type": "code",
   "execution_count": 4,
   "metadata": {},
   "outputs": [
    {
     "data": {
      "text/plain": [
       "list"
      ]
     },
     "execution_count": 4,
     "metadata": {},
     "output_type": "execute_result"
    }
   ],
   "source": [
    "type(x_data)"
   ]
  },
  {
   "cell_type": "code",
   "execution_count": 5,
   "metadata": {},
   "outputs": [
    {
     "name": "stdout",
     "output_type": "stream",
     "text": [
      "[[0. 0.]\n",
      " [0. 1.]\n",
      " [1. 0.]\n",
      " [1. 1.]]\n",
      "<class 'numpy.ndarray'>\n"
     ]
    }
   ],
   "source": [
    "x_data = np.array(x_data, dtype=np.float32)\n",
    "y_data = np.array(y_data, dtype=np.float32)\n",
    "print(x_data)\n",
    "print(type(x_data))"
   ]
  },
  {
   "cell_type": "code",
   "execution_count": 6,
   "metadata": {},
   "outputs": [],
   "source": [
    "X=tf.placeholder(tf.float32, shape=[None,2])\n",
    "Y=tf.placeholder(tf.float32, shape=[None,1])\n",
    "\n",
    "W1 = tf.Variable(tf.random_normal([2,2]),name='weight1')\n",
    "b1 = tf.Variable(tf.random_normal([1]),name='bias1')\n",
    "layer1 = tf.sigmoid(tf.matmul(X,W1)+b1)"
   ]
  },
  {
   "cell_type": "code",
   "execution_count": 7,
   "metadata": {},
   "outputs": [],
   "source": [
    "W2 = tf.Variable(tf.random_normal([2,1]), name='weight2')\n",
    "b2 = tf.Variable(tf.random_normal([1]), name='bias2')\n",
    "model = tf.sigmoid(tf.matmul(layer1,W2)+b2)\n",
    "\n",
    "cost = -tf.reduce_mean(Y*tf.log(model)+(1-Y)*tf.log(1-model))\n",
    "train = tf.train.GradientDescentOptimizer(learning_rate = learning_rate).minimize(cost)"
   ]
  },
  {
   "cell_type": "code",
   "execution_count": 8,
   "metadata": {},
   "outputs": [],
   "source": [
    "# 정확도 계산\n",
    "# 0.5 보다 크면 True 아니면 False\n",
    "predicted = tf.cast(model>0.5, dtype=tf.float32)\n",
    "accuracy = tf.reduce_mean(tf.cast(tf.equal(predicted,Y),dtype=tf.float32))"
   ]
  },
  {
   "cell_type": "code",
   "execution_count": 9,
   "metadata": {},
   "outputs": [
    {
     "name": "stdout",
     "output_type": "stream",
     "text": [
      "0 0.7195616\n",
      "100 0.6941855\n",
      "200 0.69217813\n",
      "300 0.6909126\n",
      "400 0.68999386\n",
      "500 0.689193\n",
      "600 0.688368\n",
      "700 0.6874151\n",
      "800 0.68623716\n",
      "900 0.68472207\n",
      "1000 0.68272626\n",
      "1100 0.68006074\n",
      "1200 0.67648494\n",
      "1300 0.6717162\n",
      "1400 0.66546565\n",
      "1500 0.6575085\n",
      "1600 0.64777005\n",
      "1700 0.6363896\n",
      "1800 0.6237147\n",
      "1900 0.6102196\n",
      "2000 0.5963863\n",
      "2100 0.58260185\n",
      "2200 0.5691104\n",
      "2300 0.55602455\n",
      "2400 0.54337674\n",
      "2500 0.5311804\n",
      "2600 0.51946956\n",
      "2700 0.5083036\n",
      "2800 0.4977482\n",
      "2900 0.48785517\n",
      "3000 0.47865137\n",
      "3100 0.4701386\n",
      "3200 0.46229893\n",
      "3300 0.45510012\n",
      "3400 0.44850188\n",
      "3500 0.44245982\n",
      "3600 0.4369281\n",
      "3700 0.431862\n",
      "3800 0.4272188\n",
      "3900 0.42295858\n",
      "4000 0.41904464\n",
      "4100 0.41544357\n",
      "4200 0.41212493\n",
      "4300 0.4090616\n",
      "4400 0.40622896\n",
      "4500 0.4036051\n",
      "4600 0.40117052\n",
      "4700 0.39890748\n",
      "4800 0.39680046\n",
      "4900 0.39483535\n",
      "5000 0.39299953\n",
      "5100 0.3912819\n",
      "5200 0.38967228\n",
      "5300 0.3881615\n",
      "5400 0.3867416\n",
      "5500 0.38540518\n",
      "5600 0.38414562\n",
      "5700 0.38295686\n",
      "5800 0.3818335\n",
      "5900 0.3807708\n",
      "6000 0.37976408\n",
      "6100 0.37880942\n",
      "6200 0.37790307\n",
      "6300 0.37704164\n",
      "6400 0.37622207\n",
      "6500 0.37544167\n",
      "6600 0.37469774\n",
      "6700 0.37398797\n",
      "6800 0.3733101\n",
      "6900 0.37266216\n",
      "7000 0.37204236\n",
      "7100 0.37144893\n",
      "7200 0.3708803\n",
      "7300 0.37033504\n",
      "7400 0.3698119\n",
      "7500 0.3693095\n",
      "7600 0.3688267\n",
      "7700 0.36836246\n",
      "7800 0.36791572\n",
      "7900 0.36748564\n",
      "8000 0.36707133\n",
      "8100 0.3666719\n",
      "8200 0.36628658\n",
      "8300 0.36591476\n",
      "8400 0.36555576\n",
      "8500 0.36520892\n",
      "8600 0.36487362\n",
      "8700 0.36454934\n",
      "8800 0.36423558\n",
      "8900 0.36393186\n",
      "9000 0.3636378\n",
      "9100 0.36335284\n",
      "9200 0.3630765\n",
      "9300 0.36280864\n",
      "9400 0.3625488\n",
      "9500 0.36229658\n",
      "9600 0.36205167\n",
      "9700 0.36181384\n",
      "9800 0.3615827\n",
      "9900 0.36135805\n",
      "10000 0.3611396\n"
     ]
    }
   ],
   "source": [
    "sess = tf.Session()\n",
    "sess.run(tf.global_variables_initializer())\n",
    "\n",
    "for step in range(10001):\n",
    "    sess.run(train, feed_dict={X:x_data, Y:y_data})\n",
    "    if(step % 100 == 0):\n",
    "        print(step, sess.run(cost, feed_dict={X:x_data, Y:y_data}))"
   ]
  },
  {
   "cell_type": "code",
   "execution_count": 10,
   "metadata": {},
   "outputs": [
    {
     "name": "stdout",
     "output_type": "stream",
     "text": [
      "model:  [[0.50126404]\n",
      " [0.4891497 ]\n",
      " [0.9880333 ]\n",
      " [0.02151948]] correct :  [[1.]\n",
      " [0.]\n",
      " [1.]\n",
      " [0.]] accuracy :  0.5\n"
     ]
    }
   ],
   "source": [
    "# 정확도\n",
    "h, c, a = sess.run([model, predicted, accuracy],feed_dict={X:x_data, Y:y_data})\n",
    "print(\"model: \", h , \"correct : \" , c , \"accuracy : \", a)"
   ]
  },
  {
   "cell_type": "code",
   "execution_count": null,
   "metadata": {},
   "outputs": [],
   "source": []
  },
  {
   "cell_type": "code",
   "execution_count": null,
   "metadata": {},
   "outputs": [],
   "source": []
  },
  {
   "cell_type": "code",
   "execution_count": null,
   "metadata": {},
   "outputs": [],
   "source": []
  },
  {
   "cell_type": "code",
   "execution_count": null,
   "metadata": {},
   "outputs": [],
   "source": []
  },
  {
   "cell_type": "code",
   "execution_count": null,
   "metadata": {},
   "outputs": [],
   "source": []
  }
 ],
 "metadata": {
  "kernelspec": {
   "display_name": "Python 3",
   "language": "python",
   "name": "python3"
  },
  "language_info": {
   "codemirror_mode": {
    "name": "ipython",
    "version": 3
   },
   "file_extension": ".py",
   "mimetype": "text/x-python",
   "name": "python",
   "nbconvert_exporter": "python",
   "pygments_lexer": "ipython3",
   "version": "3.6.7"
  }
 },
 "nbformat": 4,
 "nbformat_minor": 2
}
