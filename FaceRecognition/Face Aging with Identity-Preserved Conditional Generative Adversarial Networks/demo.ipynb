{
 "cells": [
  {
   "cell_type": "code",
   "execution_count": 5,
   "metadata": {},
   "outputs": [
    {
     "name": "stdout",
     "output_type": "stream",
     "text": [
      "('11-20', 9647, 17060, 146386)\r\n",
      "('21-30', 40750, 16609, 146837)\r\n",
      "('31-40', 43176, 4317, 38859)\r\n",
      "('41-50', 39819, 3981, 35838)\r\n",
      "('50+', 30054, 3005, 27049)\r\n"
     ]
    }
   ],
   "source": [
    "!python ge.py"
   ]
  },
  {
   "cell_type": "code",
   "execution_count": 6,
   "metadata": {
    "scrolled": true
   },
   "outputs": [
    {
     "name": "stdout",
     "output_type": "stream",
     "text": [
      "Traceback (most recent call last):\r\n",
      "  File \"test.py\", line 8, in <module>\r\n",
      "    from models import FaceAging\r\n",
      "  File \"/notebooks/Face-Aging-with-Identity-Preserved-Conditional-Generative-Adversarial-Networks/models.py\", line 33\r\n",
      "SyntaxError: Non-ASCII character '\\xeb' in file /notebooks/Face-Aging-with-Identity-Preserved-Conditional-Generative-Adversarial-Networks/models.py on line 33, but no encoding declared; see http://python.org/dev/peps/pep-0263/ for details\r\n"
     ]
    }
   ],
   "source": [
    "!python test.py"
   ]
  },
  {
   "cell_type": "code",
   "execution_count": null,
   "metadata": {},
   "outputs": [],
   "source": []
  }
 ],
 "metadata": {
  "kernelspec": {
   "display_name": "Python 2",
   "language": "python",
   "name": "python2"
  },
  "language_info": {
   "codemirror_mode": {
    "name": "ipython",
    "version": 2
   },
   "file_extension": ".py",
   "mimetype": "text/x-python",
   "name": "python",
   "nbconvert_exporter": "python",
   "pygments_lexer": "ipython2",
   "version": "2.7.12"
  }
 },
 "nbformat": 4,
 "nbformat_minor": 2
}
