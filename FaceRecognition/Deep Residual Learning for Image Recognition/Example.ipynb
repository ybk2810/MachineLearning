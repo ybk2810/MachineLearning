{
 "cells": [
  {
   "cell_type": "code",
   "execution_count": 1,
   "metadata": {},
   "outputs": [
    {
     "name": "stderr",
     "output_type": "stream",
     "text": [
      "Using TensorFlow backend.\n"
     ]
    },
    {
     "name": "stdout",
     "output_type": "stream",
     "text": [
      "Weights loading: resnet152_imagenet_1000.h5\n",
      "\n",
      "Egyptian_cat: 0.43821186\n",
      "tiger_cat: 0.21168566\n",
      "tabby: 0.15722862\n",
      "lynx: 0.06634294\n",
      "plastic_bag: 0.012953085\n"
     ]
    }
   ],
   "source": [
    "#https://github.com/qubvel/classification_models\n",
    "#!pip install opencv-python\n",
    "#!apt update && apt install -y libsm6 libxext6\n",
    "#!apt-get install -y libxrender-dev\n",
    "\n",
    "import numpy as np\n",
    "import cv2\n",
    "import matplotlib.pyplot as plt\n",
    "from keras.applications.imagenet_utils import decode_predictions\n",
    "from classification_models import ResNet152\n",
    "from classification_models.resnet import preprocess_input\n",
    "\n",
    "# read and prepare image\n",
    "x = cv2.imread('./imgs/tests/Cat_1.jpg')\n",
    "x_image = cv2.resize(x, (224, 224))\n",
    "x_img_rgb = cv2.cvtColor(x_image, cv2.COLOR_BGR2RGB)\n",
    "x = preprocess_input(x_image)\n",
    "x = np.expand_dims(x, 0)\n",
    "\n",
    "# load model - This will take < 10 min since we have to download weights (about 240 Mb)\n",
    "model = ResNet152(input_shape=(224,224,3), weights='imagenet', classes=1000)\n",
    "\n",
    "# processing image\n",
    "y = model.predict(x)\n",
    "\n",
    "# result\n",
    "predictions_array = decode_predictions(y)[0]\n",
    "\n",
    "# visualize\n",
    "\n",
    "#x_cord = 10\n",
    "#y_cord = 10\n",
    "#font = cv2.FONT_HERSHEY_SIMPLEX\n",
    "#position = (x_cord,y_cord)\n",
    "#fontScale = 0.5\n",
    "#fontColor = (255,0,0)\n",
    "#lineType = 2\n",
    "\n",
    "plt.imshow(x_img_rgb)\n",
    "\n",
    "for pred in predictions_array:\n",
    "    _,class_name, pred_num = pred\n",
    "    text = class_name + ': ' + str(pred_num)\n",
    "    print(text)\n",
    "    \n",
    "    #cv2.putText(x_img_rgb, text, position, font, fontScale, fontColor, lineType)\n",
    "    #y_cord += 30\n",
    "    #position = (x_cord, y_cord)\n",
    "\n",
    "#plt.imshow(x_img_rgb)\n",
    "    "
   ]
  },
  {
   "cell_type": "code",
   "execution_count": null,
   "metadata": {},
   "outputs": [],
   "source": []
  }
 ],
 "metadata": {
  "kernelspec": {
   "display_name": "Python 3",
   "language": "python",
   "name": "python3"
  },
  "language_info": {
   "codemirror_mode": {
    "name": "ipython",
    "version": 3
   },
   "file_extension": ".py",
   "mimetype": "text/x-python",
   "name": "python",
   "nbconvert_exporter": "python",
   "pygments_lexer": "ipython3",
   "version": "3.5.2"
  }
 },
 "nbformat": 4,
 "nbformat_minor": 2
}
