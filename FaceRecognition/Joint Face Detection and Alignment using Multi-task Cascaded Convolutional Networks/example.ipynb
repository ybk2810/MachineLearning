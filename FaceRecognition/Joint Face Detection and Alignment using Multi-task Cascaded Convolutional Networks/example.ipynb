{
 "cells": [
  {
   "cell_type": "code",
   "execution_count": 1,
   "metadata": {},
   "outputs": [
    {
     "name": "stdout",
     "output_type": "stream",
     "text": [
      "2019-01-05 10:46:29.948799: I tensorflow/core/platform/cpu_feature_guard.cc:141] Your CPU supports instructions that this TensorFlow binary was not compiled to use: AVX2 FMA\n",
      "2019-01-05 10:46:30.120389: I tensorflow/stream_executor/cuda/cuda_gpu_executor.cc:964] successful NUMA node read from SysFS had negative value (-1), but there must be at least one NUMA node, so returning NUMA node zero\n",
      "2019-01-05 10:46:30.120827: I tensorflow/core/common_runtime/gpu/gpu_device.cc:1432] Found device 0 with properties: \n",
      "name: GeForce RTX 2080 Ti major: 7 minor: 5 memoryClockRate(GHz): 1.65\n",
      "pciBusID: 0000:01:00.0\n",
      "totalMemory: 10.73GiB freeMemory: 10.15GiB\n",
      "2019-01-05 10:46:30.120843: I tensorflow/core/common_runtime/gpu/gpu_device.cc:1511] Adding visible gpu devices: 0\n",
      "2019-01-05 10:46:31.296451: I tensorflow/core/common_runtime/gpu/gpu_device.cc:982] Device interconnect StreamExecutor with strength 1 edge matrix:\n",
      "2019-01-05 10:46:31.296539: I tensorflow/core/common_runtime/gpu/gpu_device.cc:988]      0 \n",
      "2019-01-05 10:46:31.296585: I tensorflow/core/common_runtime/gpu/gpu_device.cc:1001] 0:   N \n",
      "2019-01-05 10:46:31.297194: I tensorflow/core/common_runtime/gpu/gpu_device.cc:1115] Created TensorFlow device (/job:localhost/replica:0/task:0/device:GPU:0 with 9796 MB memory) -> physical GPU (device: 0, name: GeForce RTX 2080 Ti, pci bus id: 0000:01:00.0, compute capability: 7.5)\n",
      "[{'confidence': 0.9985198378562927, 'box': [277, 90, 48, 63], 'keypoints': {'left_eye': (291, 117), 'right_eye': (314, 114), 'mouth_right': (313, 141), 'mouth_left': (296, 143), 'nose': (303, 131)}}]\n"
     ]
    }
   ],
   "source": [
    "!python example.py"
   ]
  },
  {
   "cell_type": "code",
   "execution_count": null,
   "metadata": {},
   "outputs": [],
   "source": []
  }
 ],
 "metadata": {
  "kernelspec": {
   "display_name": "Python 3",
   "language": "python",
   "name": "python3"
  },
  "language_info": {
   "codemirror_mode": {
    "name": "ipython",
    "version": 3
   },
   "file_extension": ".py",
   "mimetype": "text/x-python",
   "name": "python",
   "nbconvert_exporter": "python",
   "pygments_lexer": "ipython3",
   "version": "3.5.2"
  }
 },
 "nbformat": 4,
 "nbformat_minor": 2
}
