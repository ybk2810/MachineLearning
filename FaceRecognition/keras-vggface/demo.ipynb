{
 "cells": [
  {
   "cell_type": "code",
   "execution_count": 2,
   "metadata": {},
   "outputs": [
    {
     "name": "stdout",
     "output_type": "stream",
     "text": [
      "Predicted: [[[\"b'A.J._Buckley'\", 0.9790102], [\"b'David_Denman'\", 0.0014457329], [\"b'Carmine_Giovinazzo'\", 0.0008676515], [\"b'Robert_Buckley'\", 0.00072456704], [\"b'Eddie_Cahill'\", 0.00041833008]]]\n"
     ]
    }
   ],
   "source": [
    "import numpy as np\n",
    "from keras.preprocessing import image\n",
    "from keras_vggface.vggface import VGGFace\n",
    "from keras_vggface import utils\n",
    "\n",
    "# tensorflow\n",
    "model = VGGFace() # default : VGG16 , you can use model='resnet50' or 'senet50'\n",
    "\n",
    "# Change the image path with yours.\n",
    "img = image.load_img('./image/ajb.jpg', target_size=(224, 224))\n",
    "x = image.img_to_array(img)\n",
    "x = np.expand_dims(x, axis=0)\n",
    "x = utils.preprocess_input(x, version=1) # or version=2\n",
    "preds = model.predict(x)\n",
    "print('Predicted:', utils.decode_predictions(preds))"
   ]
  },
  {
   "cell_type": "code",
   "execution_count": null,
   "metadata": {},
   "outputs": [],
   "source": []
  }
 ],
 "metadata": {
  "kernelspec": {
   "display_name": "Python 3",
   "language": "python",
   "name": "python3"
  },
  "language_info": {
   "codemirror_mode": {
    "name": "ipython",
    "version": 3
   },
   "file_extension": ".py",
   "mimetype": "text/x-python",
   "name": "python",
   "nbconvert_exporter": "python",
   "pygments_lexer": "ipython3",
   "version": "3.5.2"
  }
 },
 "nbformat": 4,
 "nbformat_minor": 2
}
