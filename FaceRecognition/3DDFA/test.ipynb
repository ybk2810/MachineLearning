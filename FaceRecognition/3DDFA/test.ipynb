{
 "cells": [
  {
   "cell_type": "code",
   "execution_count": 3,
   "metadata": {},
   "outputs": [
    {
     "name": "stdout",
     "output_type": "stream",
     "text": [
      "Dump tp test/two_0.ply\n",
      "Save 68 3d landmarks to test/two_0.txt\n",
      "Dump tp test/two_1.ply\n",
      "Save 68 3d landmarks to test/two_1.txt\n",
      "Dump to test/two_pose.jpg\n",
      "Save visualization result to test/two_3DDFA.jpg\n",
      "Figure(1200x632.504)\n"
     ]
    }
   ],
   "source": [
    "!python3 main.py -f test/two.jpg"
   ]
  },
  {
   "cell_type": "code",
   "execution_count": 4,
   "metadata": {},
   "outputs": [
    {
     "name": "stdout",
     "output_type": "stream",
     "text": [
      "Dump tp test_fy/Ronaldo_0.ply\n",
      "Save 68 3d landmarks to test_fy/Ronaldo_0.txt\n",
      "Dump to test_fy/Ronaldo_pose.jpg\n",
      "Save visualization result to test_fy/Ronaldo_3DDFA.jpg\n",
      "Figure(1200x800.816)\n"
     ]
    }
   ],
   "source": [
    "!python3 main.py -f test_fy/Ronaldo.jpg"
   ]
  },
  {
   "cell_type": "code",
   "execution_count": null,
   "metadata": {},
   "outputs": [],
   "source": []
  }
 ],
 "metadata": {
  "kernelspec": {
   "display_name": "Python 3",
   "language": "python",
   "name": "python3"
  },
  "language_info": {
   "codemirror_mode": {
    "name": "ipython",
    "version": 3
   },
   "file_extension": ".py",
   "mimetype": "text/x-python",
   "name": "python",
   "nbconvert_exporter": "python",
   "pygments_lexer": "ipython3",
   "version": "3.5.2"
  }
 },
 "nbformat": 4,
 "nbformat_minor": 2
}
